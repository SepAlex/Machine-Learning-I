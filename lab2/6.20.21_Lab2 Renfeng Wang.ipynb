{
 "cells": [
  {
   "cell_type": "markdown",
   "id": "49f140c4",
   "metadata": {},
   "source": [
    "# Ariline Customer Satisfaction (Lab 2: DS7331)\n",
    "\n",
    "SMU Student collaboration:\n",
    "1. Renfeng Wang\n",
    "2. Alexander Sepenu\n",
    "3. Zachary Zaiken\n",
    "4. Venkata 'MG' Vanga\n",
    "---------------------------------------------\n",
    "\n",
    "\n",
    "In continuation of the discussion from Mini Lab, we continue with the Airline customer satisfaction data set for this Lab 2 to focus on more classification models and apply models to a different attribute."
   ]
  },
  {
   "cell_type": "markdown",
   "id": "f46ea68d",
   "metadata": {},
   "source": [
    "## 1. Data Preparation\n",
    "\n",
    "The code below shows one-hot encoding, PCA and how we split the explanatory variable and response variable. In lab 2, we are still going to use statisfaction attriburte as our response variable. In addition, we will try to predict whether the customer found the flight to be clean or not. Thus, we will have two sets of explanatory variable and response variable.\t"
   ]
  },
  {
   "cell_type": "markdown",
   "id": "0e301237",
   "metadata": {},
   "source": [
    "### A. Create explanatory variable and response variable split for satisfaction variable"
   ]
  },
  {
   "cell_type": "code",
   "execution_count": 3,
   "id": "dbb6efea",
   "metadata": {},
   "outputs": [
    {
     "name": "stdout",
     "output_type": "stream",
     "text": [
      "<class 'pandas.core.frame.DataFrame'>\n",
      "Int64Index: 129487 entries, 0 to 129879\n",
      "Data columns (total 36 columns):\n",
      " #   Column                             Non-Null Count   Dtype\n",
      "---  ------                             --------------   -----\n",
      " 0   inflight_wifi_service              129487 non-null  int64\n",
      " 1   departure_arrival_time_convenient  129487 non-null  int64\n",
      " 2   ease_of_online_booking             129487 non-null  int64\n",
      " 3   gate_location                      129487 non-null  int64\n",
      " 4   food_and_drink                     129487 non-null  int64\n",
      " 5   online_boarding                    129487 non-null  int64\n",
      " 6   seat_comfort                       129487 non-null  int64\n",
      " 7   inflight_entertainment             129487 non-null  int64\n",
      " 8   onboard_service                    129487 non-null  int64\n",
      " 9   leg_room_service                   129487 non-null  int64\n",
      " 10  baggage_handling                   129487 non-null  int64\n",
      " 11  checkin_service                    129487 non-null  int64\n",
      " 12  inflight_service                   129487 non-null  int64\n",
      " 13  cleanliness                        129487 non-null  int64\n",
      " 14  Gender_Female                      129487 non-null  uint8\n",
      " 15  Gender_Male                        129487 non-null  uint8\n",
      " 16  customer_type_Loyal Customer       129487 non-null  uint8\n",
      " 17  customer_type_disloyal Customer    129487 non-null  uint8\n",
      " 18  type_of_travel_Business travel     129487 non-null  uint8\n",
      " 19  type_of_travel_Personal Travel     129487 non-null  uint8\n",
      " 20  customer_class_Business            129487 non-null  uint8\n",
      " 21  customer_class_Eco                 129487 non-null  uint8\n",
      " 22  customer_class_Eco Plus            129487 non-null  uint8\n",
      " 23  flight_range_0                     129487 non-null  uint8\n",
      " 24  flight_range_1                     129487 non-null  uint8\n",
      " 25  flight_range_2                     129487 non-null  uint8\n",
      " 26  departure_delay_range_0            129487 non-null  uint8\n",
      " 27  departure_delay_range_1            129487 non-null  uint8\n",
      " 28  departure_delay_range_2            129487 non-null  uint8\n",
      " 29  arrival_delay_range_0              129487 non-null  uint8\n",
      " 30  arrival_delay_range_1              129487 non-null  uint8\n",
      " 31  arrival_delay_range_2              129487 non-null  uint8\n",
      " 32  age_range_0                        129487 non-null  uint8\n",
      " 33  age_range_1                        129487 non-null  uint8\n",
      " 34  age_range_2                        129487 non-null  uint8\n",
      " 35  satisfaction                       129487 non-null  int64\n",
      "dtypes: int64(15), uint8(21)\n",
      "memory usage: 18.4 MB\n"
     ]
    }
   ],
   "source": [
    "import pandas as pd\n",
    "import numpy as np\n",
    "import warnings\n",
    "warnings.filterwarnings('ignore')\n",
    "\n",
    "airline_df = pd.read_csv('https://raw.githubusercontent.com/wangrenfeng0/Machine-Learning-I/main/airline_passenger_satisfaction.csv') \n",
    "\n",
    "if 'Unnamed: 0' in airline_df:\n",
    "    del airline_df['Unnamed: 0']\n",
    "\n",
    "airline_df = airline_df.dropna()\n",
    "\n",
    "Satisfaction ={'neutral or dissatisfied':0,'satisfied':1}\n",
    "airline_df.satisfaction = [Satisfaction[item] for item in airline_df.satisfaction]\n",
    "\n",
    "airline_df['flight_range'] = pd.cut(airline_df.flight_distance,[0,750,2000,10000],3,labels=[0,1,2])\n",
    "airline_df.flight_range = airline_df.flight_range.astype(int)\n",
    "\n",
    "airline_df['departure_delay_range'] = pd.cut(airline_df.departure_delay_in_minutes,[-1,30,90,1600],3,labels=[0,1,2])\n",
    "airline_df.departure_delay_range = airline_df.departure_delay_range.astype(int)\n",
    "\n",
    "airline_df['arrival_delay_range'] = pd.cut(airline_df.arrival_delay_in_minutes,[-1,30,90,1600],3,labels=[0,1,2])\n",
    "airline_df.arrival_delay_range = airline_df.arrival_delay_range.astype(int)\n",
    "\n",
    "airline_df['age_range'] = pd.cut(airline_df.age,[0,16,65,120],3,labels=[0,1,2])\n",
    "airline_df.age_range = airline_df.age_range.astype(int)\n",
    "\n",
    "X_a = airline_df.drop('satisfaction', axis=1).copy()\n",
    "\n",
    "\n",
    "y_a= airline_df['satisfaction'].copy()\n",
    "\n",
    "    \n",
    "X_a = pd.get_dummies(X_a, columns=['Gender', 'customer_type','type_of_travel','customer_class',\n",
    "                                       'flight_range','departure_delay_range','arrival_delay_range',\n",
    "                                       'age_range'])\n",
    "\n",
    "if 'Gender' in X_a:\n",
    "    del X_a['Gender'] \n",
    "    \n",
    "if 'customer_type' in X_a:    \n",
    "    del X_a['customer_type'] \n",
    "\n",
    "if 'age' in X_a:    \n",
    "    del X_a['age'] \n",
    "    \n",
    "if 'type_of_travel' in X_a:    \n",
    "    del X_a['type_of_travel'] \n",
    "    \n",
    "if 'customer_class' in X_a:    \n",
    "    del X_a['customer_class'] \n",
    "    \n",
    "if 'flight_distance' in X_a:    \n",
    "    del X_a['flight_distance'] \n",
    "\n",
    "if 'departure_delay_in_minutes' in X_a:    \n",
    "    del X_a['departure_delay_in_minutes'] \n",
    "    \n",
    "if 'arrival_delay_in_minutes' in X_a:    \n",
    "    del X_a['arrival_delay_in_minutes'] \n",
    "\n",
    "airline_df_dummy_satisfied = pd.concat((X_a,y_a),axis=1)\n",
    "airline_df_dummy_satisfied.info()"
   ]
  },
  {
   "cell_type": "code",
   "execution_count": 4,
   "id": "88cc7e1d",
   "metadata": {},
   "outputs": [
    {
     "data": {
      "text/html": [
       "<div>\n",
       "<style scoped>\n",
       "    .dataframe tbody tr th:only-of-type {\n",
       "        vertical-align: middle;\n",
       "    }\n",
       "\n",
       "    .dataframe tbody tr th {\n",
       "        vertical-align: top;\n",
       "    }\n",
       "\n",
       "    .dataframe thead th {\n",
       "        text-align: right;\n",
       "    }\n",
       "</style>\n",
       "<table border=\"1\" class=\"dataframe\">\n",
       "  <thead>\n",
       "    <tr style=\"text-align: right;\">\n",
       "      <th></th>\n",
       "      <th>inflight_wifi_service</th>\n",
       "      <th>departure_arrival_time_convenient</th>\n",
       "      <th>ease_of_online_booking</th>\n",
       "      <th>gate_location</th>\n",
       "      <th>food_and_drink</th>\n",
       "      <th>online_boarding</th>\n",
       "      <th>seat_comfort</th>\n",
       "      <th>inflight_entertainment</th>\n",
       "      <th>onboard_service</th>\n",
       "      <th>leg_room_service</th>\n",
       "      <th>...</th>\n",
       "      <th>departure_delay_range_0</th>\n",
       "      <th>departure_delay_range_1</th>\n",
       "      <th>departure_delay_range_2</th>\n",
       "      <th>arrival_delay_range_0</th>\n",
       "      <th>arrival_delay_range_1</th>\n",
       "      <th>arrival_delay_range_2</th>\n",
       "      <th>age_range_0</th>\n",
       "      <th>age_range_1</th>\n",
       "      <th>age_range_2</th>\n",
       "      <th>satisfaction</th>\n",
       "    </tr>\n",
       "  </thead>\n",
       "  <tbody>\n",
       "    <tr>\n",
       "      <th>0</th>\n",
       "      <td>3</td>\n",
       "      <td>4</td>\n",
       "      <td>3</td>\n",
       "      <td>1</td>\n",
       "      <td>5</td>\n",
       "      <td>3</td>\n",
       "      <td>5</td>\n",
       "      <td>5</td>\n",
       "      <td>4</td>\n",
       "      <td>3</td>\n",
       "      <td>...</td>\n",
       "      <td>1</td>\n",
       "      <td>0</td>\n",
       "      <td>0</td>\n",
       "      <td>1</td>\n",
       "      <td>0</td>\n",
       "      <td>0</td>\n",
       "      <td>1</td>\n",
       "      <td>0</td>\n",
       "      <td>0</td>\n",
       "      <td>0</td>\n",
       "    </tr>\n",
       "    <tr>\n",
       "      <th>1</th>\n",
       "      <td>3</td>\n",
       "      <td>2</td>\n",
       "      <td>3</td>\n",
       "      <td>3</td>\n",
       "      <td>1</td>\n",
       "      <td>3</td>\n",
       "      <td>1</td>\n",
       "      <td>1</td>\n",
       "      <td>1</td>\n",
       "      <td>5</td>\n",
       "      <td>...</td>\n",
       "      <td>1</td>\n",
       "      <td>0</td>\n",
       "      <td>0</td>\n",
       "      <td>1</td>\n",
       "      <td>0</td>\n",
       "      <td>0</td>\n",
       "      <td>0</td>\n",
       "      <td>1</td>\n",
       "      <td>0</td>\n",
       "      <td>0</td>\n",
       "    </tr>\n",
       "    <tr>\n",
       "      <th>2</th>\n",
       "      <td>2</td>\n",
       "      <td>2</td>\n",
       "      <td>2</td>\n",
       "      <td>2</td>\n",
       "      <td>5</td>\n",
       "      <td>5</td>\n",
       "      <td>5</td>\n",
       "      <td>5</td>\n",
       "      <td>4</td>\n",
       "      <td>3</td>\n",
       "      <td>...</td>\n",
       "      <td>1</td>\n",
       "      <td>0</td>\n",
       "      <td>0</td>\n",
       "      <td>1</td>\n",
       "      <td>0</td>\n",
       "      <td>0</td>\n",
       "      <td>0</td>\n",
       "      <td>1</td>\n",
       "      <td>0</td>\n",
       "      <td>1</td>\n",
       "    </tr>\n",
       "    <tr>\n",
       "      <th>3</th>\n",
       "      <td>2</td>\n",
       "      <td>5</td>\n",
       "      <td>5</td>\n",
       "      <td>5</td>\n",
       "      <td>2</td>\n",
       "      <td>2</td>\n",
       "      <td>2</td>\n",
       "      <td>2</td>\n",
       "      <td>2</td>\n",
       "      <td>5</td>\n",
       "      <td>...</td>\n",
       "      <td>1</td>\n",
       "      <td>0</td>\n",
       "      <td>0</td>\n",
       "      <td>1</td>\n",
       "      <td>0</td>\n",
       "      <td>0</td>\n",
       "      <td>0</td>\n",
       "      <td>1</td>\n",
       "      <td>0</td>\n",
       "      <td>0</td>\n",
       "    </tr>\n",
       "    <tr>\n",
       "      <th>4</th>\n",
       "      <td>3</td>\n",
       "      <td>3</td>\n",
       "      <td>3</td>\n",
       "      <td>3</td>\n",
       "      <td>4</td>\n",
       "      <td>5</td>\n",
       "      <td>5</td>\n",
       "      <td>3</td>\n",
       "      <td>3</td>\n",
       "      <td>4</td>\n",
       "      <td>...</td>\n",
       "      <td>1</td>\n",
       "      <td>0</td>\n",
       "      <td>0</td>\n",
       "      <td>1</td>\n",
       "      <td>0</td>\n",
       "      <td>0</td>\n",
       "      <td>0</td>\n",
       "      <td>1</td>\n",
       "      <td>0</td>\n",
       "      <td>1</td>\n",
       "    </tr>\n",
       "  </tbody>\n",
       "</table>\n",
       "<p>5 rows × 36 columns</p>\n",
       "</div>"
      ],
      "text/plain": [
       "   inflight_wifi_service  departure_arrival_time_convenient  \\\n",
       "0                      3                                  4   \n",
       "1                      3                                  2   \n",
       "2                      2                                  2   \n",
       "3                      2                                  5   \n",
       "4                      3                                  3   \n",
       "\n",
       "   ease_of_online_booking  gate_location  food_and_drink  online_boarding  \\\n",
       "0                       3              1               5                3   \n",
       "1                       3              3               1                3   \n",
       "2                       2              2               5                5   \n",
       "3                       5              5               2                2   \n",
       "4                       3              3               4                5   \n",
       "\n",
       "   seat_comfort  inflight_entertainment  onboard_service  leg_room_service  \\\n",
       "0             5                       5                4                 3   \n",
       "1             1                       1                1                 5   \n",
       "2             5                       5                4                 3   \n",
       "3             2                       2                2                 5   \n",
       "4             5                       3                3                 4   \n",
       "\n",
       "   ...  departure_delay_range_0  departure_delay_range_1  \\\n",
       "0  ...                        1                        0   \n",
       "1  ...                        1                        0   \n",
       "2  ...                        1                        0   \n",
       "3  ...                        1                        0   \n",
       "4  ...                        1                        0   \n",
       "\n",
       "   departure_delay_range_2  arrival_delay_range_0  arrival_delay_range_1  \\\n",
       "0                        0                      1                      0   \n",
       "1                        0                      1                      0   \n",
       "2                        0                      1                      0   \n",
       "3                        0                      1                      0   \n",
       "4                        0                      1                      0   \n",
       "\n",
       "   arrival_delay_range_2  age_range_0  age_range_1  age_range_2  satisfaction  \n",
       "0                      0            1            0            0             0  \n",
       "1                      0            0            1            0             0  \n",
       "2                      0            0            1            0             1  \n",
       "3                      0            0            1            0             0  \n",
       "4                      0            0            1            0             1  \n",
       "\n",
       "[5 rows x 36 columns]"
      ]
     },
     "execution_count": 4,
     "metadata": {},
     "output_type": "execute_result"
    }
   ],
   "source": [
    "X_a = X_a.values\n",
    "y_a= y_a.values\n",
    "airline_df_dummy_satisfied.head()"
   ]
  },
  {
   "cell_type": "markdown",
   "id": "ac055a83",
   "metadata": {},
   "source": [
    "### B. Create explanatory variable and response variable split for cleanliness variable"
   ]
  },
  {
   "cell_type": "code",
   "execution_count": 5,
   "id": "9fd47f8f",
   "metadata": {},
   "outputs": [
    {
     "name": "stdout",
     "output_type": "stream",
     "text": [
      "<class 'pandas.core.frame.DataFrame'>\n",
      "Int64Index: 129487 entries, 0 to 129879\n",
      "Data columns (total 33 columns):\n",
      " #   Column                             Non-Null Count   Dtype\n",
      "---  ------                             --------------   -----\n",
      " 0   inflight_wifi_service              129487 non-null  int64\n",
      " 1   departure_arrival_time_convenient  129487 non-null  int64\n",
      " 2   ease_of_online_booking             129487 non-null  int64\n",
      " 3   gate_location                      129487 non-null  int64\n",
      " 4   food_and_drink                     129487 non-null  int64\n",
      " 5   online_boarding                    129487 non-null  int64\n",
      " 6   seat_comfort                       129487 non-null  int64\n",
      " 7   inflight_entertainment             129487 non-null  int64\n",
      " 8   onboard_service                    129487 non-null  int64\n",
      " 9   leg_room_service                   129487 non-null  int64\n",
      " 10  baggage_handling                   129487 non-null  int64\n",
      " 11  checkin_service                    129487 non-null  int64\n",
      " 12  inflight_service                   129487 non-null  int64\n",
      " 13  departure_delay_range              129487 non-null  int32\n",
      " 14  arrival_delay_range                129487 non-null  int32\n",
      " 15  Gender_Female                      129487 non-null  uint8\n",
      " 16  Gender_Male                        129487 non-null  uint8\n",
      " 17  customer_type_Loyal Customer       129487 non-null  uint8\n",
      " 18  customer_type_disloyal Customer    129487 non-null  uint8\n",
      " 19  type_of_travel_Business travel     129487 non-null  uint8\n",
      " 20  type_of_travel_Personal Travel     129487 non-null  uint8\n",
      " 21  customer_class_Business            129487 non-null  uint8\n",
      " 22  customer_class_Eco                 129487 non-null  uint8\n",
      " 23  customer_class_Eco Plus            129487 non-null  uint8\n",
      " 24  flight_range_0                     129487 non-null  uint8\n",
      " 25  flight_range_1                     129487 non-null  uint8\n",
      " 26  flight_range_2                     129487 non-null  uint8\n",
      " 27  age_range_0                        129487 non-null  uint8\n",
      " 28  age_range_1                        129487 non-null  uint8\n",
      " 29  age_range_2                        129487 non-null  uint8\n",
      " 30  satisfaction_0                     129487 non-null  uint8\n",
      " 31  satisfaction_1                     129487 non-null  uint8\n",
      " 32  clean                              129487 non-null  int32\n",
      "dtypes: int32(3), int64(13), uint8(17)\n",
      "memory usage: 17.4 MB\n"
     ]
    }
   ],
   "source": [
    "airline_df['clean'] = pd.cut(airline_df.cleanliness,[-1,2,6],2,labels=[0,1])\n",
    "airline_df['clean'] = airline_df['clean'].astype(int)\n",
    "\n",
    "X_b = airline_df.drop(['clean', 'cleanliness'], axis=1).copy()\n",
    "\n",
    "\n",
    "y_b= airline_df['clean'].copy()\n",
    "\n",
    "    \n",
    "X_b = pd.get_dummies(X_b, columns=['Gender', 'customer_type','type_of_travel','customer_class',\n",
    "                                       'flight_range','age_range','satisfaction'])\n",
    "\n",
    "if 'Gender' in X_b:\n",
    "    del X_a['Gender'] \n",
    "    \n",
    "if 'customer_type' in X_b:    \n",
    "    del X_b['customer_type'] \n",
    "\n",
    "if 'age' in X_b:    \n",
    "    del X_b['age'] \n",
    "    \n",
    "if 'type_of_travel' in X_b:    \n",
    "    del X_b['type_of_travel'] \n",
    "    \n",
    "if 'customer_class' in X_b:    \n",
    "    del X_b['customer_class'] \n",
    "    \n",
    "if 'flight_distance' in X_b:    \n",
    "    del X_b['flight_distance'] \n",
    "\n",
    "if 'departure_delay_in_minutes' in X_b:    \n",
    "    del X_b['departure_delay_in_minutes'] \n",
    "    \n",
    "if 'arrival_delay_in_minutes' in X_b:    \n",
    "    del X_b['arrival_delay_in_minutes'] \n",
    "\n",
    "if 'satisfaction' in X_b:    \n",
    "    del X_b['satisfaction']\n",
    "\n",
    "airline_df_dummy_clean = pd.concat((X_b,y_b),axis=1)\n",
    "airline_df_dummy_clean.info()"
   ]
  },
  {
   "cell_type": "code",
   "execution_count": 6,
   "id": "a3d4257c",
   "metadata": {},
   "outputs": [
    {
     "data": {
      "text/html": [
       "<div>\n",
       "<style scoped>\n",
       "    .dataframe tbody tr th:only-of-type {\n",
       "        vertical-align: middle;\n",
       "    }\n",
       "\n",
       "    .dataframe tbody tr th {\n",
       "        vertical-align: top;\n",
       "    }\n",
       "\n",
       "    .dataframe thead th {\n",
       "        text-align: right;\n",
       "    }\n",
       "</style>\n",
       "<table border=\"1\" class=\"dataframe\">\n",
       "  <thead>\n",
       "    <tr style=\"text-align: right;\">\n",
       "      <th></th>\n",
       "      <th>inflight_wifi_service</th>\n",
       "      <th>departure_arrival_time_convenient</th>\n",
       "      <th>ease_of_online_booking</th>\n",
       "      <th>gate_location</th>\n",
       "      <th>food_and_drink</th>\n",
       "      <th>online_boarding</th>\n",
       "      <th>seat_comfort</th>\n",
       "      <th>inflight_entertainment</th>\n",
       "      <th>onboard_service</th>\n",
       "      <th>leg_room_service</th>\n",
       "      <th>...</th>\n",
       "      <th>customer_class_Eco Plus</th>\n",
       "      <th>flight_range_0</th>\n",
       "      <th>flight_range_1</th>\n",
       "      <th>flight_range_2</th>\n",
       "      <th>age_range_0</th>\n",
       "      <th>age_range_1</th>\n",
       "      <th>age_range_2</th>\n",
       "      <th>satisfaction_0</th>\n",
       "      <th>satisfaction_1</th>\n",
       "      <th>clean</th>\n",
       "    </tr>\n",
       "  </thead>\n",
       "  <tbody>\n",
       "    <tr>\n",
       "      <th>0</th>\n",
       "      <td>3</td>\n",
       "      <td>4</td>\n",
       "      <td>3</td>\n",
       "      <td>1</td>\n",
       "      <td>5</td>\n",
       "      <td>3</td>\n",
       "      <td>5</td>\n",
       "      <td>5</td>\n",
       "      <td>4</td>\n",
       "      <td>3</td>\n",
       "      <td>...</td>\n",
       "      <td>1</td>\n",
       "      <td>1</td>\n",
       "      <td>0</td>\n",
       "      <td>0</td>\n",
       "      <td>1</td>\n",
       "      <td>0</td>\n",
       "      <td>0</td>\n",
       "      <td>1</td>\n",
       "      <td>0</td>\n",
       "      <td>1</td>\n",
       "    </tr>\n",
       "    <tr>\n",
       "      <th>1</th>\n",
       "      <td>3</td>\n",
       "      <td>2</td>\n",
       "      <td>3</td>\n",
       "      <td>3</td>\n",
       "      <td>1</td>\n",
       "      <td>3</td>\n",
       "      <td>1</td>\n",
       "      <td>1</td>\n",
       "      <td>1</td>\n",
       "      <td>5</td>\n",
       "      <td>...</td>\n",
       "      <td>0</td>\n",
       "      <td>1</td>\n",
       "      <td>0</td>\n",
       "      <td>0</td>\n",
       "      <td>0</td>\n",
       "      <td>1</td>\n",
       "      <td>0</td>\n",
       "      <td>1</td>\n",
       "      <td>0</td>\n",
       "      <td>0</td>\n",
       "    </tr>\n",
       "    <tr>\n",
       "      <th>2</th>\n",
       "      <td>2</td>\n",
       "      <td>2</td>\n",
       "      <td>2</td>\n",
       "      <td>2</td>\n",
       "      <td>5</td>\n",
       "      <td>5</td>\n",
       "      <td>5</td>\n",
       "      <td>5</td>\n",
       "      <td>4</td>\n",
       "      <td>3</td>\n",
       "      <td>...</td>\n",
       "      <td>0</td>\n",
       "      <td>0</td>\n",
       "      <td>1</td>\n",
       "      <td>0</td>\n",
       "      <td>0</td>\n",
       "      <td>1</td>\n",
       "      <td>0</td>\n",
       "      <td>0</td>\n",
       "      <td>1</td>\n",
       "      <td>1</td>\n",
       "    </tr>\n",
       "    <tr>\n",
       "      <th>3</th>\n",
       "      <td>2</td>\n",
       "      <td>5</td>\n",
       "      <td>5</td>\n",
       "      <td>5</td>\n",
       "      <td>2</td>\n",
       "      <td>2</td>\n",
       "      <td>2</td>\n",
       "      <td>2</td>\n",
       "      <td>2</td>\n",
       "      <td>5</td>\n",
       "      <td>...</td>\n",
       "      <td>0</td>\n",
       "      <td>1</td>\n",
       "      <td>0</td>\n",
       "      <td>0</td>\n",
       "      <td>0</td>\n",
       "      <td>1</td>\n",
       "      <td>0</td>\n",
       "      <td>1</td>\n",
       "      <td>0</td>\n",
       "      <td>0</td>\n",
       "    </tr>\n",
       "    <tr>\n",
       "      <th>4</th>\n",
       "      <td>3</td>\n",
       "      <td>3</td>\n",
       "      <td>3</td>\n",
       "      <td>3</td>\n",
       "      <td>4</td>\n",
       "      <td>5</td>\n",
       "      <td>5</td>\n",
       "      <td>3</td>\n",
       "      <td>3</td>\n",
       "      <td>4</td>\n",
       "      <td>...</td>\n",
       "      <td>0</td>\n",
       "      <td>1</td>\n",
       "      <td>0</td>\n",
       "      <td>0</td>\n",
       "      <td>0</td>\n",
       "      <td>1</td>\n",
       "      <td>0</td>\n",
       "      <td>0</td>\n",
       "      <td>1</td>\n",
       "      <td>1</td>\n",
       "    </tr>\n",
       "  </tbody>\n",
       "</table>\n",
       "<p>5 rows × 33 columns</p>\n",
       "</div>"
      ],
      "text/plain": [
       "   inflight_wifi_service  departure_arrival_time_convenient  \\\n",
       "0                      3                                  4   \n",
       "1                      3                                  2   \n",
       "2                      2                                  2   \n",
       "3                      2                                  5   \n",
       "4                      3                                  3   \n",
       "\n",
       "   ease_of_online_booking  gate_location  food_and_drink  online_boarding  \\\n",
       "0                       3              1               5                3   \n",
       "1                       3              3               1                3   \n",
       "2                       2              2               5                5   \n",
       "3                       5              5               2                2   \n",
       "4                       3              3               4                5   \n",
       "\n",
       "   seat_comfort  inflight_entertainment  onboard_service  leg_room_service  \\\n",
       "0             5                       5                4                 3   \n",
       "1             1                       1                1                 5   \n",
       "2             5                       5                4                 3   \n",
       "3             2                       2                2                 5   \n",
       "4             5                       3                3                 4   \n",
       "\n",
       "   ...  customer_class_Eco Plus  flight_range_0  flight_range_1  \\\n",
       "0  ...                        1               1               0   \n",
       "1  ...                        0               1               0   \n",
       "2  ...                        0               0               1   \n",
       "3  ...                        0               1               0   \n",
       "4  ...                        0               1               0   \n",
       "\n",
       "   flight_range_2  age_range_0  age_range_1  age_range_2  satisfaction_0  \\\n",
       "0               0            1            0            0               1   \n",
       "1               0            0            1            0               1   \n",
       "2               0            0            1            0               0   \n",
       "3               0            0            1            0               1   \n",
       "4               0            0            1            0               0   \n",
       "\n",
       "   satisfaction_1  clean  \n",
       "0               0      1  \n",
       "1               0      0  \n",
       "2               1      1  \n",
       "3               0      0  \n",
       "4               1      1  \n",
       "\n",
       "[5 rows x 33 columns]"
      ]
     },
     "execution_count": 6,
     "metadata": {},
     "output_type": "execute_result"
    }
   ],
   "source": [
    "X_b = X_b.values\n",
    "y_b= y_b.values\n",
    "airline_df_dummy_clean.head()"
   ]
  },
  {
   "cell_type": "markdown",
   "id": "b110e423",
   "metadata": {},
   "source": [
    "## 2. Modeling and Evaluation\n",
    "\n",
    "### a. Evaluation Metrics"
   ]
  },
  {
   "cell_type": "code",
   "execution_count": 7,
   "id": "2a5b0a15",
   "metadata": {},
   "outputs": [],
   "source": [
    "from sklearn.model_selection import StratifiedKFold\n",
    "from sklearn.preprocessing import StandardScaler\n",
    "from sklearn import metrics as mt\n",
    "from sklearn.decomposition import PCA \n",
    "from sklearn.pipeline import Pipeline\n",
    "from sklearn.model_selection import ShuffleSplit\n",
    "from sklearn.model_selection import cross_validate\n",
    "\n",
    "def EvaluateClassifierEstimator(classifierEstimator, X, y, cv):\n",
    "   \n",
    "    #Perform cross validation \n",
    "    scores = cross_validate(classifierEstimator, X, y, scoring=['accuracy','precision','recall']\n",
    "                            , cv=cv, return_train_score=True)\n",
    "\n",
    "    Accavg = scores['test_accuracy'].mean()\n",
    "    Preavg = scores['test_precision'].mean()\n",
    "    Recavg = scores['test_recall'].mean()\n",
    "\n",
    "    print_str = \"The average accuracy for all cv folds is: \\t\\t\\t {Accavg:.5}\"\n",
    "    print_str2 = \"The average precision for all cv folds is: \\t\\t\\t {Preavg:.5}\"\n",
    "    print_str3 = \"The average recall for all cv folds is: \\t\\t\\t {Recavg:.5}\"\n",
    "\n",
    "    print(print_str.format(Accavg=Accavg))\n",
    "    print(print_str2.format(Preavg=Preavg))\n",
    "    print(print_str3.format(Recavg=Recavg))\n",
    "    print('*********************************************************')\n",
    "\n",
    "    print('Cross Validation Fold Mean Error Scores')\n",
    "    scoresResults = pd.DataFrame()\n",
    "    scoresResults['Accuracy'] = scores['test_accuracy']\n",
    "    scoresResults['Precision'] = scores['test_precision']\n",
    "    scoresResults['Recall'] = scores['test_recall']\n",
    "\n",
    "    return scoresResults\n",
    "\n",
    "def EvaluateClassifierEstimator2(classifierEstimator, X, y, cv):\n",
    "    \n",
    "    #Perform cross validation \n",
    "    from sklearn.model_selection import cross_val_predict\n",
    "    predictions = cross_val_predict(classifierEstimator, X, y, cv=cv)\n",
    "    \n",
    "    #model evaluation \n",
    "    from sklearn.metrics import classification_report, confusion_matrix, accuracy_score\n",
    "    \n",
    "    #pass true test set values and predictions to classification_report\n",
    "    classReport = classification_report(y,predictions)\n",
    "    confMat = confusion_matrix(y,predictions)\n",
    "    acc = accuracy_score(y,predictions)\n",
    "    \n",
    "    print (classReport)\n",
    "    print (confMat)\n",
    "    print (acc)\n"
   ]
  },
  {
   "cell_type": "markdown",
   "id": "b0dadb68",
   "metadata": {},
   "source": [
    "### b. Cross Validation Method\n",
    "\n",
    "For both classification tasks and all models, 10 fold stratified K-fold cross validation will be used.  Using stratified ensures that the same class split percentages across all test and training splits are the same.  This is important as both of these classes are imbalanced (reference histograms below), esecially cleanliness.  This ensures that for all for modeling fitting and testing that the same population split of class is maintained.  K fold also ensures that each test set are independent from one another.  Other methodolgies such as shuffle split will not maintain this independence creating possible bias or overfitting in the model.  Using 10 fold ensures the right balance and tradeoff between variance and bias and will ensure the model and predictions are generated and used responsibly."
   ]
  },
  {
   "cell_type": "code",
   "execution_count": 51,
   "id": "84a8bc70",
   "metadata": {},
   "outputs": [
    {
     "data": {
      "text/plain": [
       "array([<AxesSubplot:title={'center':'clean'}>], dtype=object)"
      ]
     },
     "execution_count": 51,
     "metadata": {},
     "output_type": "execute_result"
    },
    {
     "data": {
      "image/png": "[encoded data removed]",
      "text/plain": [
       "<Figure size 576x576 with 1 Axes>"
      ]
     },
     "metadata": {
      "needs_background": "light"
     },
     "output_type": "display_data"
    }
   ],
   "source": [
    "import pandas as pd\n",
    "import matplotlib.pyplot as plt\n",
    "%matplotlib inline\n",
    "\n",
    "fig, axis = plt.subplots(1,1,figsize=(8, 8))\n",
    "airline_df_dummy_clean[['clean']].hist(ax=axis)\n"
   ]
  },
  {
   "cell_type": "code",
   "execution_count": 53,
   "id": "465b7709",
   "metadata": {},
   "outputs": [
    {
     "data": {
      "text/plain": [
       "array([<AxesSubplot:title={'center':'satisfaction'}>], dtype=object)"
      ]
     },
     "execution_count": 53,
     "metadata": {},
     "output_type": "execute_result"
    },
    {
     "data": {
      "image/png": "[encoded data removed]",
      "text/plain": [
       "<Figure size 576x576 with 1 Axes>"
      ]
     },
     "metadata": {
      "needs_background": "light"
     },
     "output_type": "display_data"
    }
   ],
   "source": [
    "fig, axis = plt.subplots(1,1,figsize=(8, 8))\n",
    "airline_df_dummy_satisfied[['satisfaction']].hist(ax=axis)"
   ]
  },
  {
   "cell_type": "code",
   "execution_count": 54,
   "id": "9b45c810",
   "metadata": {},
   "outputs": [
    {
     "name": "stdout",
     "output_type": "stream",
     "text": [
      "StratifiedKFold(n_splits=10, random_state=5, shuffle=True)\n"
     ]
    }
   ],
   "source": [
    "#Create Scaler\n",
    "scl = StandardScaler()\n",
    "\n",
    "#Split the data\n",
    "cv = StratifiedKFold(n_splits=10,shuffle=True, random_state=5)                     \n",
    "print(cv)"
   ]
  },
  {
   "cell_type": "markdown",
   "id": "1e349e4b",
   "metadata": {},
   "source": [
    "For more complex and computationally expensive models (such as neurel networks, random forests, SVM). A trimmed down sub sample of the datasets are created by taking a random sample of 30,000 records.  This is done to ensure that the grid search and tuning of parameters can be done in a timely manner.  Using the full dataset on this can take hours and is not practical use of time or resources.  The sub sampling is large enough to ensure there is enough training data to create and hypertune accurate models. "
   ]
  },
  {
   "cell_type": "code",
   "execution_count": 43,
   "id": "28b3e415",
   "metadata": {},
   "outputs": [],
   "source": [
    "#Down size the data to 30000 samples for satisfaction classification\n",
    "model_satisfied = airline_df_dummy_satisfied.sample(n = 30000, random_state=5).copy()\n",
    "model_satisfied_y = model_satisfied['satisfaction'].copy()\n",
    "model_satisfied_x = model_satisfied.loc[:, model_satisfied.columns != 'satisfaction'].copy()\n",
    "\n",
    "model_satisfied_x = model_satisfied_x.values\n",
    "model_satisfied_y= model_satisfied_y.values"
   ]
  },
  {
   "cell_type": "code",
   "execution_count": null,
   "id": "0e2f8ecd",
   "metadata": {},
   "outputs": [],
   "source": [
    "#Down size the data to 30000 samples for ease_of_online_booking classification\n",
    "model_clean = airline_df_dummy_clean.sample(n = 30000, random_state=5).copy()\n",
    "model_clean_y = model_clean['clean'].copy()\n",
    "model_clean_x = model_clean.loc[:, model_clean.columns != 'clean'].copy()\n",
    "\n",
    "model_clean_x = model_clean_x.values\n",
    "model_clean_y= model_clean_y.values"
   ]
  },
  {
   "cell_type": "markdown",
   "id": "59a8b1e4",
   "metadata": {},
   "source": [
    "# MG's\n",
    "\n",
    "## Add Two portions of PCA code to show how many components we need\n",
    "\n",
    "## Add info() and describe() for final data\n",
    "\n",
    "## Why we chose to use accuracy, precision and recall as our data measurement\n",
    "\n",
    "## Answer bottom three questions(ROC Curve, pair t test and attributes weight analysis)\n",
    "\n",
    "\n",
    "# Zach's \n",
    "\n",
    "## Why we chose stratified K fold to split the data\n",
    "\n",
    "## Deployment writeup\n",
    "\n",
    "## Bold the exceptional work we did"
   ]
  },
  {
   "cell_type": "code",
   "execution_count": 45,
   "id": "eb42822f",
   "metadata": {},
   "outputs": [
    {
     "name": "stdout",
     "output_type": "stream",
     "text": [
      "Fitting 10 folds for each of 56 candidates, totalling 560 fits\n"
     ]
    },
    {
     "data": {
      "text/plain": [
       "GridSearchCV(cv=ShuffleSplit(n_splits=10, random_state=5, test_size=0.2, train_size=None),\n",
       "             estimator=Pipeline(steps=[('scale', StandardScaler()),\n",
       "                                       ('PCA', PCA(n_components=15)),\n",
       "                                       ('clf', LogisticRegression())]),\n",
       "             n_jobs=7,\n",
       "             param_grid={'clf__C': [0.001, 0.01, 0.1, 1, 10, 100, 1000],\n",
       "                         'clf__class_weight': ['balanced', 'none'],\n",
       "                         'clf__max_iter': [100, 500],\n",
       "                         'clf__penalty': ['l2', 'l1'], 'clf__random_state': [5],\n",
       "                         'clf__solver': ['liblinear']},\n",
       "             scoring='accuracy', verbose=1)"
      ]
     },
     "execution_count": 45,
     "metadata": {},
     "output_type": "execute_result"
    }
   ],
   "source": [
    "from sklearn.linear_model import LogisticRegression\n",
    "from sklearn.svm import SVC\n",
    "from sklearn.naive_bayes import GaussianNB\n",
    "from sklearn.linear_model import SGDClassifier\n",
    "from sklearn.neighbors import KNeighborsClassifier\n",
    "from sklearn.model_selection import GridSearchCV\n",
    "from sklearn.tree import DecisionTreeClassifier\n",
    "from sklearn.ensemble import RandomForestClassifier\n",
    "from sklearn.ensemble import ExtraTreesClassifier\n",
    "from sklearn.ensemble import GradientBoostingClassifier\n",
    "from sklearn.neural_network import MLPClassifier\n",
    "\n",
    "#Create Pipeline for scaler, PCA and model classifier\n",
    "\n",
    "# LogisticRegression\n",
    "regEstimator = LogisticRegression()\n",
    "\n",
    "pipeline = Pipeline([\n",
    "    ('scale', scl),\n",
    "    ('PCA',PCA(n_components=15, svd_solver='auto')),\n",
    "    ('clf', regEstimator),\n",
    "])\n",
    "\n",
    "parameters = { 'clf__penalty':['l2','l1']\n",
    "              ,'clf__C': [0.001, 0.01, 0.1, 1, 10, 100, 1000]\n",
    "              ,'clf__class_weight': ['balanced','none']\n",
    "              ,'clf__random_state': [5]\n",
    "              ,'clf__solver': ['liblinear']\n",
    "              ,'clf__max_iter':[100,500]\n",
    "             }\n",
    "\n",
    "regGridSearch = GridSearchCV(pipeline, param_grid=parameters, cv=cv, n_jobs=7, verbose=1, scoring='accuracy')\n",
    "\n",
    "\n",
    "regGridSearch.fit(X_a, y_a)"
   ]
  },
  {
   "cell_type": "code",
   "execution_count": 46,
   "id": "1a344e11",
   "metadata": {},
   "outputs": [
    {
     "data": {
      "text/plain": [
       "Pipeline(steps=[('scale', StandardScaler()), ('PCA', PCA(n_components=15)),\n",
       "                ('clf',\n",
       "                 LogisticRegression(C=10, class_weight='balanced',\n",
       "                                    random_state=5, solver='liblinear'))])"
      ]
     },
     "execution_count": 46,
     "metadata": {},
     "output_type": "execute_result"
    }
   ],
   "source": [
    "regGridSearch.best_estimator_"
   ]
  },
  {
   "cell_type": "code",
   "execution_count": 47,
   "id": "1380161a",
   "metadata": {},
   "outputs": [
    {
     "name": "stdout",
     "output_type": "stream",
     "text": [
      "The average accuracy for all cv folds is: \t\t\t 0.85551\n",
      "The average precision for all cv folds is: \t\t\t 0.82189\n",
      "The average recall for all cv folds is: \t\t\t 0.85096\n",
      "*********************************************************\n",
      "Cross Validation Fold Mean Error Scores\n"
     ]
    },
    {
     "data": {
      "text/html": [
       "<div>\n",
       "<style scoped>\n",
       "    .dataframe tbody tr th:only-of-type {\n",
       "        vertical-align: middle;\n",
       "    }\n",
       "\n",
       "    .dataframe tbody tr th {\n",
       "        vertical-align: top;\n",
       "    }\n",
       "\n",
       "    .dataframe thead th {\n",
       "        text-align: right;\n",
       "    }\n",
       "</style>\n",
       "<table border=\"1\" class=\"dataframe\">\n",
       "  <thead>\n",
       "    <tr style=\"text-align: right;\">\n",
       "      <th></th>\n",
       "      <th>Accuracy</th>\n",
       "      <th>Precision</th>\n",
       "      <th>Recall</th>\n",
       "    </tr>\n",
       "  </thead>\n",
       "  <tbody>\n",
       "    <tr>\n",
       "      <th>0</th>\n",
       "      <td>0.854969</td>\n",
       "      <td>0.825810</td>\n",
       "      <td>0.850538</td>\n",
       "    </tr>\n",
       "    <tr>\n",
       "      <th>1</th>\n",
       "      <td>0.858985</td>\n",
       "      <td>0.825375</td>\n",
       "      <td>0.853329</td>\n",
       "    </tr>\n",
       "    <tr>\n",
       "      <th>2</th>\n",
       "      <td>0.854352</td>\n",
       "      <td>0.819817</td>\n",
       "      <td>0.851615</td>\n",
       "    </tr>\n",
       "    <tr>\n",
       "      <th>3</th>\n",
       "      <td>0.853811</td>\n",
       "      <td>0.820866</td>\n",
       "      <td>0.849965</td>\n",
       "    </tr>\n",
       "    <tr>\n",
       "      <th>4</th>\n",
       "      <td>0.855510</td>\n",
       "      <td>0.823458</td>\n",
       "      <td>0.846319</td>\n",
       "    </tr>\n",
       "    <tr>\n",
       "      <th>5</th>\n",
       "      <td>0.855665</td>\n",
       "      <td>0.824123</td>\n",
       "      <td>0.851361</td>\n",
       "    </tr>\n",
       "    <tr>\n",
       "      <th>6</th>\n",
       "      <td>0.854352</td>\n",
       "      <td>0.819006</td>\n",
       "      <td>0.849964</td>\n",
       "    </tr>\n",
       "    <tr>\n",
       "      <th>7</th>\n",
       "      <td>0.857170</td>\n",
       "      <td>0.820473</td>\n",
       "      <td>0.854472</td>\n",
       "    </tr>\n",
       "    <tr>\n",
       "      <th>8</th>\n",
       "      <td>0.855240</td>\n",
       "      <td>0.820009</td>\n",
       "      <td>0.852437</td>\n",
       "    </tr>\n",
       "    <tr>\n",
       "      <th>9</th>\n",
       "      <td>0.855085</td>\n",
       "      <td>0.819931</td>\n",
       "      <td>0.849600</td>\n",
       "    </tr>\n",
       "  </tbody>\n",
       "</table>\n",
       "</div>"
      ],
      "text/plain": [
       "   Accuracy  Precision    Recall\n",
       "0  0.854969   0.825810  0.850538\n",
       "1  0.858985   0.825375  0.853329\n",
       "2  0.854352   0.819817  0.851615\n",
       "3  0.853811   0.820866  0.849965\n",
       "4  0.855510   0.823458  0.846319\n",
       "5  0.855665   0.824123  0.851361\n",
       "6  0.854352   0.819006  0.849964\n",
       "7  0.857170   0.820473  0.854472\n",
       "8  0.855240   0.820009  0.852437\n",
       "9  0.855085   0.819931  0.849600"
      ]
     },
     "execution_count": 47,
     "metadata": {},
     "output_type": "execute_result"
    }
   ],
   "source": [
    "classifierEst_1 = regGridSearch.best_estimator_\n",
    "\n",
    "EvaluateClassifierEstimator(classifierEst_1, X_a, y_a, cv)"
   ]
  },
  {
   "cell_type": "code",
   "execution_count": 51,
   "id": "6c0b9df1",
   "metadata": {},
   "outputs": [
    {
     "name": "stdout",
     "output_type": "stream",
     "text": [
      "Fitting 10 folds for each of 36 candidates, totalling 360 fits\n"
     ]
    },
    {
     "data": {
      "text/plain": [
       "GridSearchCV(cv=ShuffleSplit(n_splits=10, random_state=5, test_size=0.2, train_size=None),\n",
       "             estimator=Pipeline(steps=[('scale', StandardScaler()),\n",
       "                                       ('PCA', PCA(n_components=15)),\n",
       "                                       ('clf', RandomForestClassifier())]),\n",
       "             n_jobs=7,\n",
       "             param_grid={'clf__class_weight': ['balanced', 'none'],\n",
       "                         'clf__criterion': ['gini', 'entropy'],\n",
       "                         'clf__max_depth': [10, 20, 50],\n",
       "                         'clf__n_estimators': [100, 150, 200],\n",
       "                         'clf__random_state': [5]},\n",
       "             scoring='accuracy', verbose=1)"
      ]
     },
     "execution_count": 51,
     "metadata": {},
     "output_type": "execute_result"
    }
   ],
   "source": [
    "# Random Forest\n",
    "regEstimator = RandomForestClassifier()\n",
    "\n",
    "pipeline = Pipeline([\n",
    "    ('scale', scl),\n",
    "    ('PCA',PCA(n_components=15, svd_solver='auto')),\n",
    "    ('clf', regEstimator),\n",
    "])\n",
    "\n",
    "parameters = {'clf__criterion': ['gini','entropy']\n",
    "              ,'clf__random_state': [5]\n",
    "              ,'clf__max_depth': [10,20,50]\n",
    "              ,'clf__n_estimators':[100,150,200]\n",
    "              ,'clf__class_weight':['balanced','none']\n",
    "             }\n",
    "\n",
    "regGridSearch = GridSearchCV(pipeline, param_grid=parameters, cv=cv, n_jobs=7, verbose=1, scoring='accuracy')\n",
    "\n",
    "\n",
    "regGridSearch.fit(model_satisfied_x, model_satisfied_y)"
   ]
  },
  {
   "cell_type": "code",
   "execution_count": 52,
   "id": "8c08f49e",
   "metadata": {},
   "outputs": [
    {
     "data": {
      "text/plain": [
       "Pipeline(steps=[('scale', StandardScaler()), ('PCA', PCA(n_components=15)),\n",
       "                ('clf',\n",
       "                 RandomForestClassifier(class_weight='balanced',\n",
       "                                        criterion='entropy', max_depth=20,\n",
       "                                        n_estimators=200, random_state=5))])"
      ]
     },
     "execution_count": 52,
     "metadata": {},
     "output_type": "execute_result"
    }
   ],
   "source": [
    "regGridSearch.best_estimator_"
   ]
  },
  {
   "cell_type": "code",
   "execution_count": 53,
   "id": "e6d876c0",
   "metadata": {},
   "outputs": [
    {
     "name": "stdout",
     "output_type": "stream",
     "text": [
      "The average accuracy for all cv folds is: \t\t\t 0.92315\n",
      "The average precision for all cv folds is: \t\t\t 0.93407\n",
      "The average recall for all cv folds is: \t\t\t 0.88512\n",
      "*********************************************************\n",
      "Cross Validation Fold Mean Error Scores\n"
     ]
    },
    {
     "data": {
      "text/html": [
       "<div>\n",
       "<style scoped>\n",
       "    .dataframe tbody tr th:only-of-type {\n",
       "        vertical-align: middle;\n",
       "    }\n",
       "\n",
       "    .dataframe tbody tr th {\n",
       "        vertical-align: top;\n",
       "    }\n",
       "\n",
       "    .dataframe thead th {\n",
       "        text-align: right;\n",
       "    }\n",
       "</style>\n",
       "<table border=\"1\" class=\"dataframe\">\n",
       "  <thead>\n",
       "    <tr style=\"text-align: right;\">\n",
       "      <th></th>\n",
       "      <th>Accuracy</th>\n",
       "      <th>Precision</th>\n",
       "      <th>Recall</th>\n",
       "    </tr>\n",
       "  </thead>\n",
       "  <tbody>\n",
       "    <tr>\n",
       "      <th>0</th>\n",
       "      <td>0.921036</td>\n",
       "      <td>0.934154</td>\n",
       "      <td>0.883198</td>\n",
       "    </tr>\n",
       "    <tr>\n",
       "      <th>1</th>\n",
       "      <td>0.922504</td>\n",
       "      <td>0.931711</td>\n",
       "      <td>0.885046</td>\n",
       "    </tr>\n",
       "    <tr>\n",
       "      <th>2</th>\n",
       "      <td>0.922542</td>\n",
       "      <td>0.933690</td>\n",
       "      <td>0.884352</td>\n",
       "    </tr>\n",
       "    <tr>\n",
       "      <th>3</th>\n",
       "      <td>0.923855</td>\n",
       "      <td>0.936773</td>\n",
       "      <td>0.884970</td>\n",
       "    </tr>\n",
       "    <tr>\n",
       "      <th>4</th>\n",
       "      <td>0.922426</td>\n",
       "      <td>0.934269</td>\n",
       "      <td>0.882142</td>\n",
       "    </tr>\n",
       "    <tr>\n",
       "      <th>5</th>\n",
       "      <td>0.921577</td>\n",
       "      <td>0.933595</td>\n",
       "      <td>0.883351</td>\n",
       "    </tr>\n",
       "    <tr>\n",
       "      <th>6</th>\n",
       "      <td>0.925438</td>\n",
       "      <td>0.936136</td>\n",
       "      <td>0.887585</td>\n",
       "    </tr>\n",
       "    <tr>\n",
       "      <th>7</th>\n",
       "      <td>0.925129</td>\n",
       "      <td>0.934943</td>\n",
       "      <td>0.887461</td>\n",
       "    </tr>\n",
       "    <tr>\n",
       "      <th>8</th>\n",
       "      <td>0.924705</td>\n",
       "      <td>0.934529</td>\n",
       "      <td>0.888145</td>\n",
       "    </tr>\n",
       "    <tr>\n",
       "      <th>9</th>\n",
       "      <td>0.922272</td>\n",
       "      <td>0.930865</td>\n",
       "      <td>0.884978</td>\n",
       "    </tr>\n",
       "  </tbody>\n",
       "</table>\n",
       "</div>"
      ],
      "text/plain": [
       "   Accuracy  Precision    Recall\n",
       "0  0.921036   0.934154  0.883198\n",
       "1  0.922504   0.931711  0.885046\n",
       "2  0.922542   0.933690  0.884352\n",
       "3  0.923855   0.936773  0.884970\n",
       "4  0.922426   0.934269  0.882142\n",
       "5  0.921577   0.933595  0.883351\n",
       "6  0.925438   0.936136  0.887585\n",
       "7  0.925129   0.934943  0.887461\n",
       "8  0.924705   0.934529  0.888145\n",
       "9  0.922272   0.930865  0.884978"
      ]
     },
     "execution_count": 53,
     "metadata": {},
     "output_type": "execute_result"
    }
   ],
   "source": [
    "classifierEst_3 = regGridSearch.best_estimator_\n",
    "\n",
    "EvaluateClassifierEstimator(classifierEst_3, X_a, y_a, cv)"
   ]
  },
  {
   "cell_type": "code",
   "execution_count": 54,
   "id": "0d73293a",
   "metadata": {},
   "outputs": [
    {
     "name": "stdout",
     "output_type": "stream",
     "text": [
      "Fitting 10 folds for each of 36 candidates, totalling 360 fits\n"
     ]
    },
    {
     "data": {
      "text/plain": [
       "GridSearchCV(cv=ShuffleSplit(n_splits=10, random_state=5, test_size=0.2, train_size=None),\n",
       "             estimator=Pipeline(steps=[('scale', StandardScaler()),\n",
       "                                       ('PCA', PCA(n_components=15)),\n",
       "                                       ('clf', SVC())]),\n",
       "             n_jobs=7,\n",
       "             param_grid={'clf__C': [0.001, 0.01, 0.1, 1, 10, 100],\n",
       "                         'clf__degree': [3],\n",
       "                         'clf__gamma': ['scale', 'auto', 1, 0.1, 0.01, 0.001],\n",
       "                         'clf__kernel': ['rbf'], 'clf__random_state': [5]},\n",
       "             scoring='accuracy', verbose=1)"
      ]
     },
     "execution_count": 54,
     "metadata": {},
     "output_type": "execute_result"
    }
   ],
   "source": [
    "# Support Vector Machine\n",
    "regEstimator = SVC()\n",
    "\n",
    "pipeline = Pipeline([\n",
    "    ('scale', scl),\n",
    "    ('PCA',PCA(n_components=15, svd_solver='auto')),\n",
    "    ('clf', regEstimator),\n",
    "])\n",
    "\n",
    "parameters = {'clf__C': [0.001, 0.01, 0.1, 1, 10, 100], \n",
    "              'clf__gamma': ['scale', 'auto', 1, 0.1, 0.01, 0.001],\n",
    "              'clf__kernel':['rbf'], \n",
    "              'clf__degree':[3], \n",
    "              'clf__random_state':[5],\n",
    "             }\n",
    "\n",
    "regGridSearch = GridSearchCV(pipeline, param_grid=parameters, cv=cv, n_jobs=7, verbose=1, scoring='accuracy')\n",
    "\n",
    "\n",
    "regGridSearch.fit(model_satisfied_x, model_satisfied_y)"
   ]
  },
  {
   "cell_type": "code",
   "execution_count": 55,
   "id": "558a4507",
   "metadata": {},
   "outputs": [
    {
     "data": {
      "text/plain": [
       "Pipeline(steps=[('scale', StandardScaler()), ('PCA', PCA(n_components=15)),\n",
       "                ('clf', SVC(C=100, gamma=0.01, random_state=5))])"
      ]
     },
     "execution_count": 55,
     "metadata": {},
     "output_type": "execute_result"
    }
   ],
   "source": [
    "regGridSearch.best_estimator_"
   ]
  },
  {
   "cell_type": "code",
   "execution_count": 56,
   "id": "cd5d4924",
   "metadata": {},
   "outputs": [
    {
     "name": "stdout",
     "output_type": "stream",
     "text": [
      "The average accuracy for all cv folds is: \t\t\t 0.9228\n",
      "The average precision for all cv folds is: \t\t\t 0.92118\n",
      "The average recall for all cv folds is: \t\t\t 0.90144\n",
      "*********************************************************\n",
      "Cross Validation Fold Mean Error Scores\n"
     ]
    },
    {
     "data": {
      "text/html": [
       "<div>\n",
       "<style scoped>\n",
       "    .dataframe tbody tr th:only-of-type {\n",
       "        vertical-align: middle;\n",
       "    }\n",
       "\n",
       "    .dataframe tbody tr th {\n",
       "        vertical-align: top;\n",
       "    }\n",
       "\n",
       "    .dataframe thead th {\n",
       "        text-align: right;\n",
       "    }\n",
       "</style>\n",
       "<table border=\"1\" class=\"dataframe\">\n",
       "  <thead>\n",
       "    <tr style=\"text-align: right;\">\n",
       "      <th></th>\n",
       "      <th>Accuracy</th>\n",
       "      <th>Precision</th>\n",
       "      <th>Recall</th>\n",
       "    </tr>\n",
       "  </thead>\n",
       "  <tbody>\n",
       "    <tr>\n",
       "      <th>0</th>\n",
       "      <td>0.920333</td>\n",
       "      <td>0.921392</td>\n",
       "      <td>0.894797</td>\n",
       "    </tr>\n",
       "    <tr>\n",
       "      <th>1</th>\n",
       "      <td>0.928167</td>\n",
       "      <td>0.930769</td>\n",
       "      <td>0.906028</td>\n",
       "    </tr>\n",
       "    <tr>\n",
       "      <th>2</th>\n",
       "      <td>0.916500</td>\n",
       "      <td>0.917276</td>\n",
       "      <td>0.892884</td>\n",
       "    </tr>\n",
       "    <tr>\n",
       "      <th>3</th>\n",
       "      <td>0.921500</td>\n",
       "      <td>0.919572</td>\n",
       "      <td>0.896485</td>\n",
       "    </tr>\n",
       "    <tr>\n",
       "      <th>4</th>\n",
       "      <td>0.925833</td>\n",
       "      <td>0.928709</td>\n",
       "      <td>0.902622</td>\n",
       "    </tr>\n",
       "    <tr>\n",
       "      <th>5</th>\n",
       "      <td>0.926167</td>\n",
       "      <td>0.921454</td>\n",
       "      <td>0.906923</td>\n",
       "    </tr>\n",
       "    <tr>\n",
       "      <th>6</th>\n",
       "      <td>0.919167</td>\n",
       "      <td>0.906995</td>\n",
       "      <td>0.903816</td>\n",
       "    </tr>\n",
       "    <tr>\n",
       "      <th>7</th>\n",
       "      <td>0.918833</td>\n",
       "      <td>0.919042</td>\n",
       "      <td>0.898217</td>\n",
       "    </tr>\n",
       "    <tr>\n",
       "      <th>8</th>\n",
       "      <td>0.928667</td>\n",
       "      <td>0.925883</td>\n",
       "      <td>0.909645</td>\n",
       "    </tr>\n",
       "    <tr>\n",
       "      <th>9</th>\n",
       "      <td>0.922833</td>\n",
       "      <td>0.920678</td>\n",
       "      <td>0.902946</td>\n",
       "    </tr>\n",
       "  </tbody>\n",
       "</table>\n",
       "</div>"
      ],
      "text/plain": [
       "   Accuracy  Precision    Recall\n",
       "0  0.920333   0.921392  0.894797\n",
       "1  0.928167   0.930769  0.906028\n",
       "2  0.916500   0.917276  0.892884\n",
       "3  0.921500   0.919572  0.896485\n",
       "4  0.925833   0.928709  0.902622\n",
       "5  0.926167   0.921454  0.906923\n",
       "6  0.919167   0.906995  0.903816\n",
       "7  0.918833   0.919042  0.898217\n",
       "8  0.928667   0.925883  0.909645\n",
       "9  0.922833   0.920678  0.902946"
      ]
     },
     "execution_count": 56,
     "metadata": {},
     "output_type": "execute_result"
    }
   ],
   "source": [
    "classifierEst_4 = regGridSearch.best_estimator_\n",
    "\n",
    "EvaluateClassifierEstimator(classifierEst_4, model_satisfied_x, model_satisfied_y, cv)"
   ]
  },
  {
   "cell_type": "code",
   "execution_count": 57,
   "id": "41b9a2c7",
   "metadata": {},
   "outputs": [
    {
     "name": "stdout",
     "output_type": "stream",
     "text": [
      "Fitting 10 folds for each of 12 candidates, totalling 120 fits\n"
     ]
    },
    {
     "data": {
      "text/plain": [
       "GridSearchCV(cv=ShuffleSplit(n_splits=10, random_state=5, test_size=0.2, train_size=None),\n",
       "             estimator=Pipeline(steps=[('scale', StandardScaler()),\n",
       "                                       ('PCA', PCA(n_components=15)),\n",
       "                                       ('clf', DecisionTreeClassifier())]),\n",
       "             n_jobs=7,\n",
       "             param_grid={'clf__class_weight': ['balanced', 'none'],\n",
       "                         'clf__criterion': ['gini', 'entropy'],\n",
       "                         'clf__max_depth': [10, 20, 50],\n",
       "                         'clf__random_state': [5]},\n",
       "             scoring='accuracy', verbose=1)"
      ]
     },
     "execution_count": 57,
     "metadata": {},
     "output_type": "execute_result"
    }
   ],
   "source": [
    "# Decision Tree Model\n",
    "regEstimator = DecisionTreeClassifier()\n",
    "\n",
    "pipeline = Pipeline([\n",
    "    ('scale', scl),\n",
    "    ('PCA',PCA(n_components=15, svd_solver='auto')),\n",
    "    ('clf', regEstimator),\n",
    "])\n",
    "\n",
    "parameters = {'clf__criterion': ['gini','entropy']\n",
    "              ,'clf__random_state': [5]\n",
    "              ,'clf__max_depth': [10,20,50]\n",
    "              ,'clf__class_weight':['balanced','none']}\n",
    "\n",
    "regGridSearch = GridSearchCV(pipeline, param_grid=parameters, cv=cv, n_jobs=7, verbose=1, scoring='accuracy')\n",
    "\n",
    "\n",
    "regGridSearch.fit(model_satisfied_x, model_satisfied_y)"
   ]
  },
  {
   "cell_type": "code",
   "execution_count": 58,
   "id": "cab0ba6d",
   "metadata": {},
   "outputs": [
    {
     "data": {
      "text/plain": [
       "Pipeline(steps=[('scale', StandardScaler()), ('PCA', PCA(n_components=15)),\n",
       "                ('clf',\n",
       "                 DecisionTreeClassifier(class_weight='balanced',\n",
       "                                        criterion='entropy', max_depth=10,\n",
       "                                        random_state=5))])"
      ]
     },
     "execution_count": 58,
     "metadata": {},
     "output_type": "execute_result"
    }
   ],
   "source": [
    "regGridSearch.best_estimator_"
   ]
  },
  {
   "cell_type": "code",
   "execution_count": 59,
   "id": "be9a396d",
   "metadata": {},
   "outputs": [
    {
     "name": "stdout",
     "output_type": "stream",
     "text": [
      "The average accuracy for all cv folds is: \t\t\t 0.88305\n",
      "The average precision for all cv folds is: \t\t\t 0.87741\n",
      "The average recall for all cv folds is: \t\t\t 0.85328\n",
      "*********************************************************\n",
      "Cross Validation Fold Mean Error Scores\n"
     ]
    },
    {
     "data": {
      "text/html": [
       "<div>\n",
       "<style scoped>\n",
       "    .dataframe tbody tr th:only-of-type {\n",
       "        vertical-align: middle;\n",
       "    }\n",
       "\n",
       "    .dataframe tbody tr th {\n",
       "        vertical-align: top;\n",
       "    }\n",
       "\n",
       "    .dataframe thead th {\n",
       "        text-align: right;\n",
       "    }\n",
       "</style>\n",
       "<table border=\"1\" class=\"dataframe\">\n",
       "  <thead>\n",
       "    <tr style=\"text-align: right;\">\n",
       "      <th></th>\n",
       "      <th>Accuracy</th>\n",
       "      <th>Precision</th>\n",
       "      <th>Recall</th>\n",
       "    </tr>\n",
       "  </thead>\n",
       "  <tbody>\n",
       "    <tr>\n",
       "      <th>0</th>\n",
       "      <td>0.880000</td>\n",
       "      <td>0.894108</td>\n",
       "      <td>0.824155</td>\n",
       "    </tr>\n",
       "    <tr>\n",
       "      <th>1</th>\n",
       "      <td>0.883167</td>\n",
       "      <td>0.881487</td>\n",
       "      <td>0.852115</td>\n",
       "    </tr>\n",
       "    <tr>\n",
       "      <th>2</th>\n",
       "      <td>0.877000</td>\n",
       "      <td>0.870115</td>\n",
       "      <td>0.850562</td>\n",
       "    </tr>\n",
       "    <tr>\n",
       "      <th>3</th>\n",
       "      <td>0.879333</td>\n",
       "      <td>0.859068</td>\n",
       "      <td>0.861723</td>\n",
       "    </tr>\n",
       "    <tr>\n",
       "      <th>4</th>\n",
       "      <td>0.880667</td>\n",
       "      <td>0.873186</td>\n",
       "      <td>0.856180</td>\n",
       "    </tr>\n",
       "    <tr>\n",
       "      <th>5</th>\n",
       "      <td>0.890333</td>\n",
       "      <td>0.878115</td>\n",
       "      <td>0.867308</td>\n",
       "    </tr>\n",
       "    <tr>\n",
       "      <th>6</th>\n",
       "      <td>0.886167</td>\n",
       "      <td>0.871795</td>\n",
       "      <td>0.860592</td>\n",
       "    </tr>\n",
       "    <tr>\n",
       "      <th>7</th>\n",
       "      <td>0.882167</td>\n",
       "      <td>0.872700</td>\n",
       "      <td>0.863299</td>\n",
       "    </tr>\n",
       "    <tr>\n",
       "      <th>8</th>\n",
       "      <td>0.889333</td>\n",
       "      <td>0.887307</td>\n",
       "      <td>0.855509</td>\n",
       "    </tr>\n",
       "    <tr>\n",
       "      <th>9</th>\n",
       "      <td>0.882333</td>\n",
       "      <td>0.886237</td>\n",
       "      <td>0.841390</td>\n",
       "    </tr>\n",
       "  </tbody>\n",
       "</table>\n",
       "</div>"
      ],
      "text/plain": [
       "   Accuracy  Precision    Recall\n",
       "0  0.880000   0.894108  0.824155\n",
       "1  0.883167   0.881487  0.852115\n",
       "2  0.877000   0.870115  0.850562\n",
       "3  0.879333   0.859068  0.861723\n",
       "4  0.880667   0.873186  0.856180\n",
       "5  0.890333   0.878115  0.867308\n",
       "6  0.886167   0.871795  0.860592\n",
       "7  0.882167   0.872700  0.863299\n",
       "8  0.889333   0.887307  0.855509\n",
       "9  0.882333   0.886237  0.841390"
      ]
     },
     "execution_count": 59,
     "metadata": {},
     "output_type": "execute_result"
    }
   ],
   "source": [
    "classifierEst_5 = regGridSearch.best_estimator_\n",
    "\n",
    "EvaluateClassifierEstimator(classifierEst_5, model_satisfied_x, model_satisfied_y, cv)"
   ]
  },
  {
   "cell_type": "markdown",
   "id": "3503ae9c",
   "metadata": {},
   "source": [
    "### b. Cleanliness Classification Models"
   ]
  },
  {
   "cell_type": "code",
   "execution_count": 61,
   "id": "a84a73c1",
   "metadata": {},
   "outputs": [
    {
     "name": "stdout",
     "output_type": "stream",
     "text": [
      "Fitting 10 folds for each of 56 candidates, totalling 560 fits\n"
     ]
    },
    {
     "data": {
      "text/plain": [
       "GridSearchCV(cv=ShuffleSplit(n_splits=10, random_state=5, test_size=0.2, train_size=None),\n",
       "             estimator=Pipeline(steps=[('scale', StandardScaler()),\n",
       "                                       ('PCA', PCA(n_components=15)),\n",
       "                                       ('clf', LogisticRegression())]),\n",
       "             n_jobs=7,\n",
       "             param_grid={'clf__C': [0.001, 0.01, 0.1, 1, 10, 100, 1000],\n",
       "                         'clf__class_weight': ['balanced', 'none'],\n",
       "                         'clf__max_iter': [100, 500],\n",
       "                         'clf__penalty': ['l2', 'l1'], 'clf__random_state': [5],\n",
       "                         'clf__solver': ['liblinear']},\n",
       "             scoring='accuracy', verbose=1)"
      ]
     },
     "execution_count": 61,
     "metadata": {},
     "output_type": "execute_result"
    }
   ],
   "source": [
    "#Logistic Regression\n",
    "regEstimator = LogisticRegression()\n",
    "\n",
    "pipeline = Pipeline([\n",
    "    ('scale', scl),\n",
    "    ('PCA',PCA(n_components=15, svd_solver='auto')),\n",
    "    ('clf', regEstimator),\n",
    "])\n",
    "\n",
    "parameters = { 'clf__penalty':['l2','l1']\n",
    "              ,'clf__C': [0.001, 0.01, 0.1, 1, 10, 100, 1000]\n",
    "              ,'clf__class_weight': ['balanced','none']\n",
    "              ,'clf__random_state': [5]\n",
    "              ,'clf__solver': ['liblinear']\n",
    "              ,'clf__max_iter':[100,500]\n",
    "             }\n",
    "\n",
    "regGridSearch = GridSearchCV(pipeline, param_grid=parameters, cv=cv, n_jobs=7, verbose=1, scoring='accuracy')\n",
    "\n",
    "regGridSearch.fit(X_b, y_b)"
   ]
  },
  {
   "cell_type": "code",
   "execution_count": 62,
   "id": "983058b2",
   "metadata": {},
   "outputs": [
    {
     "data": {
      "text/plain": [
       "Pipeline(steps=[('scale', StandardScaler()), ('PCA', PCA(n_components=15)),\n",
       "                ('clf',\n",
       "                 LogisticRegression(C=10, class_weight='balanced',\n",
       "                                    random_state=5, solver='liblinear'))])"
      ]
     },
     "execution_count": 62,
     "metadata": {},
     "output_type": "execute_result"
    }
   ],
   "source": [
    "regGridSearch.best_estimator_"
   ]
  },
  {
   "cell_type": "code",
   "execution_count": 63,
   "id": "3f91b3df",
   "metadata": {},
   "outputs": [
    {
     "name": "stdout",
     "output_type": "stream",
     "text": [
      "The average accuracy for all cv folds is: \t\t\t 0.86039\n",
      "The average precision for all cv folds is: \t\t\t 0.93643\n",
      "The average recall for all cv folds is: \t\t\t 0.86361\n",
      "*********************************************************\n",
      "Cross Validation Fold Mean Error Scores\n"
     ]
    },
    {
     "data": {
      "text/html": [
       "<div>\n",
       "<style scoped>\n",
       "    .dataframe tbody tr th:only-of-type {\n",
       "        vertical-align: middle;\n",
       "    }\n",
       "\n",
       "    .dataframe tbody tr th {\n",
       "        vertical-align: top;\n",
       "    }\n",
       "\n",
       "    .dataframe thead th {\n",
       "        text-align: right;\n",
       "    }\n",
       "</style>\n",
       "<table border=\"1\" class=\"dataframe\">\n",
       "  <thead>\n",
       "    <tr style=\"text-align: right;\">\n",
       "      <th></th>\n",
       "      <th>Accuracy</th>\n",
       "      <th>Precision</th>\n",
       "      <th>Recall</th>\n",
       "    </tr>\n",
       "  </thead>\n",
       "  <tbody>\n",
       "    <tr>\n",
       "      <th>0</th>\n",
       "      <td>0.860877</td>\n",
       "      <td>0.935375</td>\n",
       "      <td>0.865672</td>\n",
       "    </tr>\n",
       "    <tr>\n",
       "      <th>1</th>\n",
       "      <td>0.860491</td>\n",
       "      <td>0.936100</td>\n",
       "      <td>0.863555</td>\n",
       "    </tr>\n",
       "    <tr>\n",
       "      <th>2</th>\n",
       "      <td>0.860723</td>\n",
       "      <td>0.936114</td>\n",
       "      <td>0.864172</td>\n",
       "    </tr>\n",
       "    <tr>\n",
       "      <th>3</th>\n",
       "      <td>0.862113</td>\n",
       "      <td>0.938695</td>\n",
       "      <td>0.864766</td>\n",
       "    </tr>\n",
       "    <tr>\n",
       "      <th>4</th>\n",
       "      <td>0.861070</td>\n",
       "      <td>0.937218</td>\n",
       "      <td>0.863830</td>\n",
       "    </tr>\n",
       "    <tr>\n",
       "      <th>5</th>\n",
       "      <td>0.862460</td>\n",
       "      <td>0.937092</td>\n",
       "      <td>0.866034</td>\n",
       "    </tr>\n",
       "    <tr>\n",
       "      <th>6</th>\n",
       "      <td>0.856862</td>\n",
       "      <td>0.934667</td>\n",
       "      <td>0.859447</td>\n",
       "    </tr>\n",
       "    <tr>\n",
       "      <th>7</th>\n",
       "      <td>0.861456</td>\n",
       "      <td>0.936646</td>\n",
       "      <td>0.865638</td>\n",
       "    </tr>\n",
       "    <tr>\n",
       "      <th>8</th>\n",
       "      <td>0.858136</td>\n",
       "      <td>0.935880</td>\n",
       "      <td>0.860431</td>\n",
       "    </tr>\n",
       "    <tr>\n",
       "      <th>9</th>\n",
       "      <td>0.859680</td>\n",
       "      <td>0.936545</td>\n",
       "      <td>0.862526</td>\n",
       "    </tr>\n",
       "  </tbody>\n",
       "</table>\n",
       "</div>"
      ],
      "text/plain": [
       "   Accuracy  Precision    Recall\n",
       "0  0.860877   0.935375  0.865672\n",
       "1  0.860491   0.936100  0.863555\n",
       "2  0.860723   0.936114  0.864172\n",
       "3  0.862113   0.938695  0.864766\n",
       "4  0.861070   0.937218  0.863830\n",
       "5  0.862460   0.937092  0.866034\n",
       "6  0.856862   0.934667  0.859447\n",
       "7  0.861456   0.936646  0.865638\n",
       "8  0.858136   0.935880  0.860431\n",
       "9  0.859680   0.936545  0.862526"
      ]
     },
     "execution_count": 63,
     "metadata": {},
     "output_type": "execute_result"
    }
   ],
   "source": [
    "classifierEst_6 = regGridSearch.best_estimator_\n",
    "\n",
    "EvaluateClassifierEstimator(classifierEst_6, X_b, y_b, cv)"
   ]
  },
  {
   "cell_type": "code",
   "execution_count": 67,
   "id": "19eac453",
   "metadata": {},
   "outputs": [
    {
     "name": "stdout",
     "output_type": "stream",
     "text": [
      "Fitting 10 folds for each of 36 candidates, totalling 360 fits\n"
     ]
    },
    {
     "data": {
      "text/plain": [
       "GridSearchCV(cv=ShuffleSplit(n_splits=10, random_state=5, test_size=0.2, train_size=None),\n",
       "             estimator=Pipeline(steps=[('scale', StandardScaler()),\n",
       "                                       ('PCA', PCA(n_components=15)),\n",
       "                                       ('clf', RandomForestClassifier())]),\n",
       "             n_jobs=7,\n",
       "             param_grid={'clf__class_weight': ['balanced', 'none'],\n",
       "                         'clf__criterion': ['gini', 'entropy'],\n",
       "                         'clf__max_depth': [10, 20, 50],\n",
       "                         'clf__n_estimators': [100, 150, 200],\n",
       "                         'clf__random_state': [5]},\n",
       "             scoring='accuracy', verbose=1)"
      ]
     },
     "execution_count": 67,
     "metadata": {},
     "output_type": "execute_result"
    }
   ],
   "source": [
    "# Random Forest\n",
    "regEstimator = RandomForestClassifier()\n",
    "\n",
    "pipeline = Pipeline([\n",
    "    ('scale', scl),\n",
    "    ('PCA',PCA(n_components=15, svd_solver='auto')),\n",
    "    ('clf', regEstimator),\n",
    "])\n",
    "\n",
    "parameters = {'clf__criterion': ['gini','entropy']\n",
    "              ,'clf__random_state': [5]\n",
    "              ,'clf__max_depth': [10,20,50]\n",
    "              ,'clf__n_estimators':[100,150,200]\n",
    "              ,'clf__class_weight':['balanced','none']\n",
    "             }\n",
    "\n",
    "regGridSearch = GridSearchCV(pipeline, param_grid=parameters, cv=cv, n_jobs=7, verbose=1, scoring='accuracy')\n",
    "\n",
    "\n",
    "regGridSearch.fit(model_clean_x, model_clean_y)"
   ]
  },
  {
   "cell_type": "code",
   "execution_count": 68,
   "id": "9afbcd64",
   "metadata": {},
   "outputs": [
    {
     "data": {
      "text/plain": [
       "Pipeline(steps=[('scale', StandardScaler()), ('PCA', PCA(n_components=15)),\n",
       "                ('clf',\n",
       "                 RandomForestClassifier(class_weight='balanced',\n",
       "                                        criterion='entropy', max_depth=50,\n",
       "                                        n_estimators=150, random_state=5))])"
      ]
     },
     "execution_count": 68,
     "metadata": {},
     "output_type": "execute_result"
    }
   ],
   "source": [
    "regGridSearch.best_estimator_"
   ]
  },
  {
   "cell_type": "code",
   "execution_count": 69,
   "id": "f3bd6f95",
   "metadata": {},
   "outputs": [
    {
     "name": "stdout",
     "output_type": "stream",
     "text": [
      "The average accuracy for all cv folds is: \t\t\t 0.90264\n",
      "The average precision for all cv folds is: \t\t\t 0.91174\n",
      "The average recall for all cv folds is: \t\t\t 0.95661\n",
      "*********************************************************\n",
      "Cross Validation Fold Mean Error Scores\n"
     ]
    },
    {
     "data": {
      "text/html": [
       "<div>\n",
       "<style scoped>\n",
       "    .dataframe tbody tr th:only-of-type {\n",
       "        vertical-align: middle;\n",
       "    }\n",
       "\n",
       "    .dataframe tbody tr th {\n",
       "        vertical-align: top;\n",
       "    }\n",
       "\n",
       "    .dataframe thead th {\n",
       "        text-align: right;\n",
       "    }\n",
       "</style>\n",
       "<table border=\"1\" class=\"dataframe\">\n",
       "  <thead>\n",
       "    <tr style=\"text-align: right;\">\n",
       "      <th></th>\n",
       "      <th>Accuracy</th>\n",
       "      <th>Precision</th>\n",
       "      <th>Recall</th>\n",
       "    </tr>\n",
       "  </thead>\n",
       "  <tbody>\n",
       "    <tr>\n",
       "      <th>0</th>\n",
       "      <td>0.902734</td>\n",
       "      <td>0.911282</td>\n",
       "      <td>0.957487</td>\n",
       "    </tr>\n",
       "    <tr>\n",
       "      <th>1</th>\n",
       "      <td>0.899143</td>\n",
       "      <td>0.907635</td>\n",
       "      <td>0.956033</td>\n",
       "    </tr>\n",
       "    <tr>\n",
       "      <th>2</th>\n",
       "      <td>0.902425</td>\n",
       "      <td>0.911346</td>\n",
       "      <td>0.956578</td>\n",
       "    </tr>\n",
       "    <tr>\n",
       "      <th>3</th>\n",
       "      <td>0.903699</td>\n",
       "      <td>0.912166</td>\n",
       "      <td>0.958394</td>\n",
       "    </tr>\n",
       "    <tr>\n",
       "      <th>4</th>\n",
       "      <td>0.904162</td>\n",
       "      <td>0.913751</td>\n",
       "      <td>0.956426</td>\n",
       "    </tr>\n",
       "    <tr>\n",
       "      <th>5</th>\n",
       "      <td>0.903545</td>\n",
       "      <td>0.913505</td>\n",
       "      <td>0.955776</td>\n",
       "    </tr>\n",
       "    <tr>\n",
       "      <th>6</th>\n",
       "      <td>0.900610</td>\n",
       "      <td>0.909639</td>\n",
       "      <td>0.955621</td>\n",
       "    </tr>\n",
       "    <tr>\n",
       "      <th>7</th>\n",
       "      <td>0.905746</td>\n",
       "      <td>0.914733</td>\n",
       "      <td>0.958062</td>\n",
       "    </tr>\n",
       "    <tr>\n",
       "      <th>8</th>\n",
       "      <td>0.901730</td>\n",
       "      <td>0.911180</td>\n",
       "      <td>0.955638</td>\n",
       "    </tr>\n",
       "    <tr>\n",
       "      <th>9</th>\n",
       "      <td>0.902618</td>\n",
       "      <td>0.912153</td>\n",
       "      <td>0.956116</td>\n",
       "    </tr>\n",
       "  </tbody>\n",
       "</table>\n",
       "</div>"
      ],
      "text/plain": [
       "   Accuracy  Precision    Recall\n",
       "0  0.902734   0.911282  0.957487\n",
       "1  0.899143   0.907635  0.956033\n",
       "2  0.902425   0.911346  0.956578\n",
       "3  0.903699   0.912166  0.958394\n",
       "4  0.904162   0.913751  0.956426\n",
       "5  0.903545   0.913505  0.955776\n",
       "6  0.900610   0.909639  0.955621\n",
       "7  0.905746   0.914733  0.958062\n",
       "8  0.901730   0.911180  0.955638\n",
       "9  0.902618   0.912153  0.956116"
      ]
     },
     "execution_count": 69,
     "metadata": {},
     "output_type": "execute_result"
    }
   ],
   "source": [
    "classifierEst_8 = regGridSearch.best_estimator_\n",
    "\n",
    "EvaluateClassifierEstimator(classifierEst_8, X_b, y_b, cv)"
   ]
  },
  {
   "cell_type": "code",
   "execution_count": 70,
   "id": "b5e02396",
   "metadata": {},
   "outputs": [
    {
     "name": "stdout",
     "output_type": "stream",
     "text": [
      "Fitting 10 folds for each of 36 candidates, totalling 360 fits\n"
     ]
    },
    {
     "data": {
      "text/plain": [
       "GridSearchCV(cv=ShuffleSplit(n_splits=10, random_state=5, test_size=0.2, train_size=None),\n",
       "             estimator=Pipeline(steps=[('scale', StandardScaler()),\n",
       "                                       ('PCA', PCA(n_components=15)),\n",
       "                                       ('clf', SVC())]),\n",
       "             n_jobs=7,\n",
       "             param_grid={'clf__C': [0.001, 0.01, 0.1, 1, 10, 100],\n",
       "                         'clf__degree': [3],\n",
       "                         'clf__gamma': ['scale', 'auto', 1, 0.1, 0.01, 0.001],\n",
       "                         'clf__kernel': ['rbf'], 'clf__random_state': [5]},\n",
       "             scoring='accuracy', verbose=1)"
      ]
     },
     "execution_count": 70,
     "metadata": {},
     "output_type": "execute_result"
    }
   ],
   "source": [
    "# Support Vector Machine\n",
    "regEstimator = SVC()\n",
    "\n",
    "pipeline = Pipeline([\n",
    "    ('scale', scl),\n",
    "    ('PCA',PCA(n_components=15, svd_solver='auto')),\n",
    "    ('clf', regEstimator),\n",
    "])\n",
    "\n",
    "parameters = {'clf__C': [0.001, 0.01, 0.1, 1, 10, 100], \n",
    "              'clf__gamma': ['scale', 'auto', 1, 0.1, 0.01, 0.001],\n",
    "              'clf__kernel':['rbf'], \n",
    "              'clf__degree':[3],\n",
    "              'clf__random_state':[5],\n",
    "             }\n",
    "\n",
    "regGridSearch = GridSearchCV(pipeline, param_grid=parameters, cv=cv, n_jobs=7, verbose=1, scoring='accuracy')\n",
    "\n",
    "\n",
    "regGridSearch.fit(model_clean_x, model_clean_y)"
   ]
  },
  {
   "cell_type": "code",
   "execution_count": 71,
   "id": "a0232ea9",
   "metadata": {},
   "outputs": [
    {
     "data": {
      "text/plain": [
       "Pipeline(steps=[('scale', StandardScaler()), ('PCA', PCA(n_components=15)),\n",
       "                ('clf', SVC(C=1, gamma='auto', random_state=5))])"
      ]
     },
     "execution_count": 71,
     "metadata": {},
     "output_type": "execute_result"
    }
   ],
   "source": [
    "regGridSearch.best_estimator_"
   ]
  },
  {
   "cell_type": "code",
   "execution_count": 72,
   "id": "d1590ee7",
   "metadata": {},
   "outputs": [
    {
     "name": "stdout",
     "output_type": "stream",
     "text": [
      "The average accuracy for all cv folds is: \t\t\t 0.90553\n",
      "The average precision for all cv folds is: \t\t\t 0.90648\n",
      "The average recall for all cv folds is: \t\t\t 0.96813\n",
      "*********************************************************\n",
      "Cross Validation Fold Mean Error Scores\n"
     ]
    },
    {
     "data": {
      "text/html": [
       "<div>\n",
       "<style scoped>\n",
       "    .dataframe tbody tr th:only-of-type {\n",
       "        vertical-align: middle;\n",
       "    }\n",
       "\n",
       "    .dataframe tbody tr th {\n",
       "        vertical-align: top;\n",
       "    }\n",
       "\n",
       "    .dataframe thead th {\n",
       "        text-align: right;\n",
       "    }\n",
       "</style>\n",
       "<table border=\"1\" class=\"dataframe\">\n",
       "  <thead>\n",
       "    <tr style=\"text-align: right;\">\n",
       "      <th></th>\n",
       "      <th>Accuracy</th>\n",
       "      <th>Precision</th>\n",
       "      <th>Recall</th>\n",
       "    </tr>\n",
       "  </thead>\n",
       "  <tbody>\n",
       "    <tr>\n",
       "      <th>0</th>\n",
       "      <td>0.908000</td>\n",
       "      <td>0.906690</td>\n",
       "      <td>0.971919</td>\n",
       "    </tr>\n",
       "    <tr>\n",
       "      <th>1</th>\n",
       "      <td>0.904500</td>\n",
       "      <td>0.905677</td>\n",
       "      <td>0.968606</td>\n",
       "    </tr>\n",
       "    <tr>\n",
       "      <th>2</th>\n",
       "      <td>0.902833</td>\n",
       "      <td>0.908893</td>\n",
       "      <td>0.962247</td>\n",
       "    </tr>\n",
       "    <tr>\n",
       "      <th>3</th>\n",
       "      <td>0.908833</td>\n",
       "      <td>0.906850</td>\n",
       "      <td>0.971943</td>\n",
       "    </tr>\n",
       "    <tr>\n",
       "      <th>4</th>\n",
       "      <td>0.907333</td>\n",
       "      <td>0.910327</td>\n",
       "      <td>0.965806</td>\n",
       "    </tr>\n",
       "    <tr>\n",
       "      <th>5</th>\n",
       "      <td>0.904500</td>\n",
       "      <td>0.905224</td>\n",
       "      <td>0.966353</td>\n",
       "    </tr>\n",
       "    <tr>\n",
       "      <th>6</th>\n",
       "      <td>0.906167</td>\n",
       "      <td>0.907906</td>\n",
       "      <td>0.967817</td>\n",
       "    </tr>\n",
       "    <tr>\n",
       "      <th>7</th>\n",
       "      <td>0.903667</td>\n",
       "      <td>0.903045</td>\n",
       "      <td>0.970077</td>\n",
       "    </tr>\n",
       "    <tr>\n",
       "      <th>8</th>\n",
       "      <td>0.904667</td>\n",
       "      <td>0.902555</td>\n",
       "      <td>0.971562</td>\n",
       "    </tr>\n",
       "    <tr>\n",
       "      <th>9</th>\n",
       "      <td>0.904833</td>\n",
       "      <td>0.907655</td>\n",
       "      <td>0.965019</td>\n",
       "    </tr>\n",
       "  </tbody>\n",
       "</table>\n",
       "</div>"
      ],
      "text/plain": [
       "   Accuracy  Precision    Recall\n",
       "0  0.908000   0.906690  0.971919\n",
       "1  0.904500   0.905677  0.968606\n",
       "2  0.902833   0.908893  0.962247\n",
       "3  0.908833   0.906850  0.971943\n",
       "4  0.907333   0.910327  0.965806\n",
       "5  0.904500   0.905224  0.966353\n",
       "6  0.906167   0.907906  0.967817\n",
       "7  0.903667   0.903045  0.970077\n",
       "8  0.904667   0.902555  0.971562\n",
       "9  0.904833   0.907655  0.965019"
      ]
     },
     "execution_count": 72,
     "metadata": {},
     "output_type": "execute_result"
    }
   ],
   "source": [
    "classifierEst_9 = regGridSearch.best_estimator_\n",
    "\n",
    "EvaluateClassifierEstimator(classifierEst_9, model_clean_x, model_clean_y, cv)"
   ]
  },
  {
   "cell_type": "code",
   "execution_count": 73,
   "id": "0c96fff3",
   "metadata": {},
   "outputs": [
    {
     "name": "stdout",
     "output_type": "stream",
     "text": [
      "Fitting 10 folds for each of 12 candidates, totalling 120 fits\n"
     ]
    },
    {
     "data": {
      "text/plain": [
       "GridSearchCV(cv=ShuffleSplit(n_splits=10, random_state=5, test_size=0.2, train_size=None),\n",
       "             estimator=Pipeline(steps=[('scale', StandardScaler()),\n",
       "                                       ('PCA', PCA(n_components=15)),\n",
       "                                       ('clf', DecisionTreeClassifier())]),\n",
       "             n_jobs=7,\n",
       "             param_grid={'clf__class_weight': ['balanced', 'none'],\n",
       "                         'clf__criterion': ['gini', 'entropy'],\n",
       "                         'clf__max_depth': [10, 20, 50],\n",
       "                         'clf__random_state': [5]},\n",
       "             scoring='accuracy', verbose=1)"
      ]
     },
     "execution_count": 73,
     "metadata": {},
     "output_type": "execute_result"
    }
   ],
   "source": [
    "# Decision Tree Model\n",
    "regEstimator = DecisionTreeClassifier()\n",
    "\n",
    "pipeline = Pipeline([\n",
    "    ('scale', scl),\n",
    "    ('PCA',PCA(n_components=15, svd_solver='auto')),\n",
    "    ('clf', regEstimator),\n",
    "])\n",
    "\n",
    "parameters = {'clf__criterion': ['gini','entropy']\n",
    "              ,'clf__random_state': [5]\n",
    "              ,'clf__max_depth': [10,20,50]\n",
    "              ,'clf__class_weight':['balanced','none']}\n",
    "\n",
    "regGridSearch = GridSearchCV(pipeline, param_grid=parameters, cv=cv, n_jobs=7, verbose=1, scoring='accuracy')\n",
    "\n",
    "\n",
    "regGridSearch.fit(X_b, y_b)"
   ]
  },
  {
   "cell_type": "code",
   "execution_count": 74,
   "id": "6ea1d09e",
   "metadata": {},
   "outputs": [
    {
     "data": {
      "text/plain": [
       "Pipeline(steps=[('scale', StandardScaler()), ('PCA', PCA(n_components=15)),\n",
       "                ('clf',\n",
       "                 DecisionTreeClassifier(class_weight='balanced',\n",
       "                                        criterion='entropy', max_depth=50,\n",
       "                                        random_state=5))])"
      ]
     },
     "execution_count": 74,
     "metadata": {},
     "output_type": "execute_result"
    }
   ],
   "source": [
    "regGridSearch.best_estimator_"
   ]
  },
  {
   "cell_type": "code",
   "execution_count": 75,
   "id": "ae724daa",
   "metadata": {},
   "outputs": [
    {
     "name": "stdout",
     "output_type": "stream",
     "text": [
      "The average accuracy for all cv folds is: \t\t\t 0.86727\n",
      "The average precision for all cv folds is: \t\t\t 0.9079\n",
      "The average recall for all cv folds is: \t\t\t 0.90656\n",
      "*********************************************************\n",
      "Cross Validation Fold Mean Error Scores\n"
     ]
    },
    {
     "data": {
      "text/html": [
       "<div>\n",
       "<style scoped>\n",
       "    .dataframe tbody tr th:only-of-type {\n",
       "        vertical-align: middle;\n",
       "    }\n",
       "\n",
       "    .dataframe tbody tr th {\n",
       "        vertical-align: top;\n",
       "    }\n",
       "\n",
       "    .dataframe thead th {\n",
       "        text-align: right;\n",
       "    }\n",
       "</style>\n",
       "<table border=\"1\" class=\"dataframe\">\n",
       "  <thead>\n",
       "    <tr style=\"text-align: right;\">\n",
       "      <th></th>\n",
       "      <th>Accuracy</th>\n",
       "      <th>Precision</th>\n",
       "      <th>Recall</th>\n",
       "    </tr>\n",
       "  </thead>\n",
       "  <tbody>\n",
       "    <tr>\n",
       "      <th>0</th>\n",
       "      <td>0.868909</td>\n",
       "      <td>0.907766</td>\n",
       "      <td>0.909478</td>\n",
       "    </tr>\n",
       "    <tr>\n",
       "      <th>1</th>\n",
       "      <td>0.864198</td>\n",
       "      <td>0.904484</td>\n",
       "      <td>0.905413</td>\n",
       "    </tr>\n",
       "    <tr>\n",
       "      <th>2</th>\n",
       "      <td>0.867905</td>\n",
       "      <td>0.907554</td>\n",
       "      <td>0.907701</td>\n",
       "    </tr>\n",
       "    <tr>\n",
       "      <th>3</th>\n",
       "      <td>0.869411</td>\n",
       "      <td>0.909658</td>\n",
       "      <td>0.908681</td>\n",
       "    </tr>\n",
       "    <tr>\n",
       "      <th>4</th>\n",
       "      <td>0.862306</td>\n",
       "      <td>0.906255</td>\n",
       "      <td>0.900879</td>\n",
       "    </tr>\n",
       "    <tr>\n",
       "      <th>5</th>\n",
       "      <td>0.867750</td>\n",
       "      <td>0.908325</td>\n",
       "      <td>0.906806</td>\n",
       "    </tr>\n",
       "    <tr>\n",
       "      <th>6</th>\n",
       "      <td>0.868098</td>\n",
       "      <td>0.907605</td>\n",
       "      <td>0.907507</td>\n",
       "    </tr>\n",
       "    <tr>\n",
       "      <th>7</th>\n",
       "      <td>0.869449</td>\n",
       "      <td>0.910809</td>\n",
       "      <td>0.907038</td>\n",
       "    </tr>\n",
       "    <tr>\n",
       "      <th>8</th>\n",
       "      <td>0.868137</td>\n",
       "      <td>0.908820</td>\n",
       "      <td>0.906414</td>\n",
       "    </tr>\n",
       "    <tr>\n",
       "      <th>9</th>\n",
       "      <td>0.866515</td>\n",
       "      <td>0.907760</td>\n",
       "      <td>0.905655</td>\n",
       "    </tr>\n",
       "  </tbody>\n",
       "</table>\n",
       "</div>"
      ],
      "text/plain": [
       "   Accuracy  Precision    Recall\n",
       "0  0.868909   0.907766  0.909478\n",
       "1  0.864198   0.904484  0.905413\n",
       "2  0.867905   0.907554  0.907701\n",
       "3  0.869411   0.909658  0.908681\n",
       "4  0.862306   0.906255  0.900879\n",
       "5  0.867750   0.908325  0.906806\n",
       "6  0.868098   0.907605  0.907507\n",
       "7  0.869449   0.910809  0.907038\n",
       "8  0.868137   0.908820  0.906414\n",
       "9  0.866515   0.907760  0.905655"
      ]
     },
     "execution_count": 75,
     "metadata": {},
     "output_type": "execute_result"
    }
   ],
   "source": [
    "classifierEst_10 = regGridSearch.best_estimator_\n",
    "EvaluateClassifierEstimator(classifierEst_10, X_b, y_b, cv)"
   ]
  },
  {
   "cell_type": "markdown",
   "id": "935bc038",
   "metadata": {},
   "source": [
    "## 3. Exceptional Work: Neural Network Classifier\n",
    "\n",
    "In addition to the logistic regression, random forest, support vector machine and decision tree models that were done for flight satisfaction and cleanliness, a nuerel network classifier was used in an attempt to maximize model accuracy. The model used is from the sklearn.neural_network module. In the code below we will utilize MLPClassifier() the Multi-layer Perceptron classifier.  This model works by optimzing the log-loss function using LBFGS or stochastic gradient descent.  In addition, the model trains iteraively.  MLPClassifier relies on an underlying Neural Network to perform classification tasks. \n",
    "\n",
    "The code below shows the steps to hypertune a nueral network MLPClassifier using gridsearchCV, as well as the results of a 10-fold cross validation for accuracy, precision and recall.  The results of the model as well as its comparison against the 4 previous model will be explored in the subsequent sections of the report."
   ]
  },
  {
   "cell_type": "code",
   "execution_count": 48,
   "id": "9512f827",
   "metadata": {},
   "outputs": [
    {
     "name": "stdout",
     "output_type": "stream",
     "text": [
      "Fitting 10 folds for each of 60 candidates, totalling 600 fits\n"
     ]
    },
    {
     "data": {
      "text/plain": [
       "GridSearchCV(cv=ShuffleSplit(n_splits=10, random_state=5, test_size=0.2, train_size=None),\n",
       "             estimator=Pipeline(steps=[('scale', StandardScaler()),\n",
       "                                       ('PCA', PCA(n_components=15)),\n",
       "                                       ('clf', MLPClassifier())]),\n",
       "             n_jobs=7,\n",
       "             param_grid={'clf__alpha': [0.01, 1, 10, 100, 1000],\n",
       "                         'clf__learning_rate': ['constant', 'invscaling'],\n",
       "                         'clf__max_iter': [200, 500], 'clf__random_state': [5],\n",
       "                         'clf__solver': ['lbfgs', 'sgd', 'adam']},\n",
       "             scoring='accuracy', verbose=1)"
      ]
     },
     "execution_count": 48,
     "metadata": {},
     "output_type": "execute_result"
    }
   ],
   "source": [
    "# MLPClassifier\n",
    "regEstimator = MLPClassifier()\n",
    "\n",
    "pipeline = Pipeline([\n",
    "    ('scale', scl),\n",
    "    ('PCA',PCA(n_components=15, svd_solver='auto')),\n",
    "    ('clf', regEstimator),\\\n",
    "])\n",
    "\n",
    "parameters = { 'clf__alpha': [0.01, 1, 10, 100, 1000]\n",
    "              ,'clf__random_state': [5]\n",
    "              ,'clf__solver': ['lbfgs','sgd', 'adam']\n",
    "              ,'clf__learning_rate':['constant', 'invscaling']\n",
    "              ,'clf__max_iter':[200,500]\n",
    "             }\n",
    "\n",
    "regGridSearch = GridSearchCV(pipeline, param_grid=parameters, cv=cv, n_jobs=7, verbose=1, scoring='accuracy')\n",
    "\n",
    "#X_scaled_satisfied = scl.transform(model_satisfied_x)\n",
    "regGridSearch.fit(model_satisfied_x, model_satisfied_y)"
   ]
  },
  {
   "cell_type": "code",
   "execution_count": 49,
   "id": "270fcfb9",
   "metadata": {},
   "outputs": [
    {
     "data": {
      "text/plain": [
       "Pipeline(steps=[('scale', StandardScaler()), ('PCA', PCA(n_components=15)),\n",
       "                ('clf',\n",
       "                 MLPClassifier(alpha=10, max_iter=500, random_state=5,\n",
       "                               solver='lbfgs'))])"
      ]
     },
     "execution_count": 49,
     "metadata": {},
     "output_type": "execute_result"
    }
   ],
   "source": [
    "regGridSearch.best_estimator_"
   ]
  },
  {
   "cell_type": "code",
   "execution_count": 50,
   "id": "f593d6c9",
   "metadata": {},
   "outputs": [
    {
     "name": "stdout",
     "output_type": "stream",
     "text": [
      "The average accuracy for all cv folds is: \t\t\t 0.93572\n",
      "The average precision for all cv folds is: \t\t\t 0.93731\n",
      "The average recall for all cv folds is: \t\t\t 0.9127\n",
      "*********************************************************\n",
      "Cross Validation Fold Mean Error Scores\n"
     ]
    },
    {
     "data": {
      "text/html": [
       "<div>\n",
       "<style scoped>\n",
       "    .dataframe tbody tr th:only-of-type {\n",
       "        vertical-align: middle;\n",
       "    }\n",
       "\n",
       "    .dataframe tbody tr th {\n",
       "        vertical-align: top;\n",
       "    }\n",
       "\n",
       "    .dataframe thead th {\n",
       "        text-align: right;\n",
       "    }\n",
       "</style>\n",
       "<table border=\"1\" class=\"dataframe\">\n",
       "  <thead>\n",
       "    <tr style=\"text-align: right;\">\n",
       "      <th></th>\n",
       "      <th>Accuracy</th>\n",
       "      <th>Precision</th>\n",
       "      <th>Recall</th>\n",
       "    </tr>\n",
       "  </thead>\n",
       "  <tbody>\n",
       "    <tr>\n",
       "      <th>0</th>\n",
       "      <td>0.934203</td>\n",
       "      <td>0.935077</td>\n",
       "      <td>0.914281</td>\n",
       "    </tr>\n",
       "    <tr>\n",
       "      <th>1</th>\n",
       "      <td>0.935014</td>\n",
       "      <td>0.934372</td>\n",
       "      <td>0.913359</td>\n",
       "    </tr>\n",
       "    <tr>\n",
       "      <th>2</th>\n",
       "      <td>0.936289</td>\n",
       "      <td>0.939108</td>\n",
       "      <td>0.912374</td>\n",
       "    </tr>\n",
       "    <tr>\n",
       "      <th>3</th>\n",
       "      <td>0.935092</td>\n",
       "      <td>0.937255</td>\n",
       "      <td>0.912088</td>\n",
       "    </tr>\n",
       "    <tr>\n",
       "      <th>4</th>\n",
       "      <td>0.934512</td>\n",
       "      <td>0.937616</td>\n",
       "      <td>0.908562</td>\n",
       "    </tr>\n",
       "    <tr>\n",
       "      <th>5</th>\n",
       "      <td>0.934319</td>\n",
       "      <td>0.936768</td>\n",
       "      <td>0.911188</td>\n",
       "    </tr>\n",
       "    <tr>\n",
       "      <th>6</th>\n",
       "      <td>0.937061</td>\n",
       "      <td>0.938224</td>\n",
       "      <td>0.914188</td>\n",
       "    </tr>\n",
       "    <tr>\n",
       "      <th>7</th>\n",
       "      <td>0.939532</td>\n",
       "      <td>0.941687</td>\n",
       "      <td>0.915955</td>\n",
       "    </tr>\n",
       "    <tr>\n",
       "      <th>8</th>\n",
       "      <td>0.935400</td>\n",
       "      <td>0.935552</td>\n",
       "      <td>0.913587</td>\n",
       "    </tr>\n",
       "    <tr>\n",
       "      <th>9</th>\n",
       "      <td>0.935748</td>\n",
       "      <td>0.937471</td>\n",
       "      <td>0.911376</td>\n",
       "    </tr>\n",
       "  </tbody>\n",
       "</table>\n",
       "</div>"
      ],
      "text/plain": [
       "   Accuracy  Precision    Recall\n",
       "0  0.934203   0.935077  0.914281\n",
       "1  0.935014   0.934372  0.913359\n",
       "2  0.936289   0.939108  0.912374\n",
       "3  0.935092   0.937255  0.912088\n",
       "4  0.934512   0.937616  0.908562\n",
       "5  0.934319   0.936768  0.911188\n",
       "6  0.937061   0.938224  0.914188\n",
       "7  0.939532   0.941687  0.915955\n",
       "8  0.935400   0.935552  0.913587\n",
       "9  0.935748   0.937471  0.911376"
      ]
     },
     "execution_count": 50,
     "metadata": {},
     "output_type": "execute_result"
    }
   ],
   "source": [
    "classifierEst_2 = regGridSearch.best_estimator_\n",
    "\n",
    "EvaluateClassifierEstimator(classifierEst_2, X_a, y_a, cv)"
   ]
  },
  {
   "cell_type": "code",
   "execution_count": 64,
   "id": "a470a56a",
   "metadata": {},
   "outputs": [
    {
     "name": "stdout",
     "output_type": "stream",
     "text": [
      "Fitting 10 folds for each of 60 candidates, totalling 600 fits\n"
     ]
    },
    {
     "data": {
      "text/plain": [
       "GridSearchCV(cv=ShuffleSplit(n_splits=10, random_state=5, test_size=0.2, train_size=None),\n",
       "             estimator=Pipeline(steps=[('scale', StandardScaler()),\n",
       "                                       ('PCA', PCA(n_components=15)),\n",
       "                                       ('clf', MLPClassifier())]),\n",
       "             n_jobs=7,\n",
       "             param_grid={'clf__alpha': [0.01, 1, 10, 100, 1000],\n",
       "                         'clf__learning_rate': ['constant', 'invscaling'],\n",
       "                         'clf__max_iter': [200, 500], 'clf__random_state': [5],\n",
       "                         'clf__solver': ['lbfgs', 'sgd', 'adam']},\n",
       "             scoring='accuracy', verbose=1)"
      ]
     },
     "execution_count": 64,
     "metadata": {},
     "output_type": "execute_result"
    }
   ],
   "source": [
    "# MLPClassifier\n",
    "regEstimator = MLPClassifier()\n",
    "\n",
    "pipeline = Pipeline([\n",
    "    ('scale', scl),\n",
    "    ('PCA',PCA(n_components=15, svd_solver='auto')),\n",
    "    ('clf', regEstimator),\\\n",
    "])\n",
    "\n",
    "parameters = { 'clf__alpha': [0.01, 1, 10, 100, 1000]\n",
    "              ,'clf__random_state': [5]\n",
    "              ,'clf__solver': ['lbfgs','sgd', 'adam']\n",
    "              ,'clf__learning_rate':['constant', 'invscaling']\n",
    "              ,'clf__max_iter':[200,500]\n",
    "             }\n",
    "\n",
    "regGridSearch = GridSearchCV(pipeline, param_grid=parameters, cv=cv, n_jobs=7, verbose=1, scoring='accuracy')\n",
    "\n",
    "regGridSearch.fit(model_clean_x, model_clean_y)"
   ]
  },
  {
   "cell_type": "code",
   "execution_count": 65,
   "id": "3ec0cb31",
   "metadata": {},
   "outputs": [
    {
     "data": {
      "text/plain": [
       "Pipeline(steps=[('scale', StandardScaler()), ('PCA', PCA(n_components=15)),\n",
       "                ('clf',\n",
       "                 MLPClassifier(alpha=100, max_iter=500, random_state=5,\n",
       "                               solver='lbfgs'))])"
      ]
     },
     "execution_count": 65,
     "metadata": {},
     "output_type": "execute_result"
    }
   ],
   "source": [
    "regGridSearch.best_estimator_"
   ]
  },
  {
   "cell_type": "code",
   "execution_count": 66,
   "id": "2b06cef1",
   "metadata": {},
   "outputs": [
    {
     "name": "stdout",
     "output_type": "stream",
     "text": [
      "The average accuracy for all cv folds is: \t\t\t 0.90418\n",
      "The average precision for all cv folds is: \t\t\t 0.9078\n",
      "The average recall for all cv folds is: \t\t\t 0.96408\n",
      "*********************************************************\n",
      "Cross Validation Fold Mean Error Scores\n"
     ]
    },
    {
     "data": {
      "text/html": [
       "<div>\n",
       "<style scoped>\n",
       "    .dataframe tbody tr th:only-of-type {\n",
       "        vertical-align: middle;\n",
       "    }\n",
       "\n",
       "    .dataframe tbody tr th {\n",
       "        vertical-align: top;\n",
       "    }\n",
       "\n",
       "    .dataframe thead th {\n",
       "        text-align: right;\n",
       "    }\n",
       "</style>\n",
       "<table border=\"1\" class=\"dataframe\">\n",
       "  <thead>\n",
       "    <tr style=\"text-align: right;\">\n",
       "      <th></th>\n",
       "      <th>Accuracy</th>\n",
       "      <th>Precision</th>\n",
       "      <th>Recall</th>\n",
       "    </tr>\n",
       "  </thead>\n",
       "  <tbody>\n",
       "    <tr>\n",
       "      <th>0</th>\n",
       "      <td>0.902850</td>\n",
       "      <td>0.907162</td>\n",
       "      <td>0.962983</td>\n",
       "    </tr>\n",
       "    <tr>\n",
       "      <th>1</th>\n",
       "      <td>0.900919</td>\n",
       "      <td>0.903594</td>\n",
       "      <td>0.964091</td>\n",
       "    </tr>\n",
       "    <tr>\n",
       "      <th>2</th>\n",
       "      <td>0.903931</td>\n",
       "      <td>0.906183</td>\n",
       "      <td>0.965597</td>\n",
       "    </tr>\n",
       "    <tr>\n",
       "      <th>3</th>\n",
       "      <td>0.906865</td>\n",
       "      <td>0.909697</td>\n",
       "      <td>0.966447</td>\n",
       "    </tr>\n",
       "    <tr>\n",
       "      <th>4</th>\n",
       "      <td>0.905861</td>\n",
       "      <td>0.910193</td>\n",
       "      <td>0.963598</td>\n",
       "    </tr>\n",
       "    <tr>\n",
       "      <th>5</th>\n",
       "      <td>0.905591</td>\n",
       "      <td>0.908616</td>\n",
       "      <td>0.965214</td>\n",
       "    </tr>\n",
       "    <tr>\n",
       "      <th>6</th>\n",
       "      <td>0.902772</td>\n",
       "      <td>0.907637</td>\n",
       "      <td>0.961574</td>\n",
       "    </tr>\n",
       "    <tr>\n",
       "      <th>7</th>\n",
       "      <td>0.905437</td>\n",
       "      <td>0.909234</td>\n",
       "      <td>0.964622</td>\n",
       "    </tr>\n",
       "    <tr>\n",
       "      <th>8</th>\n",
       "      <td>0.903854</td>\n",
       "      <td>0.908035</td>\n",
       "      <td>0.962987</td>\n",
       "    </tr>\n",
       "    <tr>\n",
       "      <th>9</th>\n",
       "      <td>0.903738</td>\n",
       "      <td>0.907637</td>\n",
       "      <td>0.963664</td>\n",
       "    </tr>\n",
       "  </tbody>\n",
       "</table>\n",
       "</div>"
      ],
      "text/plain": [
       "   Accuracy  Precision    Recall\n",
       "0  0.902850   0.907162  0.962983\n",
       "1  0.900919   0.903594  0.964091\n",
       "2  0.903931   0.906183  0.965597\n",
       "3  0.906865   0.909697  0.966447\n",
       "4  0.905861   0.910193  0.963598\n",
       "5  0.905591   0.908616  0.965214\n",
       "6  0.902772   0.907637  0.961574\n",
       "7  0.905437   0.909234  0.964622\n",
       "8  0.903854   0.908035  0.962987\n",
       "9  0.903738   0.907637  0.963664"
      ]
     },
     "execution_count": 66,
     "metadata": {},
     "output_type": "execute_result"
    }
   ],
   "source": [
    "classifierEst_7 = regGridSearch.best_estimator_\n",
    "\n",
    "EvaluateClassifierEstimator(classifierEst_7, X_b, y_b, cv)"
   ]
  },
  {
   "cell_type": "code",
   "execution_count": null,
   "id": "9a4888c0",
   "metadata": {},
   "outputs": [],
   "source": []
  },
  {
   "cell_type": "code",
   "execution_count": null,
   "id": "f14f1bd4",
   "metadata": {},
   "outputs": [],
   "source": []
  },
  {
   "cell_type": "code",
   "execution_count": null,
   "id": "08c2aa9e",
   "metadata": {},
   "outputs": [],
   "source": []
  },
  {
   "cell_type": "code",
   "execution_count": null,
   "id": "b0c8c9f7",
   "metadata": {},
   "outputs": [],
   "source": []
  },
  {
   "cell_type": "code",
   "execution_count": 77,
   "id": "515708fb",
   "metadata": {},
   "outputs": [],
   "source": [
    "# ROC for all models for satisfaction classification\n",
    "from sklearn.metrics import roc_curve, roc_auc_score\n",
    "from sklearn.model_selection import train_test_split\n",
    "from sklearn import preprocessing\n",
    "\n",
    "\n",
    "classifiers_a = [LogisticRegression(C=1000, class_weight='balanced',\n",
    "                                    random_state=5, solver='liblinear'), \n",
    "               DecisionTreeClassifier(class_weight='balanced',\n",
    "                                        criterion='entropy', max_depth=10,\n",
    "                                        random_state=5),\n",
    "               RandomForestClassifier(class_weight='balanced', max_depth=20,n_jobs=7,\n",
    "                                        n_estimators=200, random_state=5),\n",
    "               SVC(C=1, gamma='auto',degree=3,kernel='rbf',random_state=5,probability=True),\n",
    "               MLPClassifier(alpha=10, max_iter=500, random_state=5,\n",
    "                               solver='lbfgs')]\n",
    "\n",
    "X_train_a, X_test_a, y_train_a, y_test_a = train_test_split(X_a, y_a, random_state=5, test_size=0.2,stratify=y)\n",
    "scaler_a = preprocessing.StandardScaler().fit(X_train_a)\n",
    "X_train_scaled_a = scaler_a.transform(X_train_a)\n",
    "X_test_scaled_a = scaler_a.transform(X_test_a)\n",
    "\n",
    "result_table_a = pd.DataFrame(columns=['classifiers','fpr','tpr','auc'])\n",
    "\n",
    "# Train the models and record the results\n",
    "for cls in classifiers_a:\n",
    "    model_a = cls.fit(X_train_scaled_a, y_train_a)\n",
    "    yhat_a = model_a.predict_proba(X_test_scaled_a)[::,1]\n",
    "    \n",
    "    fpr, tpr, _ = roc_curve(y_test_a,  yhat_a)\n",
    "    auc = roc_auc_score(y_test_a, yhat_a)\n",
    "    \n",
    "    result_table_a = result_table_a.append({'classifiers':cls.__class__.__name__,\n",
    "                                        'fpr':fpr, \n",
    "                                        'tpr':tpr, \n",
    "                                        'auc':auc}, ignore_index=True)\n"
   ]
  },
  {
   "cell_type": "code",
   "execution_count": 78,
   "id": "02cf0913",
   "metadata": {},
   "outputs": [],
   "source": [
    "result_table_a.set_index('classifiers', inplace=True)"
   ]
  },
  {
   "cell_type": "code",
   "execution_count": 79,
   "id": "ac3903fd",
   "metadata": {},
   "outputs": [
    {
     "data": {
      "image/png": "[encoded data removed]",
      "text/plain": [
       "<Figure size 576x432 with 1 Axes>"
      ]
     },
     "metadata": {},
     "output_type": "display_data"
    }
   ],
   "source": [
    "%matplotlib inline\n",
    "import matplotlib.pyplot as plt\n",
    "import seaborn as sns\n",
    "sns.set()\n",
    "\n",
    "fig = plt.figure(figsize=(8,6))\n",
    "\n",
    "for i in result_table_a.index:\n",
    "    plt.plot(result_table_a.loc[i]['fpr'], \n",
    "             result_table_a.loc[i]['tpr'], \n",
    "             label=\"{}, AUC={:.3f}\".format(i, result_table_a.loc[i]['auc']))\n",
    "    \n",
    "plt.plot([0,1], [0,1], color='orange', linestyle='--')\n",
    "\n",
    "plt.xticks(np.arange(0.0, 1.1, step=0.1))\n",
    "plt.xlabel(\"Flase Positive Rate\", fontsize=15)\n",
    "\n",
    "plt.yticks(np.arange(0.0, 1.1, step=0.1))\n",
    "plt.ylabel(\"True Positive Rate\", fontsize=15)\n",
    "\n",
    "plt.title('ROC Curve Analysis for Statisfaction Classification', fontweight='bold', fontsize=15)\n",
    "plt.legend(prop={'size':13}, loc='lower right')\n",
    "\n",
    "plt.show()"
   ]
  },
  {
   "cell_type": "code",
   "execution_count": 80,
   "id": "d92feb8b",
   "metadata": {},
   "outputs": [],
   "source": [
    "# ROC for all models for cleanliness classification\n",
    "\n",
    "classifiers_b = [LogisticRegression(C=10, class_weight='balanced',\n",
    "                                    random_state=5, solver='liblinear'), \n",
    "               DecisionTreeClassifier(class_weight='balanced',\n",
    "                                        criterion='entropy', max_depth=50,\n",
    "                                        random_state=5),\n",
    "               RandomForestClassifier(class_weight='balanced',\n",
    "                                        criterion='entropy', max_depth=50,n_jobs=7,\n",
    "                                        n_estimators=150, random_state=5),\n",
    "               SVC(C=1, gamma='auto',degree=3,kernel='rbf',random_state=5,probability=True),\n",
    "               MLPClassifier(alpha=100, max_iter=500, random_state=5,\n",
    "                               solver='lbfgs')]\n",
    "\n",
    "X_train_b, X_test_b, y_train_b, y_test_b = train_test_split(X_b, y_b, random_state=5, test_size=0.2,stratify=y)\n",
    "scaler_b = preprocessing.StandardScaler().fit(X_train_b)\n",
    "X_train_scaled_b = scaler_b.transform(X_train_b)\n",
    "X_test_scaled_b = scaler_b.transform(X_test_b)\n",
    "\n",
    "result_table_b = pd.DataFrame(columns=['classifiers', 'fpr','tpr','auc'])\n",
    "\n",
    "# Train the models and record the results\n",
    "for cls in classifiers_b:\n",
    "    model_b = cls.fit(X_train_scaled_b, y_train_b)\n",
    "    yhat_b = model_b.predict_proba(X_test_scaled_b)[::,1]\n",
    "    \n",
    "    fpr, tpr, _ = roc_curve(y_test_b,  yhat_b)\n",
    "    auc = roc_auc_score(y_test_b, yhat_b)\n",
    "    \n",
    "    result_table_b = result_table_b.append({'classifiers':cls.__class__.__name__,\n",
    "                                        'fpr':fpr, \n",
    "                                        'tpr':tpr, \n",
    "                                        'auc':auc}, ignore_index=True)\n",
    "\n",
    "# Set name of the classifiers as index labels\n",
    "result_table_b.set_index('classifiers', inplace=True)"
   ]
  },
  {
   "cell_type": "code",
   "execution_count": 81,
   "id": "8e08cadd",
   "metadata": {},
   "outputs": [
    {
     "data": {
      "image/png": "[encoded data removed]",
      "text/plain": [
       "<Figure size 576x432 with 1 Axes>"
      ]
     },
     "metadata": {},
     "output_type": "display_data"
    }
   ],
   "source": [
    "fig = plt.figure(figsize=(8,6))\n",
    "\n",
    "for i in result_table_b.index:\n",
    "    plt.plot(result_table_b.loc[i]['fpr'], \n",
    "             result_table_b.loc[i]['tpr'], \n",
    "             label=\"{}, AUC={:.3f}\".format(i, result_table_b.loc[i]['auc']))\n",
    "    \n",
    "plt.plot([0,1], [0,1], color='orange', linestyle='--')\n",
    "\n",
    "plt.xticks(np.arange(0.0, 1.1, step=0.1))\n",
    "plt.xlabel(\"Flase Positive Rate\", fontsize=15)\n",
    "\n",
    "plt.yticks(np.arange(0.0, 1.1, step=0.1))\n",
    "plt.ylabel(\"True Positive Rate\", fontsize=15)\n",
    "\n",
    "plt.title('ROC Curve Analysis for Cleanliness Classification', fontweight='bold', fontsize=15)\n",
    "plt.legend(prop={'size':13}, loc='lower right')\n",
    "\n",
    "plt.show()"
   ]
  },
  {
   "cell_type": "code",
   "execution_count": 82,
   "id": "570a2b8d",
   "metadata": {},
   "outputs": [
    {
     "name": "stdout",
     "output_type": "stream",
     "text": [
      "Random Forest accuracy: 95.93%\n",
      "Multi-layer Perceptron accuracy: 95.66%\n"
     ]
    }
   ],
   "source": [
    "#Satisfaction classification shows Random Forest and MLP classifers have top two accuracies \n",
    "from mlxtend.evaluate import paired_ttest_5x2cv\n",
    "\n",
    "clf1_a = RandomForestClassifier(class_weight='balanced', max_depth=20,n_jobs=7, n_estimators=200, random_state=5)\n",
    "clf2_a = MLPClassifier(alpha=10, max_iter=500, random_state=5, solver='lbfgs')\n",
    "\n",
    "score1_a = clf1_a.fit(X_train_scaled_a, y_train_a).score(X_test_scaled_a, y_test_a)\n",
    "score2_a = clf2_a.fit(X_train_scaled_a, y_train_a).score(X_test_scaled_a, y_test_a)\n",
    "\n",
    "print('Random Forest accuracy: %.2f%%' % (score1_a*100))\n",
    "print('Multi-layer Perceptron accuracy: %.2f%%' % (score2_a*100))"
   ]
  },
  {
   "cell_type": "code",
   "execution_count": 83,
   "id": "7a15731a",
   "metadata": {},
   "outputs": [
    {
     "name": "stdout",
     "output_type": "stream",
     "text": [
      "t statistic: 1.694\n",
      "p value: 0.151\n"
     ]
    }
   ],
   "source": [
    "t, p = paired_ttest_5x2cv(estimator1=clf1_a, estimator2=clf2_a, X=X_a, y=y_a, random_seed=5)\n",
    "\n",
    "print('t statistic: %.3f' % t)\n",
    "print('p value: %.3f' % p)"
   ]
  },
  {
   "cell_type": "code",
   "execution_count": 84,
   "id": "fb8d0c9f",
   "metadata": {},
   "outputs": [
    {
     "name": "stdout",
     "output_type": "stream",
     "text": [
      "Random Forest accuracy: 92.10%\n",
      "Multi-layer Perceptron accuracy: 91.77%\n"
     ]
    }
   ],
   "source": [
    "#Cleanliness classification shows Random Forest and MLP classifers have top two accuracies\n",
    "clf1_b = RandomForestClassifier(class_weight='balanced', criterion='entropy', max_depth=50,n_jobs=7, n_estimators=150, random_state=5)\n",
    "clf2_b = MLPClassifier(alpha=100, max_iter=500, random_state=5, solver='lbfgs')\n",
    "\n",
    "score1_b = clf1_b.fit(X_train_scaled_b, y_train_b).score(X_test_scaled_b, y_test_b)\n",
    "score2_b = clf2_b.fit(X_train_scaled_b, y_train_b).score(X_test_scaled_b, y_test_b)\n",
    "\n",
    "print('Random Forest accuracy: %.2f%%' % (score1_b*100))\n",
    "print('Multi-layer Perceptron accuracy: %.2f%%' % (score2_b*100))"
   ]
  },
  {
   "cell_type": "code",
   "execution_count": 85,
   "id": "3590d960",
   "metadata": {},
   "outputs": [
    {
     "name": "stdout",
     "output_type": "stream",
     "text": [
      "t statistic: 3.459\n",
      "p value: 0.018\n"
     ]
    }
   ],
   "source": [
    "t, p = paired_ttest_5x2cv(estimator1=clf1_b, estimator2=clf2_b, X=X_b, y=y_b, random_seed=5)\n",
    "\n",
    "print('t statistic: %.3f' % t)\n",
    "print('p value: %.3f' % p)"
   ]
  },
  {
   "cell_type": "code",
   "execution_count": 86,
   "id": "9a3e3757",
   "metadata": {},
   "outputs": [
    {
     "data": {
      "text/plain": [
       "RandomForestClassifier(class_weight='balanced', max_depth=50, n_estimators=200,\n",
       "                       random_state=5)"
      ]
     },
     "execution_count": 86,
     "metadata": {},
     "output_type": "execute_result"
    }
   ],
   "source": [
    "scaler = StandardScaler()\n",
    "scaler.fit(X_a)\n",
    "\n",
    "#Transform training data to z-scores\n",
    "#This makes our model's coefficients take on the same scale for accurate feature importance analisys \n",
    "X_a_Scl = scaler.transform(X_a)\n",
    "\n",
    "regEstimator_a = RandomForestClassifier(class_weight='balanced', max_depth=50, n_estimators=200, random_state=5)\n",
    "regEstimator_a.fit(X_a_Scl, y_a)"
   ]
  },
  {
   "cell_type": "code",
   "execution_count": 87,
   "id": "9a83af90",
   "metadata": {},
   "outputs": [],
   "source": [
    "weights = regEstimator_a.feature_importances_.ravel()\n",
    "feature_names = airline_df_dummy_satisfied.drop('satisfaction', axis=1).copy().columns.values                  \n",
    "linreg_ft_imp_df = pd.DataFrame({'feature_names':feature_names, 'weights':weights, 'absolute_weights': np.abs(weights)})\n",
    "linreg_ft_imp_df.sort_values(by='absolute_weights', inplace=True, ascending=False )"
   ]
  },
  {
   "cell_type": "code",
   "execution_count": 88,
   "id": "6e31bb7b",
   "metadata": {},
   "outputs": [
    {
     "data": {
      "image/png": "[encoded data removed]",
      "text/plain": [
       "<Figure size 1440x576 with 1 Axes>"
      ]
     },
     "metadata": {},
     "output_type": "display_data"
    }
   ],
   "source": [
    "plt.style.use('ggplot')\n",
    "\n",
    "wt_plt_df = linreg_ft_imp_df.head(75)\n",
    "\n",
    "weights = pd.Series(wt_plt_df['weights'].values,index=wt_plt_df['feature_names'])\n",
    "ax = weights.plot(kind='bar', figsize=(20,8))\n",
    "\n",
    "ax.set_title(\"Top Feature Correlations for Satisfaction Classification\")\n",
    "ax.set_ylabel(\"Coefficient Magnitude\\n(z-score)\")\n",
    "ax.set_xlabel(\"Feature Names\")\n",
    "plt.show()"
   ]
  },
  {
   "cell_type": "code",
   "execution_count": 89,
   "id": "3736875e",
   "metadata": {},
   "outputs": [
    {
     "data": {
      "text/plain": [
       "RandomForestClassifier(class_weight='balanced', criterion='entropy',\n",
       "                       max_depth=50, n_estimators=150, random_state=5)"
      ]
     },
     "execution_count": 89,
     "metadata": {},
     "output_type": "execute_result"
    }
   ],
   "source": [
    "scaler.fit(X_b)\n",
    "\n",
    "X_b_Scl = scaler.transform(X_b)\n",
    "\n",
    "regEstimator_b = RandomForestClassifier(class_weight='balanced',criterion='entropy', max_depth=50, n_estimators=150, random_state=5)\n",
    "regEstimator_b.fit(X_b_Scl, y_b)"
   ]
  },
  {
   "cell_type": "code",
   "execution_count": 90,
   "id": "8bc20adf",
   "metadata": {},
   "outputs": [],
   "source": [
    "weights = regEstimator_b.feature_importances_.ravel()\n",
    "feature_names = airline_df_dummy_clean.drop('clean', axis=1).copy().columns.values                                  \n",
    "linreg_ft_imp_df = pd.DataFrame({'feature_names':feature_names, 'weights':weights, 'absolute_weights': np.abs(weights)})\n",
    "linreg_ft_imp_df.sort_values(by='absolute_weights', inplace=True, ascending=False )"
   ]
  },
  {
   "cell_type": "code",
   "execution_count": 91,
   "id": "6ba3bd6d",
   "metadata": {},
   "outputs": [
    {
     "data": {
      "image/png": "[encoded data removed]",
      "text/plain": [
       "<Figure size 1440x576 with 1 Axes>"
      ]
     },
     "metadata": {},
     "output_type": "display_data"
    }
   ],
   "source": [
    "plt.style.use('ggplot')\n",
    "\n",
    "wt_plt_df = linreg_ft_imp_df.head(75)\n",
    "\n",
    "weights = pd.Series(wt_plt_df['weights'].values,index=wt_plt_df['feature_names'])\n",
    "ax = weights.plot(kind='bar', figsize=(20,8))\n",
    "\n",
    "ax.set_title(\"Top Feature Correlations for Cleanliness Classification\")\n",
    "ax.set_ylabel(\"Coefficient Magnitude\\n(z-score)\")\n",
    "ax.set_xlabel(\"Feature Names\")\n",
    "plt.show()"
   ]
  },
  {
   "cell_type": "markdown",
   "id": "5849a634",
   "metadata": {},
   "source": [
    "## 3. Deployment"
   ]
  },
  {
   "cell_type": "markdown",
   "id": "83036181",
   "metadata": {},
   "source": [
    "The models built have proven to be very accurate for predicitng flight satisfaction and cleanliness, 95% and 92% respectively.  \n",
    "Companies that may find this usefull would be airline companies such as United,southwest,delta etc.  They could offer surveys to their customers during or after the flight for all the inputs that would not already be in their databases and use these to predict satisfaction or cleanliness.  With the recent events of the pandemic, cleanliness is more important now than ever, while it might be obstuse or in poor taste to ask ouright what a customers thought on cleanliness of the flight was, using the model based on correlated variables will give the airlines the statistics they need to improve it.\n",
    "\n",
    "In addition other vendors could find these models usefull.  By referncing the variables that have the highest feature correlation to that of flight satisfaction or cleanliness, vendors can use this info to sell to new technology or services airlines and be part of their supply chain, or other companies specializing in travel accessories can market these directly to consumers.\n",
    "\n",
    "\n",
    "To deploy the model there are multiple options that would available to the end customer.  Firslty the full code and all documentation would be placed on a private github to be given to the client.  This can be used or referenced by their development team, auditors ect or anyone at the customer who needs access to the raw code and full documentation.  There are multiple choices for how the end code can be used by the customer\n",
    "\n",
    "1. Jupyter notebook: Depending on the python and technical skills of the customers employees, a simple jupyetrnotebook could be built that would allow the customer to manually upload a CSV or excel file to run predictions on new or existing data.\n",
    "\n",
    "2. Web app deployment:  If the company is less technically savy then a webapp using Django/Flask framework can be created to make operational use of the models very easy.  Similar as above, there could be a button that allows manual uploading of excel/csv files or from a database to allow the customer to run the model without any python coding.\n",
    "\n",
    "3. Python Executable:  If the customer does not want to pay to host a webapp on the clould ,another option would be to create an executable using pyinstaller.  This would function similar to the webapp but would be run locally on the customers desktop and python skills are not needed to run.\n",
    "\n",
    "\n",
    "While the model is useful and accurate now, there could be external factors such as new technologies, pandemics, competition, etc that could create or change the factors that influence overall flight satisfaction and cleanliness.  When possible data should continouslly be collected so the model can be rerun with the latest data for training purposes.  Airline companies can use incentive based surveys to get all of the ordinal ranking information from their customer base whenever possible.  The original dataset contains ~130K records.  As new datapoints are gathered it is advised to remove the oldest from the dataset and on a quarterly basis rerun the models to be up to date with current trends.\n",
    "\n"
   ]
  },
  {
   "cell_type": "code",
   "execution_count": null,
   "id": "a14972c4",
   "metadata": {},
   "outputs": [],
   "source": []
  }
 ],
 "metadata": {
  "kernelspec": {
   "display_name": "Python 3",
   "language": "python",
   "name": "python3"
  },
  "language_info": {
   "codemirror_mode": {
    "name": "ipython",
    "version": 3
   },
   "file_extension": ".py",
   "mimetype": "text/x-python",
   "name": "python",
   "nbconvert_exporter": "python",
   "pygments_lexer": "ipython3",
   "version": "3.8.8"
  }
 },
 "nbformat": 4,
 "nbformat_minor": 5
}
