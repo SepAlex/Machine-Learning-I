{
 "cells": [
  {
   "cell_type": "markdown",
   "metadata": {},
   "source": [
    "# Ariline Customer Satisfaction (Lab 2: DS7331)\n",
    "\n",
    "SMU Student collaboration:\n",
    "1. Renfeng Wang\n",
    "2. Alexander Sepenu\n",
    "3. Zachary Zaiken\n",
    "4. Venkata 'MG' Vanga\n",
    "\n",
    "\n",
    "\n",
    "In continuation of the discussion from Mini Lab, we continue with the Airline customer satisfaction data set for this Lab 2 to focus on more classification models and apply models to a different attribute.\n",
    "\n",
    "________________________________________________________________________________________________________"
   ]
  },
  {
   "cell_type": "markdown",
   "metadata": {},
   "source": [
    "## 1. Data Preparation\n",
    "### Part 1\n",
    "\n",
    "The code below shows one-hot encoding, PCA and how we split the explanatory variable and response variable. In lab 2, we are still going to use satisfaction attribute as our response variable. In addition, we will try to predict whether the customer found the flight to be clean or not. Thus, we will have two sets of explanatory variable and response variable."
   ]
  },
  {
   "cell_type": "markdown",
   "metadata": {},
   "source": [
    "### A. Response Variable: Satisfaction and expalanatory variables creation\n",
    "\n",
    "The response variable satisfaction is split to 'neutral or dissatisfied':0 and 'satisfied':1.\n",
    "\n",
    "The continuous variables 'flight_distance', 'departure_delay_in_minutes', arrival_delay_in_minutes and 'age' are segmented using pandas cut feature as shown below.\n",
    "\n",
    "These segmented features are further transformed using pandas get_dummy function to use in the final prediction of airline customer satisfaction.\n",
    "\n",
    "The original attributes that got transformed are dropped from the original 'airline_df' dataframe to form 'X_a' dataframe. The response dataframe 'y_a' has the transformed satisfaction data. \n",
    "\n",
    "Both 'X_a' and 'y_a' are combined into 'airline_df_dummy_satisfied' dataframe that is used for prediction in this scenario A.\n"
   ]
  },
  {
   "cell_type": "code",
   "execution_count": 1,
   "metadata": {},
   "outputs": [],
   "source": [
    "import pandas as pd\n",
    "import numpy as np\n",
    "import warnings\n",
    "warnings.filterwarnings('ignore')\n",
    "\n",
    "airline_df = pd.read_csv('https://raw.githubusercontent.com/wangrenfeng0/Machine-Learning-I/main/airline_passenger_satisfaction.csv') \n",
    "\n",
    "if 'Unnamed: 0' in airline_df:\n",
    "    del airline_df['Unnamed: 0']\n",
    "\n",
    "airline_df = airline_df.dropna()\n",
    "\n",
    "Satisfaction ={'neutral or dissatisfied':0,'satisfied':1}\n",
    "airline_df.satisfaction = [Satisfaction[item] for item in airline_df.satisfaction]\n",
    "\n",
    "airline_df['flight_range'] = pd.cut(airline_df.flight_distance,[0,750,2000,10000],3,labels=[0,1,2])\n",
    "airline_df.flight_range = airline_df.flight_range.astype(int)\n",
    "\n",
    "airline_df['departure_delay_range'] = pd.cut(airline_df.departure_delay_in_minutes,[-1,30,90,1600],3,labels=[0,1,2])\n",
    "airline_df.departure_delay_range = airline_df.departure_delay_range.astype(int)\n",
    "\n",
    "airline_df['arrival_delay_range'] = pd.cut(airline_df.arrival_delay_in_minutes,[-1,30,90,1600],3,labels=[0,1,2])\n",
    "airline_df.arrival_delay_range = airline_df.arrival_delay_range.astype(int)\n",
    "\n",
    "airline_df['age_range'] = pd.cut(airline_df.age,[0,16,65,120],3,labels=[0,1,2])\n",
    "airline_df.age_range = airline_df.age_range.astype(int)\n",
    "\n",
    "X_a = airline_df.drop('satisfaction', axis=1).copy()\n",
    "\n",
    "\n",
    "y_a= airline_df['satisfaction'].copy()\n",
    "\n",
    "    \n",
    "X_a = pd.get_dummies(X_a, columns=['Gender', 'customer_type','type_of_travel','customer_class',\n",
    "                                       'flight_range','departure_delay_range','arrival_delay_range',\n",
    "                                       'age_range'])\n",
    "\n",
    "if 'Gender' in X_a:\n",
    "    del X_a['Gender'] \n",
    "    \n",
    "if 'customer_type' in X_a:    \n",
    "    del X_a['customer_type'] \n",
    "\n",
    "if 'age' in X_a:    \n",
    "    del X_a['age'] \n",
    "    \n",
    "if 'type_of_travel' in X_a:    \n",
    "    del X_a['type_of_travel'] \n",
    "    \n",
    "if 'customer_class' in X_a:    \n",
    "    del X_a['customer_class'] \n",
    "    \n",
    "if 'flight_distance' in X_a:    \n",
    "    del X_a['flight_distance'] \n",
    "\n",
    "if 'departure_delay_in_minutes' in X_a:    \n",
    "    del X_a['departure_delay_in_minutes'] \n",
    "    \n",
    "if 'arrival_delay_in_minutes' in X_a:    \n",
    "    del X_a['arrival_delay_in_minutes'] \n",
    "\n",
    "airline_df_dummy_satisfied = pd.concat((X_a,y_a),axis=1)\n"
   ]
  },
  {
   "cell_type": "code",
   "execution_count": 2,
   "metadata": {},
   "outputs": [
    {
     "data": {
      "text/html": [
       "<div>\n",
       "<style scoped>\n",
       "    .dataframe tbody tr th:only-of-type {\n",
       "        vertical-align: middle;\n",
       "    }\n",
       "\n",
       "    .dataframe tbody tr th {\n",
       "        vertical-align: top;\n",
       "    }\n",
       "\n",
       "    .dataframe thead th {\n",
       "        text-align: right;\n",
       "    }\n",
       "</style>\n",
       "<table border=\"1\" class=\"dataframe\">\n",
       "  <thead>\n",
       "    <tr style=\"text-align: right;\">\n",
       "      <th></th>\n",
       "      <th>inflight_wifi_service</th>\n",
       "      <th>departure_arrival_time_convenient</th>\n",
       "      <th>ease_of_online_booking</th>\n",
       "      <th>gate_location</th>\n",
       "      <th>food_and_drink</th>\n",
       "      <th>online_boarding</th>\n",
       "      <th>seat_comfort</th>\n",
       "      <th>inflight_entertainment</th>\n",
       "      <th>onboard_service</th>\n",
       "      <th>leg_room_service</th>\n",
       "      <th>...</th>\n",
       "      <th>departure_delay_range_0</th>\n",
       "      <th>departure_delay_range_1</th>\n",
       "      <th>departure_delay_range_2</th>\n",
       "      <th>arrival_delay_range_0</th>\n",
       "      <th>arrival_delay_range_1</th>\n",
       "      <th>arrival_delay_range_2</th>\n",
       "      <th>age_range_0</th>\n",
       "      <th>age_range_1</th>\n",
       "      <th>age_range_2</th>\n",
       "      <th>satisfaction</th>\n",
       "    </tr>\n",
       "  </thead>\n",
       "  <tbody>\n",
       "    <tr>\n",
       "      <th>0</th>\n",
       "      <td>3</td>\n",
       "      <td>4</td>\n",
       "      <td>3</td>\n",
       "      <td>1</td>\n",
       "      <td>5</td>\n",
       "      <td>3</td>\n",
       "      <td>5</td>\n",
       "      <td>5</td>\n",
       "      <td>4</td>\n",
       "      <td>3</td>\n",
       "      <td>...</td>\n",
       "      <td>1</td>\n",
       "      <td>0</td>\n",
       "      <td>0</td>\n",
       "      <td>1</td>\n",
       "      <td>0</td>\n",
       "      <td>0</td>\n",
       "      <td>1</td>\n",
       "      <td>0</td>\n",
       "      <td>0</td>\n",
       "      <td>0</td>\n",
       "    </tr>\n",
       "    <tr>\n",
       "      <th>1</th>\n",
       "      <td>3</td>\n",
       "      <td>2</td>\n",
       "      <td>3</td>\n",
       "      <td>3</td>\n",
       "      <td>1</td>\n",
       "      <td>3</td>\n",
       "      <td>1</td>\n",
       "      <td>1</td>\n",
       "      <td>1</td>\n",
       "      <td>5</td>\n",
       "      <td>...</td>\n",
       "      <td>1</td>\n",
       "      <td>0</td>\n",
       "      <td>0</td>\n",
       "      <td>1</td>\n",
       "      <td>0</td>\n",
       "      <td>0</td>\n",
       "      <td>0</td>\n",
       "      <td>1</td>\n",
       "      <td>0</td>\n",
       "      <td>0</td>\n",
       "    </tr>\n",
       "    <tr>\n",
       "      <th>2</th>\n",
       "      <td>2</td>\n",
       "      <td>2</td>\n",
       "      <td>2</td>\n",
       "      <td>2</td>\n",
       "      <td>5</td>\n",
       "      <td>5</td>\n",
       "      <td>5</td>\n",
       "      <td>5</td>\n",
       "      <td>4</td>\n",
       "      <td>3</td>\n",
       "      <td>...</td>\n",
       "      <td>1</td>\n",
       "      <td>0</td>\n",
       "      <td>0</td>\n",
       "      <td>1</td>\n",
       "      <td>0</td>\n",
       "      <td>0</td>\n",
       "      <td>0</td>\n",
       "      <td>1</td>\n",
       "      <td>0</td>\n",
       "      <td>1</td>\n",
       "    </tr>\n",
       "    <tr>\n",
       "      <th>3</th>\n",
       "      <td>2</td>\n",
       "      <td>5</td>\n",
       "      <td>5</td>\n",
       "      <td>5</td>\n",
       "      <td>2</td>\n",
       "      <td>2</td>\n",
       "      <td>2</td>\n",
       "      <td>2</td>\n",
       "      <td>2</td>\n",
       "      <td>5</td>\n",
       "      <td>...</td>\n",
       "      <td>1</td>\n",
       "      <td>0</td>\n",
       "      <td>0</td>\n",
       "      <td>1</td>\n",
       "      <td>0</td>\n",
       "      <td>0</td>\n",
       "      <td>0</td>\n",
       "      <td>1</td>\n",
       "      <td>0</td>\n",
       "      <td>0</td>\n",
       "    </tr>\n",
       "    <tr>\n",
       "      <th>4</th>\n",
       "      <td>3</td>\n",
       "      <td>3</td>\n",
       "      <td>3</td>\n",
       "      <td>3</td>\n",
       "      <td>4</td>\n",
       "      <td>5</td>\n",
       "      <td>5</td>\n",
       "      <td>3</td>\n",
       "      <td>3</td>\n",
       "      <td>4</td>\n",
       "      <td>...</td>\n",
       "      <td>1</td>\n",
       "      <td>0</td>\n",
       "      <td>0</td>\n",
       "      <td>1</td>\n",
       "      <td>0</td>\n",
       "      <td>0</td>\n",
       "      <td>0</td>\n",
       "      <td>1</td>\n",
       "      <td>0</td>\n",
       "      <td>1</td>\n",
       "    </tr>\n",
       "  </tbody>\n",
       "</table>\n",
       "<p>5 rows × 36 columns</p>\n",
       "</div>"
      ],
      "text/plain": [
       "   inflight_wifi_service  departure_arrival_time_convenient  \\\n",
       "0                      3                                  4   \n",
       "1                      3                                  2   \n",
       "2                      2                                  2   \n",
       "3                      2                                  5   \n",
       "4                      3                                  3   \n",
       "\n",
       "   ease_of_online_booking  gate_location  food_and_drink  online_boarding  \\\n",
       "0                       3              1               5                3   \n",
       "1                       3              3               1                3   \n",
       "2                       2              2               5                5   \n",
       "3                       5              5               2                2   \n",
       "4                       3              3               4                5   \n",
       "\n",
       "   seat_comfort  inflight_entertainment  onboard_service  leg_room_service  \\\n",
       "0             5                       5                4                 3   \n",
       "1             1                       1                1                 5   \n",
       "2             5                       5                4                 3   \n",
       "3             2                       2                2                 5   \n",
       "4             5                       3                3                 4   \n",
       "\n",
       "   ...  departure_delay_range_0  departure_delay_range_1  \\\n",
       "0  ...                        1                        0   \n",
       "1  ...                        1                        0   \n",
       "2  ...                        1                        0   \n",
       "3  ...                        1                        0   \n",
       "4  ...                        1                        0   \n",
       "\n",
       "   departure_delay_range_2  arrival_delay_range_0  arrival_delay_range_1  \\\n",
       "0                        0                      1                      0   \n",
       "1                        0                      1                      0   \n",
       "2                        0                      1                      0   \n",
       "3                        0                      1                      0   \n",
       "4                        0                      1                      0   \n",
       "\n",
       "   arrival_delay_range_2  age_range_0  age_range_1  age_range_2  satisfaction  \n",
       "0                      0            1            0            0             0  \n",
       "1                      0            0            1            0             0  \n",
       "2                      0            0            1            0             1  \n",
       "3                      0            0            1            0             0  \n",
       "4                      0            0            1            0             1  \n",
       "\n",
       "[5 rows x 36 columns]"
      ]
     },
     "execution_count": 2,
     "metadata": {},
     "output_type": "execute_result"
    }
   ],
   "source": [
    "X_a = X_a.values\n",
    "y_a= y_a.values\n",
    "airline_df_dummy_satisfied.head()"
   ]
  },
  {
   "cell_type": "markdown",
   "metadata": {},
   "source": [
    "### B. Response: Cleanliness variable split and expalanatory variables creation\n",
    "\n",
    "The response variable in this case is Cleanliness, is split to 0 and 1. Since original Cleanliness is a oridnal variable with 0 (lower) and 5 (highest) rating. Ordinal range 0-2 are considered in unclean - assigned value '0' and Range 3-5 are considered as clean - assigned value '1'.\n",
    "\n",
    "The continuous variables 'flight_distance', 'departure_delay_in_minutes', arrival_delay_in_minutes and 'age' are segmented using pandas cut feature as shown below.\n",
    "\n",
    "These segmented features are further transformed using pandas get_dummy function to use in the final prediction of airline customer satisfaction.\n",
    "\n",
    "The original attributes that got transformed are dropped from the original 'airline_df' dataframe to form 'X_b' dataframe. The response dataframe 'y_b' has the transformed cleanliness data. \n",
    "\n",
    "Both 'X_b' and 'y_b' are combined into 'airline_df_dummy_clean' dataframe that is used for prediction in this scenario B."
   ]
  },
  {
   "cell_type": "code",
   "execution_count": 3,
   "metadata": {},
   "outputs": [],
   "source": [
    "airline_df['clean'] = pd.cut(airline_df.cleanliness,[-1,2,6],2,labels=[0,1])\n",
    "airline_df['clean'] = airline_df['clean'].astype(int)\n",
    "\n",
    "X_b = airline_df.drop(['clean', 'cleanliness'], axis=1).copy()\n",
    "\n",
    "\n",
    "y_b= airline_df['clean'].copy()\n",
    "\n",
    "    \n",
    "X_b = pd.get_dummies(X_b, columns=['Gender', 'customer_type','type_of_travel','customer_class',\n",
    "                                       'flight_range','age_range','satisfaction'])\n",
    "\n",
    "if 'Gender' in X_b:\n",
    "    del X_a['Gender'] \n",
    "    \n",
    "if 'customer_type' in X_b:    \n",
    "    del X_b['customer_type'] \n",
    "\n",
    "if 'age' in X_b:    \n",
    "    del X_b['age'] \n",
    "    \n",
    "if 'type_of_travel' in X_b:    \n",
    "    del X_b['type_of_travel'] \n",
    "    \n",
    "if 'customer_class' in X_b:    \n",
    "    del X_b['customer_class'] \n",
    "    \n",
    "if 'flight_distance' in X_b:    \n",
    "    del X_b['flight_distance'] \n",
    "\n",
    "if 'departure_delay_in_minutes' in X_b:    \n",
    "    del X_b['departure_delay_in_minutes'] \n",
    "    \n",
    "if 'arrival_delay_in_minutes' in X_b:    \n",
    "    del X_b['arrival_delay_in_minutes'] \n",
    "\n",
    "if 'satisfaction' in X_b:    \n",
    "    del X_b['satisfaction']\n",
    "\n",
    "airline_df_dummy_clean = pd.concat((X_b,y_b),axis=1)\n"
   ]
  },
  {
   "cell_type": "code",
   "execution_count": 4,
   "metadata": {
    "scrolled": true
   },
   "outputs": [
    {
     "data": {
      "text/html": [
       "<div>\n",
       "<style scoped>\n",
       "    .dataframe tbody tr th:only-of-type {\n",
       "        vertical-align: middle;\n",
       "    }\n",
       "\n",
       "    .dataframe tbody tr th {\n",
       "        vertical-align: top;\n",
       "    }\n",
       "\n",
       "    .dataframe thead th {\n",
       "        text-align: right;\n",
       "    }\n",
       "</style>\n",
       "<table border=\"1\" class=\"dataframe\">\n",
       "  <thead>\n",
       "    <tr style=\"text-align: right;\">\n",
       "      <th></th>\n",
       "      <th>inflight_wifi_service</th>\n",
       "      <th>departure_arrival_time_convenient</th>\n",
       "      <th>ease_of_online_booking</th>\n",
       "      <th>gate_location</th>\n",
       "      <th>food_and_drink</th>\n",
       "      <th>online_boarding</th>\n",
       "      <th>seat_comfort</th>\n",
       "      <th>inflight_entertainment</th>\n",
       "      <th>onboard_service</th>\n",
       "      <th>leg_room_service</th>\n",
       "      <th>...</th>\n",
       "      <th>customer_class_Eco Plus</th>\n",
       "      <th>flight_range_0</th>\n",
       "      <th>flight_range_1</th>\n",
       "      <th>flight_range_2</th>\n",
       "      <th>age_range_0</th>\n",
       "      <th>age_range_1</th>\n",
       "      <th>age_range_2</th>\n",
       "      <th>satisfaction_0</th>\n",
       "      <th>satisfaction_1</th>\n",
       "      <th>clean</th>\n",
       "    </tr>\n",
       "  </thead>\n",
       "  <tbody>\n",
       "    <tr>\n",
       "      <th>0</th>\n",
       "      <td>3</td>\n",
       "      <td>4</td>\n",
       "      <td>3</td>\n",
       "      <td>1</td>\n",
       "      <td>5</td>\n",
       "      <td>3</td>\n",
       "      <td>5</td>\n",
       "      <td>5</td>\n",
       "      <td>4</td>\n",
       "      <td>3</td>\n",
       "      <td>...</td>\n",
       "      <td>1</td>\n",
       "      <td>1</td>\n",
       "      <td>0</td>\n",
       "      <td>0</td>\n",
       "      <td>1</td>\n",
       "      <td>0</td>\n",
       "      <td>0</td>\n",
       "      <td>1</td>\n",
       "      <td>0</td>\n",
       "      <td>1</td>\n",
       "    </tr>\n",
       "    <tr>\n",
       "      <th>1</th>\n",
       "      <td>3</td>\n",
       "      <td>2</td>\n",
       "      <td>3</td>\n",
       "      <td>3</td>\n",
       "      <td>1</td>\n",
       "      <td>3</td>\n",
       "      <td>1</td>\n",
       "      <td>1</td>\n",
       "      <td>1</td>\n",
       "      <td>5</td>\n",
       "      <td>...</td>\n",
       "      <td>0</td>\n",
       "      <td>1</td>\n",
       "      <td>0</td>\n",
       "      <td>0</td>\n",
       "      <td>0</td>\n",
       "      <td>1</td>\n",
       "      <td>0</td>\n",
       "      <td>1</td>\n",
       "      <td>0</td>\n",
       "      <td>0</td>\n",
       "    </tr>\n",
       "    <tr>\n",
       "      <th>2</th>\n",
       "      <td>2</td>\n",
       "      <td>2</td>\n",
       "      <td>2</td>\n",
       "      <td>2</td>\n",
       "      <td>5</td>\n",
       "      <td>5</td>\n",
       "      <td>5</td>\n",
       "      <td>5</td>\n",
       "      <td>4</td>\n",
       "      <td>3</td>\n",
       "      <td>...</td>\n",
       "      <td>0</td>\n",
       "      <td>0</td>\n",
       "      <td>1</td>\n",
       "      <td>0</td>\n",
       "      <td>0</td>\n",
       "      <td>1</td>\n",
       "      <td>0</td>\n",
       "      <td>0</td>\n",
       "      <td>1</td>\n",
       "      <td>1</td>\n",
       "    </tr>\n",
       "    <tr>\n",
       "      <th>3</th>\n",
       "      <td>2</td>\n",
       "      <td>5</td>\n",
       "      <td>5</td>\n",
       "      <td>5</td>\n",
       "      <td>2</td>\n",
       "      <td>2</td>\n",
       "      <td>2</td>\n",
       "      <td>2</td>\n",
       "      <td>2</td>\n",
       "      <td>5</td>\n",
       "      <td>...</td>\n",
       "      <td>0</td>\n",
       "      <td>1</td>\n",
       "      <td>0</td>\n",
       "      <td>0</td>\n",
       "      <td>0</td>\n",
       "      <td>1</td>\n",
       "      <td>0</td>\n",
       "      <td>1</td>\n",
       "      <td>0</td>\n",
       "      <td>0</td>\n",
       "    </tr>\n",
       "    <tr>\n",
       "      <th>4</th>\n",
       "      <td>3</td>\n",
       "      <td>3</td>\n",
       "      <td>3</td>\n",
       "      <td>3</td>\n",
       "      <td>4</td>\n",
       "      <td>5</td>\n",
       "      <td>5</td>\n",
       "      <td>3</td>\n",
       "      <td>3</td>\n",
       "      <td>4</td>\n",
       "      <td>...</td>\n",
       "      <td>0</td>\n",
       "      <td>1</td>\n",
       "      <td>0</td>\n",
       "      <td>0</td>\n",
       "      <td>0</td>\n",
       "      <td>1</td>\n",
       "      <td>0</td>\n",
       "      <td>0</td>\n",
       "      <td>1</td>\n",
       "      <td>1</td>\n",
       "    </tr>\n",
       "  </tbody>\n",
       "</table>\n",
       "<p>5 rows × 33 columns</p>\n",
       "</div>"
      ],
      "text/plain": [
       "   inflight_wifi_service  departure_arrival_time_convenient  \\\n",
       "0                      3                                  4   \n",
       "1                      3                                  2   \n",
       "2                      2                                  2   \n",
       "3                      2                                  5   \n",
       "4                      3                                  3   \n",
       "\n",
       "   ease_of_online_booking  gate_location  food_and_drink  online_boarding  \\\n",
       "0                       3              1               5                3   \n",
       "1                       3              3               1                3   \n",
       "2                       2              2               5                5   \n",
       "3                       5              5               2                2   \n",
       "4                       3              3               4                5   \n",
       "\n",
       "   seat_comfort  inflight_entertainment  onboard_service  leg_room_service  \\\n",
       "0             5                       5                4                 3   \n",
       "1             1                       1                1                 5   \n",
       "2             5                       5                4                 3   \n",
       "3             2                       2                2                 5   \n",
       "4             5                       3                3                 4   \n",
       "\n",
       "   ...  customer_class_Eco Plus  flight_range_0  flight_range_1  \\\n",
       "0  ...                        1               1               0   \n",
       "1  ...                        0               1               0   \n",
       "2  ...                        0               0               1   \n",
       "3  ...                        0               1               0   \n",
       "4  ...                        0               1               0   \n",
       "\n",
       "   flight_range_2  age_range_0  age_range_1  age_range_2  satisfaction_0  \\\n",
       "0               0            1            0            0               1   \n",
       "1               0            0            1            0               1   \n",
       "2               0            0            1            0               0   \n",
       "3               0            0            1            0               1   \n",
       "4               0            0            1            0               0   \n",
       "\n",
       "   satisfaction_1  clean  \n",
       "0               0      1  \n",
       "1               0      0  \n",
       "2               1      1  \n",
       "3               0      0  \n",
       "4               1      1  \n",
       "\n",
       "[5 rows x 33 columns]"
      ]
     },
     "execution_count": 4,
     "metadata": {},
     "output_type": "execute_result"
    }
   ],
   "source": [
    "X_b = X_b.values\n",
    "y_b= y_b.values\n",
    "airline_df_dummy_clean.head()"
   ]
  },
  {
   "cell_type": "markdown",
   "metadata": {},
   "source": [
    "##### PCA for Satisfaction"
   ]
  },
  {
   "cell_type": "code",
   "execution_count": 5,
   "metadata": {
    "scrolled": false
   },
   "outputs": [
    {
     "data": {
      "image/png": "[encoded data removed]",
      "text/plain": [
       "<Figure size 576x576 with 1 Axes>"
      ]
     },
     "metadata": {
      "needs_background": "light"
     },
     "output_type": "display_data"
    },
    {
     "name": "stdout",
     "output_type": "stream",
     "text": [
      "Proportion of Variance Explained using Satisfaction dataframe: \n",
      " [1.35614458e-01 1.00538725e-01 8.88834963e-02 6.75624750e-02\n",
      " 6.59274616e-02 6.26929137e-02 5.62561505e-02 5.37767648e-02\n",
      " 4.77785114e-02 4.54748178e-02 3.35461835e-02 3.03326072e-02\n",
      " 2.84089249e-02 2.72161695e-02 2.33228692e-02 1.98003448e-02\n",
      " 1.58182963e-02 1.39169255e-02 1.35932383e-02 1.32177064e-02\n",
      " 1.24715902e-02 1.04606228e-02 9.02991324e-03 8.37031544e-03\n",
      " 7.05457197e-03 5.12491851e-03 3.80902767e-03 2.67452361e-32\n",
      " 8.68736757e-33 4.34707992e-33 3.15527560e-33 1.95274444e-33\n",
      " 7.69488588e-34 6.64359253e-34 2.32669433e-34]\n",
      "\n",
      "Cumulative Prop. Variance Explained using Satisfaction dataframe: \n",
      "            0\n",
      "0   0.135614\n",
      "1   0.236153\n",
      "2   0.325037\n",
      "3   0.392599\n",
      "4   0.458527\n",
      "5   0.521220\n",
      "6   0.577476\n",
      "7   0.631252\n",
      "8   0.679031\n",
      "9   0.724506\n",
      "10  0.758052\n",
      "11  0.788385\n",
      "12  0.816793\n",
      "13  0.844010\n",
      "14  0.867333\n",
      "15  0.887133\n",
      "16  0.902951\n",
      "17  0.916868\n",
      "18  0.930461\n",
      "19  0.943679\n",
      "20  0.956151\n",
      "21  0.966611\n",
      "22  0.975641\n",
      "23  0.984011\n",
      "24  0.991066\n",
      "25  0.996191\n",
      "26  1.000000\n",
      "27  1.000000\n",
      "28  1.000000\n",
      "29  1.000000\n",
      "30  1.000000\n",
      "31  1.000000\n",
      "32  1.000000\n",
      "33  1.000000\n",
      "34  1.000000\n"
     ]
    }
   ],
   "source": [
    "from sklearn.decomposition import PCA\n",
    "from sklearn.preprocessing import StandardScaler\n",
    "import matplotlib.pyplot as plt\n",
    "\n",
    "scaler = StandardScaler()\n",
    "\n",
    "# Normalize the airline_df_dummy_clean data frame for PCA.\n",
    "airline_df_dummy_satisfied_scaled = airline_df_dummy_satisfied.drop(['satisfaction'],axis=1).copy()\n",
    "\n",
    "airline_df_dummy_satisfied_scaled=pd.DataFrame(scaler.fit_transform(airline_df_dummy_satisfied_scaled), \n",
    "                                               columns=airline_df_dummy_satisfied_scaled.columns)\n",
    "#airline_df_dummy_clean_scaled.head()\n",
    "\n",
    "pca_satisfaction = PCA(n_components=len(airline_df_dummy_satisfied_scaled.columns), svd_solver = 'auto')\n",
    "Principal_components_satisfaction=pca_satisfaction.fit_transform(airline_df_dummy_satisfied_scaled)\n",
    "\n",
    "\n",
    "pc_val_satisfaction = np.arange(pca_satisfaction.n_components) + 1\n",
    "plt.figure(figsize=(8,8))\n",
    "\n",
    "plt.plot(pc_val_satisfaction, pca_satisfaction.explained_variance_ratio_.cumsum(), 'ro-', linewidth=2)\n",
    "plt.title('Scree Plot of PCA Satisfaction')\n",
    "plt.xlabel('Principal Component')\n",
    "plt.ylabel('Proportion of Variance Explained')\n",
    "plt.show()\n",
    "print (\"Proportion of Variance Explained using Satisfaction dataframe: \\n\", pca_satisfaction.explained_variance_ratio_)  \n",
    "    \n",
    "out_sum_ord = np.cumsum(pca_satisfaction.explained_variance_ratio_)  \n",
    "out_sum_ord = pd.DataFrame(out_sum_ord)\n",
    "print (\"\\nCumulative Prop. Variance Explained using Satisfaction dataframe: \\n\",out_sum_ord)\n"
   ]
  },
  {
   "cell_type": "markdown",
   "metadata": {},
   "source": [
    "Based on the PCA for 'airline_df_dummy_clean' dataframe used for cleanliness prediction, 97% of the variance can be explained by 23 principal components."
   ]
  },
  {
   "cell_type": "markdown",
   "metadata": {},
   "source": [
    "##### PCA for Cleanliness"
   ]
  },
  {
   "cell_type": "code",
   "execution_count": 6,
   "metadata": {
    "scrolled": false
   },
   "outputs": [
    {
     "data": {
      "image/png": "[encoded data removed]",
      "text/plain": [
       "<Figure size 576x576 with 1 Axes>"
      ]
     },
     "metadata": {
      "needs_background": "light"
     },
     "output_type": "display_data"
    },
    {
     "name": "stdout",
     "output_type": "stream",
     "text": [
      "Proportion of Variance Explained using Cleanliness dataframe: \n",
      " [1.77236008e-01 9.54751895e-02 7.32272770e-02 7.22931680e-02\n",
      " 6.32279755e-02 5.85763338e-02 5.60894866e-02 5.17570663e-02\n",
      " 4.98935753e-02 3.66934884e-02 3.59609296e-02 3.26049436e-02\n",
      " 3.02169867e-02 2.59713492e-02 2.21466726e-02 2.12512448e-02\n",
      " 1.52848555e-02 1.52061932e-02 1.44057550e-02 1.35603328e-02\n",
      " 1.14501654e-02 9.68847429e-03 7.49257604e-03 6.41342521e-03\n",
      " 3.87652819e-03 3.49536393e-32 5.32406960e-33 3.78609153e-33\n",
      " 1.66810326e-33 9.93524596e-34 4.36589056e-34 1.40898662e-34]\n",
      "\n",
      "Cumulative Prop. Variance Explained using Cleanliness dataframe: \n",
      "            0\n",
      "0   0.177236\n",
      "1   0.272711\n",
      "2   0.345938\n",
      "3   0.418232\n",
      "4   0.481460\n",
      "5   0.540036\n",
      "6   0.596125\n",
      "7   0.647883\n",
      "8   0.697776\n",
      "9   0.734470\n",
      "10  0.770430\n",
      "11  0.803035\n",
      "12  0.833252\n",
      "13  0.859224\n",
      "14  0.881370\n",
      "15  0.902622\n",
      "16  0.917907\n",
      "17  0.933113\n",
      "18  0.947518\n",
      "19  0.961079\n",
      "20  0.972529\n",
      "21  0.982217\n",
      "22  0.989710\n",
      "23  0.996123\n",
      "24  1.000000\n",
      "25  1.000000\n",
      "26  1.000000\n",
      "27  1.000000\n",
      "28  1.000000\n",
      "29  1.000000\n",
      "30  1.000000\n",
      "31  1.000000\n"
     ]
    }
   ],
   "source": [
    "# Normalize the airline_df_dummy_clean data frame for PCA.\n",
    "airline_df_dummy_clean_scaled = airline_df_dummy_clean.drop(['clean'],axis=1).copy()\n",
    "\n",
    "airline_df_dummy_clean_scaled=pd.DataFrame(scaler.fit_transform(airline_df_dummy_clean_scaled), \n",
    "                                           columns=airline_df_dummy_clean_scaled.columns)\n",
    "#airline_df_dummy_clean_scaled.head()\n",
    "\n",
    "pca_clean = PCA(n_components=len(airline_df_dummy_clean_scaled.columns), svd_solver = 'auto')\n",
    "Principal_components_clean=pca_clean.fit_transform(airline_df_dummy_clean_scaled)\n",
    "#pca_df = pd.DataFrame(data = Principal_components_clean, columns = ['PC 1', 'PC 2', 'PC 3', 'PC 4'])\n",
    "#print(pca_df)\n",
    "\n",
    "\n",
    "pc_val_clean = np.arange(pca_clean.n_components) + 1\n",
    "plt.figure(figsize=(8,8))\n",
    "\n",
    "plt.plot(pc_val_clean, pca_clean.explained_variance_ratio_.cumsum(), 'ro-', linewidth=2)\n",
    "plt.title('Scree Plot of PCA Cleanliness')\n",
    "plt.xlabel('Principal Component')\n",
    "plt.ylabel('Proportion of Variance Explained')\n",
    "plt.show()\n",
    "print (\"Proportion of Variance Explained using Cleanliness dataframe: \\n\", pca_clean.explained_variance_ratio_)  \n",
    "    \n",
    "out_sum_ord = np.cumsum(pca_clean.explained_variance_ratio_)\n",
    "out_sum_ord = pd.DataFrame(out_sum_ord)\n",
    "print (\"\\nCumulative Prop. Variance Explained using Cleanliness dataframe: \\n\", out_sum_ord)"
   ]
  },
  {
   "cell_type": "markdown",
   "metadata": {},
   "source": [
    "Based on the PCA for 'airline_df_dummy_clean' dataframe used for cleanliness prediction, 97% of the variance can be explained by 21 principal components.\n",
    "\n",
    "______________"
   ]
  },
  {
   "cell_type": "markdown",
   "metadata": {},
   "source": [
    "### Part 2\n",
    "\n",
    "Both \n",
    "- Scenario A: Prediction of Satisfaction Variable\n",
    "   \n",
    "   'airline_df_dummy_satisfied' has 36 attributes\n",
    " \n",
    "   \n",
    "- Scenario B: Prediction of Cleanliness Variable\n",
    "\n",
    "     'airline_df_dummy_clean' has 33 attributes\n"
   ]
  },
  {
   "cell_type": "code",
   "execution_count": 7,
   "metadata": {},
   "outputs": [
    {
     "name": "stdout",
     "output_type": "stream",
     "text": [
      "<class 'pandas.core.frame.DataFrame'>\n",
      "Int64Index: 129487 entries, 0 to 129879\n",
      "Data columns (total 36 columns):\n",
      " #   Column                             Non-Null Count   Dtype\n",
      "---  ------                             --------------   -----\n",
      " 0   inflight_wifi_service              129487 non-null  int64\n",
      " 1   departure_arrival_time_convenient  129487 non-null  int64\n",
      " 2   ease_of_online_booking             129487 non-null  int64\n",
      " 3   gate_location                      129487 non-null  int64\n",
      " 4   food_and_drink                     129487 non-null  int64\n",
      " 5   online_boarding                    129487 non-null  int64\n",
      " 6   seat_comfort                       129487 non-null  int64\n",
      " 7   inflight_entertainment             129487 non-null  int64\n",
      " 8   onboard_service                    129487 non-null  int64\n",
      " 9   leg_room_service                   129487 non-null  int64\n",
      " 10  baggage_handling                   129487 non-null  int64\n",
      " 11  checkin_service                    129487 non-null  int64\n",
      " 12  inflight_service                   129487 non-null  int64\n",
      " 13  cleanliness                        129487 non-null  int64\n",
      " 14  Gender_Female                      129487 non-null  uint8\n",
      " 15  Gender_Male                        129487 non-null  uint8\n",
      " 16  customer_type_Loyal Customer       129487 non-null  uint8\n",
      " 17  customer_type_disloyal Customer    129487 non-null  uint8\n",
      " 18  type_of_travel_Business travel     129487 non-null  uint8\n",
      " 19  type_of_travel_Personal Travel     129487 non-null  uint8\n",
      " 20  customer_class_Business            129487 non-null  uint8\n",
      " 21  customer_class_Eco                 129487 non-null  uint8\n",
      " 22  customer_class_Eco Plus            129487 non-null  uint8\n",
      " 23  flight_range_0                     129487 non-null  uint8\n",
      " 24  flight_range_1                     129487 non-null  uint8\n",
      " 25  flight_range_2                     129487 non-null  uint8\n",
      " 26  departure_delay_range_0            129487 non-null  uint8\n",
      " 27  departure_delay_range_1            129487 non-null  uint8\n",
      " 28  departure_delay_range_2            129487 non-null  uint8\n",
      " 29  arrival_delay_range_0              129487 non-null  uint8\n",
      " 30  arrival_delay_range_1              129487 non-null  uint8\n",
      " 31  arrival_delay_range_2              129487 non-null  uint8\n",
      " 32  age_range_0                        129487 non-null  uint8\n",
      " 33  age_range_1                        129487 non-null  uint8\n",
      " 34  age_range_2                        129487 non-null  uint8\n",
      " 35  satisfaction                       129487 non-null  int64\n",
      "dtypes: int64(15), uint8(21)\n",
      "memory usage: 18.4 MB\n"
     ]
    }
   ],
   "source": [
    "airline_df_dummy_satisfied.info()"
   ]
  },
  {
   "cell_type": "markdown",
   "metadata": {},
   "source": [
    "_______________________________________________________________"
   ]
  },
  {
   "cell_type": "code",
   "execution_count": 8,
   "metadata": {
    "scrolled": false
   },
   "outputs": [
    {
     "name": "stdout",
     "output_type": "stream",
     "text": [
      "<class 'pandas.core.frame.DataFrame'>\n",
      "Int64Index: 129487 entries, 0 to 129879\n",
      "Data columns (total 33 columns):\n",
      " #   Column                             Non-Null Count   Dtype\n",
      "---  ------                             --------------   -----\n",
      " 0   inflight_wifi_service              129487 non-null  int64\n",
      " 1   departure_arrival_time_convenient  129487 non-null  int64\n",
      " 2   ease_of_online_booking             129487 non-null  int64\n",
      " 3   gate_location                      129487 non-null  int64\n",
      " 4   food_and_drink                     129487 non-null  int64\n",
      " 5   online_boarding                    129487 non-null  int64\n",
      " 6   seat_comfort                       129487 non-null  int64\n",
      " 7   inflight_entertainment             129487 non-null  int64\n",
      " 8   onboard_service                    129487 non-null  int64\n",
      " 9   leg_room_service                   129487 non-null  int64\n",
      " 10  baggage_handling                   129487 non-null  int64\n",
      " 11  checkin_service                    129487 non-null  int64\n",
      " 12  inflight_service                   129487 non-null  int64\n",
      " 13  departure_delay_range              129487 non-null  int32\n",
      " 14  arrival_delay_range                129487 non-null  int32\n",
      " 15  Gender_Female                      129487 non-null  uint8\n",
      " 16  Gender_Male                        129487 non-null  uint8\n",
      " 17  customer_type_Loyal Customer       129487 non-null  uint8\n",
      " 18  customer_type_disloyal Customer    129487 non-null  uint8\n",
      " 19  type_of_travel_Business travel     129487 non-null  uint8\n",
      " 20  type_of_travel_Personal Travel     129487 non-null  uint8\n",
      " 21  customer_class_Business            129487 non-null  uint8\n",
      " 22  customer_class_Eco                 129487 non-null  uint8\n",
      " 23  customer_class_Eco Plus            129487 non-null  uint8\n",
      " 24  flight_range_0                     129487 non-null  uint8\n",
      " 25  flight_range_1                     129487 non-null  uint8\n",
      " 26  flight_range_2                     129487 non-null  uint8\n",
      " 27  age_range_0                        129487 non-null  uint8\n",
      " 28  age_range_1                        129487 non-null  uint8\n",
      " 29  age_range_2                        129487 non-null  uint8\n",
      " 30  satisfaction_0                     129487 non-null  uint8\n",
      " 31  satisfaction_1                     129487 non-null  uint8\n",
      " 32  clean                              129487 non-null  int32\n",
      "dtypes: int32(3), int64(13), uint8(17)\n",
      "memory usage: 17.4 MB\n"
     ]
    }
   ],
   "source": [
    "airline_df_dummy_clean.info()"
   ]
  },
  {
   "cell_type": "markdown",
   "metadata": {},
   "source": [
    "_______________________________________________________________"
   ]
  },
  {
   "cell_type": "markdown",
   "metadata": {},
   "source": [
    "## Modeling and Evaluation 1\n",
    "\n",
    "### Evaluation Metrics\n",
    "As we chose to predict the Satisfaction of airlines customers and to predict cleanliness of airplanes from the data, we believe the evaluation metrics of \n",
    "\n",
    "- accuracy\n",
    "- precision and \n",
    "- recall\n",
    "\n",
    "will the most appropriate features. Higher precision will help in lowering the false positives and higher recall will be the measure of lower false negatives."
   ]
  },
  {
   "cell_type": "code",
   "execution_count": 9,
   "metadata": {},
   "outputs": [],
   "source": [
    "from sklearn.model_selection import StratifiedKFold\n",
    "from sklearn.preprocessing import StandardScaler\n",
    "from sklearn import metrics as mt\n",
    "from sklearn.decomposition import PCA \n",
    "from sklearn.pipeline import Pipeline\n",
    "from sklearn.model_selection import ShuffleSplit\n",
    "from sklearn.model_selection import cross_validate\n",
    "\n",
    "def EvaluateClassifierEstimator(classifierEstimator, X, y, cv):\n",
    "   \n",
    "    #Perform cross validation \n",
    "    scores = cross_validate(classifierEstimator, X, y, scoring=['accuracy','precision','recall']\n",
    "                            , cv=cv, return_train_score=True)\n",
    "\n",
    "    Accavg = scores['test_accuracy'].mean()\n",
    "    Preavg = scores['test_precision'].mean()\n",
    "    Recavg = scores['test_recall'].mean()\n",
    "\n",
    "    print_str = \"The average accuracy for all cv folds is: \\t\\t\\t {Accavg:.5}\"\n",
    "    print_str2 = \"The average precision for all cv folds is: \\t\\t\\t {Preavg:.5}\"\n",
    "    print_str3 = \"The average recall for all cv folds is: \\t\\t\\t {Recavg:.5}\"\n",
    "\n",
    "    print(print_str.format(Accavg=Accavg))\n",
    "    print(print_str2.format(Preavg=Preavg))\n",
    "    print(print_str3.format(Recavg=Recavg))\n",
    "    print('*********************************************************')\n",
    "\n",
    "    print('Cross Validation Fold Mean Error Scores')\n",
    "    scoresResults = pd.DataFrame()\n",
    "    scoresResults['Accuracy'] = scores['test_accuracy']\n",
    "    scoresResults['Precision'] = scores['test_precision']\n",
    "    scoresResults['Recall'] = scores['test_recall']\n",
    "\n",
    "    return scoresResults\n",
    "\n",
    "def EvaluateClassifierEstimator2(classifierEstimator, X, y, cv):\n",
    "    \n",
    "    #Perform cross validation \n",
    "    from sklearn.model_selection import cross_val_predict\n",
    "    predictions = cross_val_predict(classifierEstimator, X, y, cv=cv)\n",
    "    \n",
    "    #model evaluation \n",
    "    from sklearn.metrics import classification_report, confusion_matrix, accuracy_score\n",
    "    \n",
    "    #pass true test set values and predictions to classification_report\n",
    "    classReport = classification_report(y,predictions)\n",
    "    confMat = confusion_matrix(y,predictions)\n",
    "    acc = accuracy_score(y,predictions)\n",
    "    \n",
    "    print (classReport)\n",
    "    print (confMat)\n",
    "    print (acc)\n"
   ]
  },
  {
   "cell_type": "markdown",
   "metadata": {},
   "source": [
    "## Modeling and Evaluation 2\n",
    "\n",
    "### Cross Validation Method\n",
    "\n",
    "For both classification tasks and all models, 10 fold stratified K-fold cross validation will be used.  Using stratified ensures that the same class split percentages across all test and training splits are the same.  This is important as both of these classes are imbalanced (reference histograms below), esecially cleanliness.  This ensures that for all for modeling fitting and testing that the same population split of class is maintained.  K fold also ensures that each test set are independent from one another.  Other methodolgies such as shuffle split will not maintain this independence creating possible bias or overfitting in the model.  Using 10 fold ensures the right balance and tradeoff between variance and bias and will ensure the model and predictions are generated and used responsibly."
   ]
  },
  {
   "cell_type": "markdown",
   "metadata": {},
   "source": [
    "##### Cleanliness Histogram"
   ]
  },
  {
   "cell_type": "code",
   "execution_count": 10,
   "metadata": {},
   "outputs": [
    {
     "data": {
      "text/plain": [
       "array([<AxesSubplot:title={'center':'clean'}>], dtype=object)"
      ]
     },
     "execution_count": 10,
     "metadata": {},
     "output_type": "execute_result"
    },
    {
     "data": {
      "image/png": "[encoded data removed]",
      "text/plain": [
       "<Figure size 576x576 with 1 Axes>"
      ]
     },
     "metadata": {
      "needs_background": "light"
     },
     "output_type": "display_data"
    }
   ],
   "source": [
    "import pandas as pd\n",
    "import matplotlib.pyplot as plt\n",
    "%matplotlib inline\n",
    "\n",
    "fig, axis = plt.subplots(1,1,figsize=(8, 8))\n",
    "airline_df_dummy_clean[['clean']].hist(ax=axis)\n"
   ]
  },
  {
   "cell_type": "markdown",
   "metadata": {},
   "source": [
    "##### Satisfaction Histogram"
   ]
  },
  {
   "cell_type": "code",
   "execution_count": 11,
   "metadata": {},
   "outputs": [
    {
     "data": {
      "text/plain": [
       "array([<AxesSubplot:title={'center':'satisfaction'}>], dtype=object)"
      ]
     },
     "execution_count": 11,
     "metadata": {},
     "output_type": "execute_result"
    },
    {
     "data": {
      "image/png": "[encoded data removed]",
      "text/plain": [
       "<Figure size 576x576 with 1 Axes>"
      ]
     },
     "metadata": {
      "needs_background": "light"
     },
     "output_type": "display_data"
    }
   ],
   "source": [
    "fig, axis = plt.subplots(1,1,figsize=(8, 8))\n",
    "airline_df_dummy_satisfied[['satisfaction']].hist(ax=axis)"
   ]
  },
  {
   "cell_type": "markdown",
   "metadata": {},
   "source": [
    "##### Stratified K (10) fold Cross Validation:"
   ]
  },
  {
   "cell_type": "code",
   "execution_count": 12,
   "metadata": {},
   "outputs": [
    {
     "name": "stdout",
     "output_type": "stream",
     "text": [
      "StratifiedKFold(n_splits=10, random_state=5, shuffle=True)\n"
     ]
    }
   ],
   "source": [
    "#Create Scaler\n",
    "scl = StandardScaler()\n",
    "\n",
    "#Split the data\n",
    "cv = StratifiedKFold(n_splits=10,shuffle=True, random_state=5)                     \n",
    "print(cv)"
   ]
  },
  {
   "cell_type": "markdown",
   "metadata": {},
   "source": [
    "##### Subsampling for Models  - neural networks, random forests, SVM."
   ]
  },
  {
   "cell_type": "markdown",
   "metadata": {},
   "source": [
    "For more complex and computationally expensive models (such as neural networks, random forests, SVM). A trimmed down sub sample of the datasets are created by taking a random sample of 30,000 records.  This is done to ensure that the grid search and tuning of parameters can be done in a timely manner.  Using the full dataset on this can take hours and is not practical use of time or resources.  The sub sampling is large enough to ensure there is enough training data to create and hyper-tune accurate models.\t"
   ]
  },
  {
   "cell_type": "code",
   "execution_count": 13,
   "metadata": {},
   "outputs": [],
   "source": [
    "#Down size the data to 30000 samples for satisfaction classification\n",
    "model_satisfied = airline_df_dummy_satisfied.sample(n = 30000, random_state=5).copy()\n",
    "model_satisfied_y = model_satisfied['satisfaction'].copy()\n",
    "model_satisfied_x = model_satisfied.loc[:, model_satisfied.columns != 'satisfaction'].copy()\n",
    "\n",
    "model_satisfied_x = model_satisfied_x.values\n",
    "model_satisfied_y= model_satisfied_y.values"
   ]
  },
  {
   "cell_type": "code",
   "execution_count": 14,
   "metadata": {},
   "outputs": [],
   "source": [
    "#Down size the data to 30000 samples for ease_of_online_booking classification\n",
    "model_clean = airline_df_dummy_clean.sample(n = 30000, random_state=5).copy()\n",
    "model_clean_y = model_clean['clean'].copy()\n",
    "model_clean_x = model_clean.loc[:, model_clean.columns != 'clean'].copy()\n",
    "\n",
    "model_clean_x = model_clean_x.values\n",
    "model_clean_y= model_clean_y.values"
   ]
  },
  {
   "cell_type": "markdown",
   "metadata": {},
   "source": [
    "## Modeling and Evaluation 3\n",
    "\n",
    "### A. Satisfaction Classifcation Models\n",
    "\n",
    "##### LogisticRegression"
   ]
  },
  {
   "cell_type": "code",
   "execution_count": 15,
   "metadata": {},
   "outputs": [
    {
     "name": "stdout",
     "output_type": "stream",
     "text": [
      "Fitting 10 folds for each of 56 candidates, totalling 560 fits\n"
     ]
    },
    {
     "name": "stderr",
     "output_type": "stream",
     "text": [
      "[Parallel(n_jobs=7)]: Using backend LokyBackend with 7 concurrent workers.\n",
      "[Parallel(n_jobs=7)]: Done  36 tasks      | elapsed:   24.4s\n",
      "[Parallel(n_jobs=7)]: Done 186 tasks      | elapsed:  1.5min\n",
      "[Parallel(n_jobs=7)]: Done 436 tasks      | elapsed:  3.4min\n",
      "[Parallel(n_jobs=7)]: Done 560 out of 560 | elapsed:  4.2min finished\n"
     ]
    },
    {
     "data": {
      "text/plain": [
       "GridSearchCV(cv=StratifiedKFold(n_splits=10, random_state=5, shuffle=True),\n",
       "             estimator=Pipeline(steps=[('scale', StandardScaler()),\n",
       "                                       ('PCA', PCA(n_components=15)),\n",
       "                                       ('clf', LogisticRegression())]),\n",
       "             n_jobs=7,\n",
       "             param_grid={'clf__C': [0.001, 0.01, 0.1, 1, 10, 100, 1000],\n",
       "                         'clf__class_weight': ['balanced', 'none'],\n",
       "                         'clf__max_iter': [100, 500],\n",
       "                         'clf__penalty': ['l2', 'l1'], 'clf__random_state': [5],\n",
       "                         'clf__solver': ['liblinear']},\n",
       "             scoring='accuracy', verbose=1)"
      ]
     },
     "execution_count": 15,
     "metadata": {},
     "output_type": "execute_result"
    }
   ],
   "source": [
    "from sklearn.linear_model import LogisticRegression\n",
    "from sklearn.svm import SVC\n",
    "from sklearn.naive_bayes import GaussianNB\n",
    "from sklearn.linear_model import SGDClassifier\n",
    "from sklearn.neighbors import KNeighborsClassifier\n",
    "from sklearn.model_selection import GridSearchCV\n",
    "from sklearn.tree import DecisionTreeClassifier\n",
    "from sklearn.ensemble import RandomForestClassifier\n",
    "from sklearn.ensemble import ExtraTreesClassifier\n",
    "from sklearn.ensemble import GradientBoostingClassifier\n",
    "from sklearn.neural_network import MLPClassifier\n",
    "\n",
    "#Create Pipeline for scaler, PCA and model classifier\n",
    "\n",
    "\n",
    "regEstimator = LogisticRegression()\n",
    "\n",
    "pipeline = Pipeline([\n",
    "    ('scale', scl),\n",
    "    ('PCA',PCA(n_components=15, svd_solver='auto')),\n",
    "    ('clf', regEstimator),\n",
    "])\n",
    "\n",
    "parameters = { 'clf__penalty':['l2','l1']\n",
    "              ,'clf__C': [0.001, 0.01, 0.1, 1, 10, 100, 1000]\n",
    "              ,'clf__class_weight': ['balanced','none']\n",
    "              ,'clf__random_state': [5]\n",
    "              ,'clf__solver': ['liblinear']\n",
    "              ,'clf__max_iter':[100,500]\n",
    "             }\n",
    "\n",
    "regGridSearch = GridSearchCV(pipeline, param_grid=parameters, cv=cv, n_jobs=7, verbose=1, scoring='accuracy')\n",
    "\n",
    "\n",
    "regGridSearch.fit(X_a, y_a)"
   ]
  },
  {
   "cell_type": "code",
   "execution_count": 16,
   "metadata": {},
   "outputs": [
    {
     "data": {
      "text/plain": [
       "Pipeline(steps=[('scale', StandardScaler()), ('PCA', PCA(n_components=15)),\n",
       "                ('clf',\n",
       "                 LogisticRegression(C=100, class_weight='balanced',\n",
       "                                    max_iter=500, penalty='l1', random_state=5,\n",
       "                                    solver='liblinear'))])"
      ]
     },
     "execution_count": 16,
     "metadata": {},
     "output_type": "execute_result"
    }
   ],
   "source": [
    "regGridSearch.best_estimator_"
   ]
  },
  {
   "cell_type": "code",
   "execution_count": 17,
   "metadata": {},
   "outputs": [
    {
     "name": "stdout",
     "output_type": "stream",
     "text": [
      "The average accuracy for all cv folds is: \t\t\t 0.85627\n",
      "The average precision for all cv folds is: \t\t\t 0.82423\n",
      "The average recall for all cv folds is: \t\t\t 0.85061\n",
      "*********************************************************\n",
      "Cross Validation Fold Mean Error Scores\n"
     ]
    },
    {
     "data": {
      "text/html": [
       "<div>\n",
       "<style scoped>\n",
       "    .dataframe tbody tr th:only-of-type {\n",
       "        vertical-align: middle;\n",
       "    }\n",
       "\n",
       "    .dataframe tbody tr th {\n",
       "        vertical-align: top;\n",
       "    }\n",
       "\n",
       "    .dataframe thead th {\n",
       "        text-align: right;\n",
       "    }\n",
       "</style>\n",
       "<table border=\"1\" class=\"dataframe\">\n",
       "  <thead>\n",
       "    <tr style=\"text-align: right;\">\n",
       "      <th></th>\n",
       "      <th>Accuracy</th>\n",
       "      <th>Precision</th>\n",
       "      <th>Recall</th>\n",
       "    </tr>\n",
       "  </thead>\n",
       "  <tbody>\n",
       "    <tr>\n",
       "      <th>0</th>\n",
       "      <td>0.860144</td>\n",
       "      <td>0.829618</td>\n",
       "      <td>0.853359</td>\n",
       "    </tr>\n",
       "    <tr>\n",
       "      <th>1</th>\n",
       "      <td>0.858522</td>\n",
       "      <td>0.826618</td>\n",
       "      <td>0.853359</td>\n",
       "    </tr>\n",
       "    <tr>\n",
       "      <th>2</th>\n",
       "      <td>0.859526</td>\n",
       "      <td>0.825329</td>\n",
       "      <td>0.858336</td>\n",
       "    </tr>\n",
       "    <tr>\n",
       "      <th>3</th>\n",
       "      <td>0.855665</td>\n",
       "      <td>0.823935</td>\n",
       "      <td>0.849271</td>\n",
       "    </tr>\n",
       "    <tr>\n",
       "      <th>4</th>\n",
       "      <td>0.853348</td>\n",
       "      <td>0.822572</td>\n",
       "      <td>0.844650</td>\n",
       "    </tr>\n",
       "    <tr>\n",
       "      <th>5</th>\n",
       "      <td>0.856668</td>\n",
       "      <td>0.826946</td>\n",
       "      <td>0.847521</td>\n",
       "    </tr>\n",
       "    <tr>\n",
       "      <th>6</th>\n",
       "      <td>0.855819</td>\n",
       "      <td>0.824474</td>\n",
       "      <td>0.848943</td>\n",
       "    </tr>\n",
       "    <tr>\n",
       "      <th>7</th>\n",
       "      <td>0.853491</td>\n",
       "      <td>0.821189</td>\n",
       "      <td>0.847316</td>\n",
       "    </tr>\n",
       "    <tr>\n",
       "      <th>8</th>\n",
       "      <td>0.858434</td>\n",
       "      <td>0.824688</td>\n",
       "      <td>0.856203</td>\n",
       "    </tr>\n",
       "    <tr>\n",
       "      <th>9</th>\n",
       "      <td>0.851097</td>\n",
       "      <td>0.816935</td>\n",
       "      <td>0.847138</td>\n",
       "    </tr>\n",
       "  </tbody>\n",
       "</table>\n",
       "</div>"
      ],
      "text/plain": [
       "   Accuracy  Precision    Recall\n",
       "0  0.860144   0.829618  0.853359\n",
       "1  0.858522   0.826618  0.853359\n",
       "2  0.859526   0.825329  0.858336\n",
       "3  0.855665   0.823935  0.849271\n",
       "4  0.853348   0.822572  0.844650\n",
       "5  0.856668   0.826946  0.847521\n",
       "6  0.855819   0.824474  0.848943\n",
       "7  0.853491   0.821189  0.847316\n",
       "8  0.858434   0.824688  0.856203\n",
       "9  0.851097   0.816935  0.847138"
      ]
     },
     "execution_count": 17,
     "metadata": {},
     "output_type": "execute_result"
    }
   ],
   "source": [
    "classifierEst_1 = regGridSearch.best_estimator_\n",
    "\n",
    "EvaluateClassifierEstimator(classifierEst_1, X_a, y_a, cv)"
   ]
  },
  {
   "cell_type": "markdown",
   "metadata": {},
   "source": [
    "##### Random Forest"
   ]
  },
  {
   "cell_type": "code",
   "execution_count": 18,
   "metadata": {},
   "outputs": [
    {
     "name": "stdout",
     "output_type": "stream",
     "text": [
      "Fitting 10 folds for each of 36 candidates, totalling 360 fits\n"
     ]
    },
    {
     "name": "stderr",
     "output_type": "stream",
     "text": [
      "[Parallel(n_jobs=7)]: Using backend LokyBackend with 7 concurrent workers.\n",
      "[Parallel(n_jobs=7)]: Done  36 tasks      | elapsed:  1.6min\n",
      "[Parallel(n_jobs=7)]: Done 186 tasks      | elapsed: 11.6min\n",
      "[Parallel(n_jobs=7)]: Done 360 out of 360 | elapsed: 12.2min finished\n"
     ]
    },
    {
     "data": {
      "text/plain": [
       "GridSearchCV(cv=StratifiedKFold(n_splits=10, random_state=5, shuffle=True),\n",
       "             estimator=Pipeline(steps=[('scale', StandardScaler()),\n",
       "                                       ('PCA', PCA(n_components=15)),\n",
       "                                       ('clf', RandomForestClassifier())]),\n",
       "             n_jobs=7,\n",
       "             param_grid={'clf__class_weight': ['balanced', 'none'],\n",
       "                         'clf__criterion': ['gini', 'entropy'],\n",
       "                         'clf__max_depth': [10, 20, 50],\n",
       "                         'clf__n_estimators': [100, 150, 200],\n",
       "                         'clf__random_state': [5]},\n",
       "             scoring='accuracy', verbose=1)"
      ]
     },
     "execution_count": 18,
     "metadata": {},
     "output_type": "execute_result"
    }
   ],
   "source": [
    "regEstimator = RandomForestClassifier()\n",
    "\n",
    "pipeline = Pipeline([\n",
    "    ('scale', scl),\n",
    "    ('PCA',PCA(n_components=15, svd_solver='auto')),\n",
    "    ('clf', regEstimator),\n",
    "])\n",
    "\n",
    "parameters = {'clf__criterion': ['gini','entropy']\n",
    "              ,'clf__random_state': [5]\n",
    "              ,'clf__max_depth': [10,20,50]\n",
    "              ,'clf__n_estimators':[100,150,200]\n",
    "              ,'clf__class_weight':['balanced','none']\n",
    "             }\n",
    "\n",
    "regGridSearch = GridSearchCV(pipeline, param_grid=parameters, cv=cv, n_jobs=7, verbose=1, scoring='accuracy')\n",
    "\n",
    "\n",
    "regGridSearch.fit(model_satisfied_x, model_satisfied_y)"
   ]
  },
  {
   "cell_type": "code",
   "execution_count": 19,
   "metadata": {},
   "outputs": [
    {
     "data": {
      "text/plain": [
       "Pipeline(steps=[('scale', StandardScaler()), ('PCA', PCA(n_components=15)),\n",
       "                ('clf',\n",
       "                 RandomForestClassifier(class_weight='balanced',\n",
       "                                        criterion='entropy', max_depth=20,\n",
       "                                        n_estimators=200, random_state=5))])"
      ]
     },
     "execution_count": 19,
     "metadata": {},
     "output_type": "execute_result"
    }
   ],
   "source": [
    "regGridSearch.best_estimator_"
   ]
  },
  {
   "cell_type": "code",
   "execution_count": 20,
   "metadata": {},
   "outputs": [
    {
     "name": "stdout",
     "output_type": "stream",
     "text": [
      "The average accuracy for all cv folds is: \t\t\t 0.92426\n",
      "The average precision for all cv folds is: \t\t\t 0.93529\n",
      "The average recall for all cv folds is: \t\t\t 0.88708\n",
      "*********************************************************\n",
      "Cross Validation Fold Mean Error Scores\n"
     ]
    },
    {
     "data": {
      "text/html": [
       "<div>\n",
       "<style scoped>\n",
       "    .dataframe tbody tr th:only-of-type {\n",
       "        vertical-align: middle;\n",
       "    }\n",
       "\n",
       "    .dataframe tbody tr th {\n",
       "        vertical-align: top;\n",
       "    }\n",
       "\n",
       "    .dataframe thead th {\n",
       "        text-align: right;\n",
       "    }\n",
       "</style>\n",
       "<table border=\"1\" class=\"dataframe\">\n",
       "  <thead>\n",
       "    <tr style=\"text-align: right;\">\n",
       "      <th></th>\n",
       "      <th>Accuracy</th>\n",
       "      <th>Precision</th>\n",
       "      <th>Recall</th>\n",
       "    </tr>\n",
       "  </thead>\n",
       "  <tbody>\n",
       "    <tr>\n",
       "      <th>0</th>\n",
       "      <td>0.927485</td>\n",
       "      <td>0.942587</td>\n",
       "      <td>0.887131</td>\n",
       "    </tr>\n",
       "    <tr>\n",
       "      <th>1</th>\n",
       "      <td>0.929106</td>\n",
       "      <td>0.941651</td>\n",
       "      <td>0.892108</td>\n",
       "    </tr>\n",
       "    <tr>\n",
       "      <th>2</th>\n",
       "      <td>0.925014</td>\n",
       "      <td>0.931898</td>\n",
       "      <td>0.892641</td>\n",
       "    </tr>\n",
       "    <tr>\n",
       "      <th>3</th>\n",
       "      <td>0.925091</td>\n",
       "      <td>0.935303</td>\n",
       "      <td>0.889086</td>\n",
       "    </tr>\n",
       "    <tr>\n",
       "      <th>4</th>\n",
       "      <td>0.924241</td>\n",
       "      <td>0.937300</td>\n",
       "      <td>0.884820</td>\n",
       "    </tr>\n",
       "    <tr>\n",
       "      <th>5</th>\n",
       "      <td>0.921770</td>\n",
       "      <td>0.936436</td>\n",
       "      <td>0.879687</td>\n",
       "    </tr>\n",
       "    <tr>\n",
       "      <th>6</th>\n",
       "      <td>0.921152</td>\n",
       "      <td>0.931273</td>\n",
       "      <td>0.883775</td>\n",
       "    </tr>\n",
       "    <tr>\n",
       "      <th>7</th>\n",
       "      <td>0.920142</td>\n",
       "      <td>0.929963</td>\n",
       "      <td>0.882688</td>\n",
       "    </tr>\n",
       "    <tr>\n",
       "      <th>8</th>\n",
       "      <td>0.926475</td>\n",
       "      <td>0.933903</td>\n",
       "      <td>0.894063</td>\n",
       "    </tr>\n",
       "    <tr>\n",
       "      <th>9</th>\n",
       "      <td>0.922150</td>\n",
       "      <td>0.932559</td>\n",
       "      <td>0.884820</td>\n",
       "    </tr>\n",
       "  </tbody>\n",
       "</table>\n",
       "</div>"
      ],
      "text/plain": [
       "   Accuracy  Precision    Recall\n",
       "0  0.927485   0.942587  0.887131\n",
       "1  0.929106   0.941651  0.892108\n",
       "2  0.925014   0.931898  0.892641\n",
       "3  0.925091   0.935303  0.889086\n",
       "4  0.924241   0.937300  0.884820\n",
       "5  0.921770   0.936436  0.879687\n",
       "6  0.921152   0.931273  0.883775\n",
       "7  0.920142   0.929963  0.882688\n",
       "8  0.926475   0.933903  0.894063\n",
       "9  0.922150   0.932559  0.884820"
      ]
     },
     "execution_count": 20,
     "metadata": {},
     "output_type": "execute_result"
    }
   ],
   "source": [
    "classifierEst_3 = regGridSearch.best_estimator_\n",
    "\n",
    "EvaluateClassifierEstimator(classifierEst_3, X_a, y_a, cv)"
   ]
  },
  {
   "cell_type": "markdown",
   "metadata": {},
   "source": [
    "##### Support Vector Machine"
   ]
  },
  {
   "cell_type": "code",
   "execution_count": 21,
   "metadata": {},
   "outputs": [
    {
     "name": "stdout",
     "output_type": "stream",
     "text": [
      "Fitting 10 folds for each of 36 candidates, totalling 360 fits\n"
     ]
    },
    {
     "name": "stderr",
     "output_type": "stream",
     "text": [
      "[Parallel(n_jobs=7)]: Using backend LokyBackend with 7 concurrent workers.\n",
      "[Parallel(n_jobs=7)]: Done  36 tasks      | elapsed:  7.5min\n",
      "[Parallel(n_jobs=7)]: Done 186 tasks      | elapsed: 26.2min\n",
      "[Parallel(n_jobs=7)]: Done 360 out of 360 | elapsed: 57.8min finished\n"
     ]
    },
    {
     "data": {
      "text/plain": [
       "GridSearchCV(cv=StratifiedKFold(n_splits=10, random_state=5, shuffle=True),\n",
       "             estimator=Pipeline(steps=[('scale', StandardScaler()),\n",
       "                                       ('PCA', PCA(n_components=15)),\n",
       "                                       ('clf', SVC())]),\n",
       "             n_jobs=7,\n",
       "             param_grid={'clf__C': [0.001, 0.01, 0.1, 1, 10, 100],\n",
       "                         'clf__degree': [3],\n",
       "                         'clf__gamma': ['scale', 'auto', 1, 0.1, 0.01, 0.001],\n",
       "                         'clf__kernel': ['rbf'], 'clf__random_state': [5]},\n",
       "             scoring='accuracy', verbose=1)"
      ]
     },
     "execution_count": 21,
     "metadata": {},
     "output_type": "execute_result"
    }
   ],
   "source": [
    "regEstimator = SVC()\n",
    "\n",
    "pipeline = Pipeline([\n",
    "    ('scale', scl),\n",
    "    ('PCA',PCA(n_components=15, svd_solver='auto')),\n",
    "    ('clf', regEstimator),\n",
    "])\n",
    "\n",
    "parameters = {'clf__C': [0.001, 0.01, 0.1, 1, 10, 100], \n",
    "              'clf__gamma': ['scale', 'auto', 1, 0.1, 0.01, 0.001],\n",
    "              'clf__kernel':['rbf'], \n",
    "              'clf__degree':[3], \n",
    "              'clf__random_state':[5],\n",
    "             }\n",
    "\n",
    "regGridSearch = GridSearchCV(pipeline, param_grid=parameters, cv=cv, n_jobs=7, verbose=1, scoring='accuracy')\n",
    "\n",
    "\n",
    "regGridSearch.fit(model_satisfied_x, model_satisfied_y)"
   ]
  },
  {
   "cell_type": "code",
   "execution_count": 22,
   "metadata": {},
   "outputs": [
    {
     "data": {
      "text/plain": [
       "Pipeline(steps=[('scale', StandardScaler()), ('PCA', PCA(n_components=15)),\n",
       "                ('clf', SVC(C=10, random_state=5))])"
      ]
     },
     "execution_count": 22,
     "metadata": {},
     "output_type": "execute_result"
    }
   ],
   "source": [
    "regGridSearch.best_estimator_"
   ]
  },
  {
   "cell_type": "code",
   "execution_count": 23,
   "metadata": {},
   "outputs": [
    {
     "name": "stdout",
     "output_type": "stream",
     "text": [
      "The average accuracy for all cv folds is: \t\t\t 0.92383\n",
      "The average precision for all cv folds is: \t\t\t 0.92312\n",
      "The average recall for all cv folds is: \t\t\t 0.90229\n",
      "*********************************************************\n",
      "Cross Validation Fold Mean Error Scores\n"
     ]
    },
    {
     "data": {
      "text/html": [
       "<div>\n",
       "<style scoped>\n",
       "    .dataframe tbody tr th:only-of-type {\n",
       "        vertical-align: middle;\n",
       "    }\n",
       "\n",
       "    .dataframe tbody tr th {\n",
       "        vertical-align: top;\n",
       "    }\n",
       "\n",
       "    .dataframe thead th {\n",
       "        text-align: right;\n",
       "    }\n",
       "</style>\n",
       "<table border=\"1\" class=\"dataframe\">\n",
       "  <thead>\n",
       "    <tr style=\"text-align: right;\">\n",
       "      <th></th>\n",
       "      <th>Accuracy</th>\n",
       "      <th>Precision</th>\n",
       "      <th>Recall</th>\n",
       "    </tr>\n",
       "  </thead>\n",
       "  <tbody>\n",
       "    <tr>\n",
       "      <th>0</th>\n",
       "      <td>0.914667</td>\n",
       "      <td>0.907422</td>\n",
       "      <td>0.897805</td>\n",
       "    </tr>\n",
       "    <tr>\n",
       "      <th>1</th>\n",
       "      <td>0.926000</td>\n",
       "      <td>0.919146</td>\n",
       "      <td>0.912188</td>\n",
       "    </tr>\n",
       "    <tr>\n",
       "      <th>2</th>\n",
       "      <td>0.921667</td>\n",
       "      <td>0.922240</td>\n",
       "      <td>0.897805</td>\n",
       "    </tr>\n",
       "    <tr>\n",
       "      <th>3</th>\n",
       "      <td>0.928667</td>\n",
       "      <td>0.939635</td>\n",
       "      <td>0.895534</td>\n",
       "    </tr>\n",
       "    <tr>\n",
       "      <th>4</th>\n",
       "      <td>0.925667</td>\n",
       "      <td>0.929577</td>\n",
       "      <td>0.899319</td>\n",
       "    </tr>\n",
       "    <tr>\n",
       "      <th>5</th>\n",
       "      <td>0.920000</td>\n",
       "      <td>0.919317</td>\n",
       "      <td>0.897048</td>\n",
       "    </tr>\n",
       "    <tr>\n",
       "      <th>6</th>\n",
       "      <td>0.927000</td>\n",
       "      <td>0.931142</td>\n",
       "      <td>0.900833</td>\n",
       "    </tr>\n",
       "    <tr>\n",
       "      <th>7</th>\n",
       "      <td>0.923333</td>\n",
       "      <td>0.917368</td>\n",
       "      <td>0.907646</td>\n",
       "    </tr>\n",
       "    <tr>\n",
       "      <th>8</th>\n",
       "      <td>0.922333</td>\n",
       "      <td>0.920463</td>\n",
       "      <td>0.901664</td>\n",
       "    </tr>\n",
       "    <tr>\n",
       "      <th>9</th>\n",
       "      <td>0.929000</td>\n",
       "      <td>0.924904</td>\n",
       "      <td>0.913011</td>\n",
       "    </tr>\n",
       "  </tbody>\n",
       "</table>\n",
       "</div>"
      ],
      "text/plain": [
       "   Accuracy  Precision    Recall\n",
       "0  0.914667   0.907422  0.897805\n",
       "1  0.926000   0.919146  0.912188\n",
       "2  0.921667   0.922240  0.897805\n",
       "3  0.928667   0.939635  0.895534\n",
       "4  0.925667   0.929577  0.899319\n",
       "5  0.920000   0.919317  0.897048\n",
       "6  0.927000   0.931142  0.900833\n",
       "7  0.923333   0.917368  0.907646\n",
       "8  0.922333   0.920463  0.901664\n",
       "9  0.929000   0.924904  0.913011"
      ]
     },
     "execution_count": 23,
     "metadata": {},
     "output_type": "execute_result"
    }
   ],
   "source": [
    "classifierEst_4 = regGridSearch.best_estimator_\n",
    "\n",
    "EvaluateClassifierEstimator(classifierEst_4, model_satisfied_x, model_satisfied_y, cv)"
   ]
  },
  {
   "cell_type": "markdown",
   "metadata": {},
   "source": [
    "##### Decision Tree Model"
   ]
  },
  {
   "cell_type": "code",
   "execution_count": 24,
   "metadata": {},
   "outputs": [
    {
     "name": "stdout",
     "output_type": "stream",
     "text": [
      "Fitting 10 folds for each of 12 candidates, totalling 120 fits\n"
     ]
    },
    {
     "name": "stderr",
     "output_type": "stream",
     "text": [
      "[Parallel(n_jobs=7)]: Using backend LokyBackend with 7 concurrent workers.\n",
      "[Parallel(n_jobs=7)]: Done  36 tasks      | elapsed:    9.3s\n",
      "[Parallel(n_jobs=7)]: Done 120 out of 120 | elapsed:   19.4s finished\n"
     ]
    },
    {
     "data": {
      "text/plain": [
       "GridSearchCV(cv=StratifiedKFold(n_splits=10, random_state=5, shuffle=True),\n",
       "             estimator=Pipeline(steps=[('scale', StandardScaler()),\n",
       "                                       ('PCA', PCA(n_components=15)),\n",
       "                                       ('clf', DecisionTreeClassifier())]),\n",
       "             n_jobs=7,\n",
       "             param_grid={'clf__class_weight': ['balanced', 'none'],\n",
       "                         'clf__criterion': ['gini', 'entropy'],\n",
       "                         'clf__max_depth': [10, 20, 50],\n",
       "                         'clf__random_state': [5]},\n",
       "             scoring='accuracy', verbose=1)"
      ]
     },
     "execution_count": 24,
     "metadata": {},
     "output_type": "execute_result"
    }
   ],
   "source": [
    "\n",
    "regEstimator = DecisionTreeClassifier()\n",
    "\n",
    "pipeline = Pipeline([\n",
    "    ('scale', scl),\n",
    "    ('PCA',PCA(n_components=15, svd_solver='auto')),\n",
    "    ('clf', regEstimator),\n",
    "])\n",
    "\n",
    "parameters = {'clf__criterion': ['gini','entropy']\n",
    "              ,'clf__random_state': [5]\n",
    "              ,'clf__max_depth': [10,20,50]\n",
    "              ,'clf__class_weight':['balanced','none']}\n",
    "\n",
    "regGridSearch = GridSearchCV(pipeline, param_grid=parameters, cv=cv, n_jobs=7, verbose=1, scoring='accuracy')\n",
    "\n",
    "\n",
    "regGridSearch.fit(model_satisfied_x, model_satisfied_y)"
   ]
  },
  {
   "cell_type": "code",
   "execution_count": 25,
   "metadata": {},
   "outputs": [
    {
     "data": {
      "text/plain": [
       "Pipeline(steps=[('scale', StandardScaler()), ('PCA', PCA(n_components=15)),\n",
       "                ('clf',\n",
       "                 DecisionTreeClassifier(class_weight='balanced', max_depth=10,\n",
       "                                        random_state=5))])"
      ]
     },
     "execution_count": 25,
     "metadata": {},
     "output_type": "execute_result"
    }
   ],
   "source": [
    "regGridSearch.best_estimator_"
   ]
  },
  {
   "cell_type": "code",
   "execution_count": 26,
   "metadata": {},
   "outputs": [
    {
     "name": "stdout",
     "output_type": "stream",
     "text": [
      "The average accuracy for all cv folds is: \t\t\t 0.88313\n",
      "The average precision for all cv folds is: \t\t\t 0.8789\n",
      "The average recall for all cv folds is: \t\t\t 0.8521\n",
      "*********************************************************\n",
      "Cross Validation Fold Mean Error Scores\n"
     ]
    },
    {
     "data": {
      "text/html": [
       "<div>\n",
       "<style scoped>\n",
       "    .dataframe tbody tr th:only-of-type {\n",
       "        vertical-align: middle;\n",
       "    }\n",
       "\n",
       "    .dataframe tbody tr th {\n",
       "        vertical-align: top;\n",
       "    }\n",
       "\n",
       "    .dataframe thead th {\n",
       "        text-align: right;\n",
       "    }\n",
       "</style>\n",
       "<table border=\"1\" class=\"dataframe\">\n",
       "  <thead>\n",
       "    <tr style=\"text-align: right;\">\n",
       "      <th></th>\n",
       "      <th>Accuracy</th>\n",
       "      <th>Precision</th>\n",
       "      <th>Recall</th>\n",
       "    </tr>\n",
       "  </thead>\n",
       "  <tbody>\n",
       "    <tr>\n",
       "      <th>0</th>\n",
       "      <td>0.877667</td>\n",
       "      <td>0.872656</td>\n",
       "      <td>0.845572</td>\n",
       "    </tr>\n",
       "    <tr>\n",
       "      <th>1</th>\n",
       "      <td>0.884333</td>\n",
       "      <td>0.877519</td>\n",
       "      <td>0.856927</td>\n",
       "    </tr>\n",
       "    <tr>\n",
       "      <th>2</th>\n",
       "      <td>0.878000</td>\n",
       "      <td>0.876281</td>\n",
       "      <td>0.841787</td>\n",
       "    </tr>\n",
       "    <tr>\n",
       "      <th>3</th>\n",
       "      <td>0.876333</td>\n",
       "      <td>0.886179</td>\n",
       "      <td>0.825132</td>\n",
       "    </tr>\n",
       "    <tr>\n",
       "      <th>4</th>\n",
       "      <td>0.881000</td>\n",
       "      <td>0.886218</td>\n",
       "      <td>0.837245</td>\n",
       "    </tr>\n",
       "    <tr>\n",
       "      <th>5</th>\n",
       "      <td>0.883333</td>\n",
       "      <td>0.873749</td>\n",
       "      <td>0.859198</td>\n",
       "    </tr>\n",
       "    <tr>\n",
       "      <th>6</th>\n",
       "      <td>0.888000</td>\n",
       "      <td>0.876817</td>\n",
       "      <td>0.867525</td>\n",
       "    </tr>\n",
       "    <tr>\n",
       "      <th>7</th>\n",
       "      <td>0.885667</td>\n",
       "      <td>0.880841</td>\n",
       "      <td>0.856170</td>\n",
       "    </tr>\n",
       "    <tr>\n",
       "      <th>8</th>\n",
       "      <td>0.889000</td>\n",
       "      <td>0.878927</td>\n",
       "      <td>0.867625</td>\n",
       "    </tr>\n",
       "    <tr>\n",
       "      <th>9</th>\n",
       "      <td>0.888000</td>\n",
       "      <td>0.879815</td>\n",
       "      <td>0.863843</td>\n",
       "    </tr>\n",
       "  </tbody>\n",
       "</table>\n",
       "</div>"
      ],
      "text/plain": [
       "   Accuracy  Precision    Recall\n",
       "0  0.877667   0.872656  0.845572\n",
       "1  0.884333   0.877519  0.856927\n",
       "2  0.878000   0.876281  0.841787\n",
       "3  0.876333   0.886179  0.825132\n",
       "4  0.881000   0.886218  0.837245\n",
       "5  0.883333   0.873749  0.859198\n",
       "6  0.888000   0.876817  0.867525\n",
       "7  0.885667   0.880841  0.856170\n",
       "8  0.889000   0.878927  0.867625\n",
       "9  0.888000   0.879815  0.863843"
      ]
     },
     "execution_count": 26,
     "metadata": {},
     "output_type": "execute_result"
    }
   ],
   "source": [
    "classifierEst_5 = regGridSearch.best_estimator_\n",
    "\n",
    "EvaluateClassifierEstimator(classifierEst_5, model_satisfied_x, model_satisfied_y, cv)"
   ]
  },
  {
   "cell_type": "markdown",
   "metadata": {},
   "source": [
    "### B. Cleanliness Classification Models\n",
    "\n",
    "##### Logistic Regression"
   ]
  },
  {
   "cell_type": "code",
   "execution_count": 27,
   "metadata": {},
   "outputs": [
    {
     "name": "stdout",
     "output_type": "stream",
     "text": [
      "Fitting 10 folds for each of 56 candidates, totalling 560 fits\n"
     ]
    },
    {
     "name": "stderr",
     "output_type": "stream",
     "text": [
      "[Parallel(n_jobs=7)]: Using backend LokyBackend with 7 concurrent workers.\n",
      "[Parallel(n_jobs=7)]: Done  36 tasks      | elapsed:   20.4s\n",
      "[Parallel(n_jobs=7)]: Done 186 tasks      | elapsed:  1.4min\n",
      "[Parallel(n_jobs=7)]: Done 436 tasks      | elapsed:  3.3min\n",
      "[Parallel(n_jobs=7)]: Done 560 out of 560 | elapsed:  4.2min finished\n"
     ]
    },
    {
     "data": {
      "text/plain": [
       "GridSearchCV(cv=StratifiedKFold(n_splits=10, random_state=5, shuffle=True),\n",
       "             estimator=Pipeline(steps=[('scale', StandardScaler()),\n",
       "                                       ('PCA', PCA(n_components=15)),\n",
       "                                       ('clf', LogisticRegression())]),\n",
       "             n_jobs=7,\n",
       "             param_grid={'clf__C': [0.001, 0.01, 0.1, 1, 10, 100, 1000],\n",
       "                         'clf__class_weight': ['balanced', 'none'],\n",
       "                         'clf__max_iter': [100, 500],\n",
       "                         'clf__penalty': ['l2', 'l1'], 'clf__random_state': [5],\n",
       "                         'clf__solver': ['liblinear']},\n",
       "             scoring='accuracy', verbose=1)"
      ]
     },
     "execution_count": 27,
     "metadata": {},
     "output_type": "execute_result"
    }
   ],
   "source": [
    "\n",
    "regEstimator = LogisticRegression()\n",
    "\n",
    "pipeline = Pipeline([\n",
    "    ('scale', scl),\n",
    "    ('PCA',PCA(n_components=15, svd_solver='auto')),\n",
    "    ('clf', regEstimator),\n",
    "])\n",
    "\n",
    "parameters = { 'clf__penalty':['l2','l1']\n",
    "              ,'clf__C': [0.001, 0.01, 0.1, 1, 10, 100, 1000]\n",
    "              ,'clf__class_weight': ['balanced','none']\n",
    "              ,'clf__random_state': [5]\n",
    "              ,'clf__solver': ['liblinear']\n",
    "              ,'clf__max_iter':[100,500]\n",
    "             }\n",
    "\n",
    "regGridSearch = GridSearchCV(pipeline, param_grid=parameters, cv=cv, n_jobs=7, verbose=1, scoring='accuracy')\n",
    "\n",
    "regGridSearch.fit(X_b, y_b)"
   ]
  },
  {
   "cell_type": "code",
   "execution_count": 28,
   "metadata": {},
   "outputs": [
    {
     "data": {
      "text/plain": [
       "Pipeline(steps=[('scale', StandardScaler()), ('PCA', PCA(n_components=15)),\n",
       "                ('clf',\n",
       "                 LogisticRegression(C=10, class_weight='balanced', penalty='l1',\n",
       "                                    random_state=5, solver='liblinear'))])"
      ]
     },
     "execution_count": 28,
     "metadata": {},
     "output_type": "execute_result"
    }
   ],
   "source": [
    "regGridSearch.best_estimator_"
   ]
  },
  {
   "cell_type": "code",
   "execution_count": 29,
   "metadata": {},
   "outputs": [
    {
     "name": "stdout",
     "output_type": "stream",
     "text": [
      "The average accuracy for all cv folds is: \t\t\t 0.85968\n",
      "The average precision for all cv folds is: \t\t\t 0.93647\n",
      "The average recall for all cv folds is: \t\t\t 0.86261\n",
      "*********************************************************\n",
      "Cross Validation Fold Mean Error Scores\n"
     ]
    },
    {
     "data": {
      "text/html": [
       "<div>\n",
       "<style scoped>\n",
       "    .dataframe tbody tr th:only-of-type {\n",
       "        vertical-align: middle;\n",
       "    }\n",
       "\n",
       "    .dataframe tbody tr th {\n",
       "        vertical-align: top;\n",
       "    }\n",
       "\n",
       "    .dataframe thead th {\n",
       "        text-align: right;\n",
       "    }\n",
       "</style>\n",
       "<table border=\"1\" class=\"dataframe\">\n",
       "  <thead>\n",
       "    <tr style=\"text-align: right;\">\n",
       "      <th></th>\n",
       "      <th>Accuracy</th>\n",
       "      <th>Precision</th>\n",
       "      <th>Recall</th>\n",
       "    </tr>\n",
       "  </thead>\n",
       "  <tbody>\n",
       "    <tr>\n",
       "      <th>0</th>\n",
       "      <td>0.865163</td>\n",
       "      <td>0.939521</td>\n",
       "      <td>0.867601</td>\n",
       "    </tr>\n",
       "    <tr>\n",
       "      <th>1</th>\n",
       "      <td>0.853966</td>\n",
       "      <td>0.935891</td>\n",
       "      <td>0.854663</td>\n",
       "    </tr>\n",
       "    <tr>\n",
       "      <th>2</th>\n",
       "      <td>0.861070</td>\n",
       "      <td>0.935360</td>\n",
       "      <td>0.865876</td>\n",
       "    </tr>\n",
       "    <tr>\n",
       "      <th>3</th>\n",
       "      <td>0.863464</td>\n",
       "      <td>0.937216</td>\n",
       "      <td>0.867493</td>\n",
       "    </tr>\n",
       "    <tr>\n",
       "      <th>4</th>\n",
       "      <td>0.859758</td>\n",
       "      <td>0.938190</td>\n",
       "      <td>0.860901</td>\n",
       "    </tr>\n",
       "    <tr>\n",
       "      <th>5</th>\n",
       "      <td>0.858136</td>\n",
       "      <td>0.934557</td>\n",
       "      <td>0.862303</td>\n",
       "    </tr>\n",
       "    <tr>\n",
       "      <th>6</th>\n",
       "      <td>0.858754</td>\n",
       "      <td>0.931995</td>\n",
       "      <td>0.865969</td>\n",
       "    </tr>\n",
       "    <tr>\n",
       "      <th>7</th>\n",
       "      <td>0.854727</td>\n",
       "      <td>0.936784</td>\n",
       "      <td>0.854863</td>\n",
       "    </tr>\n",
       "    <tr>\n",
       "      <th>8</th>\n",
       "      <td>0.860673</td>\n",
       "      <td>0.937354</td>\n",
       "      <td>0.863166</td>\n",
       "    </tr>\n",
       "    <tr>\n",
       "      <th>9</th>\n",
       "      <td>0.861060</td>\n",
       "      <td>0.937800</td>\n",
       "      <td>0.863274</td>\n",
       "    </tr>\n",
       "  </tbody>\n",
       "</table>\n",
       "</div>"
      ],
      "text/plain": [
       "   Accuracy  Precision    Recall\n",
       "0  0.865163   0.939521  0.867601\n",
       "1  0.853966   0.935891  0.854663\n",
       "2  0.861070   0.935360  0.865876\n",
       "3  0.863464   0.937216  0.867493\n",
       "4  0.859758   0.938190  0.860901\n",
       "5  0.858136   0.934557  0.862303\n",
       "6  0.858754   0.931995  0.865969\n",
       "7  0.854727   0.936784  0.854863\n",
       "8  0.860673   0.937354  0.863166\n",
       "9  0.861060   0.937800  0.863274"
      ]
     },
     "execution_count": 29,
     "metadata": {},
     "output_type": "execute_result"
    }
   ],
   "source": [
    "classifierEst_6 = regGridSearch.best_estimator_\n",
    "\n",
    "EvaluateClassifierEstimator(classifierEst_6, X_b, y_b, cv)"
   ]
  },
  {
   "cell_type": "markdown",
   "metadata": {},
   "source": [
    "##### Random Forest"
   ]
  },
  {
   "cell_type": "code",
   "execution_count": 30,
   "metadata": {},
   "outputs": [
    {
     "name": "stdout",
     "output_type": "stream",
     "text": [
      "Fitting 10 folds for each of 36 candidates, totalling 360 fits\n"
     ]
    },
    {
     "name": "stderr",
     "output_type": "stream",
     "text": [
      "[Parallel(n_jobs=7)]: Using backend LokyBackend with 7 concurrent workers.\n",
      "[Parallel(n_jobs=7)]: Done  36 tasks      | elapsed:  1.5min\n",
      "[Parallel(n_jobs=7)]: Done 186 tasks      | elapsed: 10.7min\n",
      "[Parallel(n_jobs=7)]: Done 360 out of 360 | elapsed: 11.3min finished\n"
     ]
    },
    {
     "data": {
      "text/plain": [
       "GridSearchCV(cv=StratifiedKFold(n_splits=10, random_state=5, shuffle=True),\n",
       "             estimator=Pipeline(steps=[('scale', StandardScaler()),\n",
       "                                       ('PCA', PCA(n_components=15)),\n",
       "                                       ('clf', RandomForestClassifier())]),\n",
       "             n_jobs=7,\n",
       "             param_grid={'clf__class_weight': ['balanced', 'none'],\n",
       "                         'clf__criterion': ['gini', 'entropy'],\n",
       "                         'clf__max_depth': [10, 20, 50],\n",
       "                         'clf__n_estimators': [100, 150, 200],\n",
       "                         'clf__random_state': [5]},\n",
       "             scoring='accuracy', verbose=1)"
      ]
     },
     "execution_count": 30,
     "metadata": {},
     "output_type": "execute_result"
    }
   ],
   "source": [
    "\n",
    "regEstimator = RandomForestClassifier()\n",
    "\n",
    "pipeline = Pipeline([\n",
    "    ('scale', scl),\n",
    "    ('PCA',PCA(n_components=15, svd_solver='auto')),\n",
    "    ('clf', regEstimator),\n",
    "])\n",
    "\n",
    "parameters = {'clf__criterion': ['gini','entropy']\n",
    "              ,'clf__random_state': [5]\n",
    "              ,'clf__max_depth': [10,20,50]\n",
    "              ,'clf__n_estimators':[100,150,200]\n",
    "              ,'clf__class_weight':['balanced','none']\n",
    "             }\n",
    "\n",
    "regGridSearch = GridSearchCV(pipeline, param_grid=parameters, cv=cv, n_jobs=7, verbose=1, scoring='accuracy')\n",
    "\n",
    "\n",
    "regGridSearch.fit(model_clean_x, model_clean_y)"
   ]
  },
  {
   "cell_type": "code",
   "execution_count": 31,
   "metadata": {},
   "outputs": [
    {
     "data": {
      "text/plain": [
       "Pipeline(steps=[('scale', StandardScaler()), ('PCA', PCA(n_components=15)),\n",
       "                ('clf',\n",
       "                 RandomForestClassifier(class_weight='balanced',\n",
       "                                        criterion='entropy', max_depth=20,\n",
       "                                        n_estimators=200, random_state=5))])"
      ]
     },
     "execution_count": 31,
     "metadata": {},
     "output_type": "execute_result"
    }
   ],
   "source": [
    "regGridSearch.best_estimator_"
   ]
  },
  {
   "cell_type": "code",
   "execution_count": 32,
   "metadata": {},
   "outputs": [
    {
     "name": "stdout",
     "output_type": "stream",
     "text": [
      "The average accuracy for all cv folds is: \t\t\t 0.90165\n",
      "The average precision for all cv folds is: \t\t\t 0.92238\n",
      "The average recall for all cv folds is: \t\t\t 0.94196\n",
      "*********************************************************\n",
      "Cross Validation Fold Mean Error Scores\n"
     ]
    },
    {
     "data": {
      "text/html": [
       "<div>\n",
       "<style scoped>\n",
       "    .dataframe tbody tr th:only-of-type {\n",
       "        vertical-align: middle;\n",
       "    }\n",
       "\n",
       "    .dataframe tbody tr th {\n",
       "        vertical-align: top;\n",
       "    }\n",
       "\n",
       "    .dataframe thead th {\n",
       "        text-align: right;\n",
       "    }\n",
       "</style>\n",
       "<table border=\"1\" class=\"dataframe\">\n",
       "  <thead>\n",
       "    <tr style=\"text-align: right;\">\n",
       "      <th></th>\n",
       "      <th>Accuracy</th>\n",
       "      <th>Precision</th>\n",
       "      <th>Recall</th>\n",
       "    </tr>\n",
       "  </thead>\n",
       "  <tbody>\n",
       "    <tr>\n",
       "      <th>0</th>\n",
       "      <td>0.906556</td>\n",
       "      <td>0.923894</td>\n",
       "      <td>0.947601</td>\n",
       "    </tr>\n",
       "    <tr>\n",
       "      <th>1</th>\n",
       "      <td>0.901228</td>\n",
       "      <td>0.922622</td>\n",
       "      <td>0.941024</td>\n",
       "    </tr>\n",
       "    <tr>\n",
       "      <th>2</th>\n",
       "      <td>0.902155</td>\n",
       "      <td>0.921385</td>\n",
       "      <td>0.943935</td>\n",
       "    </tr>\n",
       "    <tr>\n",
       "      <th>3</th>\n",
       "      <td>0.901382</td>\n",
       "      <td>0.923354</td>\n",
       "      <td>0.940377</td>\n",
       "    </tr>\n",
       "    <tr>\n",
       "      <th>4</th>\n",
       "      <td>0.899452</td>\n",
       "      <td>0.924133</td>\n",
       "      <td>0.936489</td>\n",
       "    </tr>\n",
       "    <tr>\n",
       "      <th>5</th>\n",
       "      <td>0.901537</td>\n",
       "      <td>0.919631</td>\n",
       "      <td>0.945115</td>\n",
       "    </tr>\n",
       "    <tr>\n",
       "      <th>6</th>\n",
       "      <td>0.902077</td>\n",
       "      <td>0.920218</td>\n",
       "      <td>0.945223</td>\n",
       "    </tr>\n",
       "    <tr>\n",
       "      <th>7</th>\n",
       "      <td>0.897050</td>\n",
       "      <td>0.920292</td>\n",
       "      <td>0.937460</td>\n",
       "    </tr>\n",
       "    <tr>\n",
       "      <th>8</th>\n",
       "      <td>0.902070</td>\n",
       "      <td>0.924226</td>\n",
       "      <td>0.940371</td>\n",
       "    </tr>\n",
       "    <tr>\n",
       "      <th>9</th>\n",
       "      <td>0.902997</td>\n",
       "      <td>0.924053</td>\n",
       "      <td>0.941988</td>\n",
       "    </tr>\n",
       "  </tbody>\n",
       "</table>\n",
       "</div>"
      ],
      "text/plain": [
       "   Accuracy  Precision    Recall\n",
       "0  0.906556   0.923894  0.947601\n",
       "1  0.901228   0.922622  0.941024\n",
       "2  0.902155   0.921385  0.943935\n",
       "3  0.901382   0.923354  0.940377\n",
       "4  0.899452   0.924133  0.936489\n",
       "5  0.901537   0.919631  0.945115\n",
       "6  0.902077   0.920218  0.945223\n",
       "7  0.897050   0.920292  0.937460\n",
       "8  0.902070   0.924226  0.940371\n",
       "9  0.902997   0.924053  0.941988"
      ]
     },
     "execution_count": 32,
     "metadata": {},
     "output_type": "execute_result"
    }
   ],
   "source": [
    "classifierEst_8 = regGridSearch.best_estimator_\n",
    "\n",
    "EvaluateClassifierEstimator(classifierEst_8, X_b, y_b, cv)"
   ]
  },
  {
   "cell_type": "markdown",
   "metadata": {},
   "source": [
    "##### Support Vector Machine"
   ]
  },
  {
   "cell_type": "code",
   "execution_count": 33,
   "metadata": {},
   "outputs": [
    {
     "name": "stdout",
     "output_type": "stream",
     "text": [
      "Fitting 10 folds for each of 36 candidates, totalling 360 fits\n"
     ]
    },
    {
     "name": "stderr",
     "output_type": "stream",
     "text": [
      "[Parallel(n_jobs=7)]: Using backend LokyBackend with 7 concurrent workers.\n",
      "[Parallel(n_jobs=7)]: Done  36 tasks      | elapsed:  5.2min\n",
      "[Parallel(n_jobs=7)]: Done 186 tasks      | elapsed: 24.4min\n",
      "[Parallel(n_jobs=7)]: Done 360 out of 360 | elapsed: 58.0min finished\n"
     ]
    },
    {
     "data": {
      "text/plain": [
       "GridSearchCV(cv=StratifiedKFold(n_splits=10, random_state=5, shuffle=True),\n",
       "             estimator=Pipeline(steps=[('scale', StandardScaler()),\n",
       "                                       ('PCA', PCA(n_components=15)),\n",
       "                                       ('clf', SVC())]),\n",
       "             n_jobs=7,\n",
       "             param_grid={'clf__C': [0.001, 0.01, 0.1, 1, 10, 100],\n",
       "                         'clf__degree': [3],\n",
       "                         'clf__gamma': ['scale', 'auto', 1, 0.1, 0.01, 0.001],\n",
       "                         'clf__kernel': ['rbf'], 'clf__random_state': [5]},\n",
       "             scoring='accuracy', verbose=1)"
      ]
     },
     "execution_count": 33,
     "metadata": {},
     "output_type": "execute_result"
    }
   ],
   "source": [
    "\n",
    "regEstimator = SVC()\n",
    "\n",
    "pipeline = Pipeline([\n",
    "    ('scale', scl),\n",
    "    ('PCA',PCA(n_components=15, svd_solver='auto')),\n",
    "    ('clf', regEstimator),\n",
    "])\n",
    "\n",
    "parameters = {'clf__C': [0.001, 0.01, 0.1, 1, 10, 100], \n",
    "              'clf__gamma': ['scale', 'auto', 1, 0.1, 0.01, 0.001],\n",
    "              'clf__kernel':['rbf'], \n",
    "              'clf__degree':[3],\n",
    "              'clf__random_state':[5],\n",
    "             }\n",
    "\n",
    "regGridSearch = GridSearchCV(pipeline, param_grid=parameters, cv=cv, n_jobs=7, verbose=1, scoring='accuracy')\n",
    "\n",
    "\n",
    "regGridSearch.fit(model_clean_x, model_clean_y)"
   ]
  },
  {
   "cell_type": "code",
   "execution_count": 34,
   "metadata": {},
   "outputs": [
    {
     "data": {
      "text/plain": [
       "Pipeline(steps=[('scale', StandardScaler()), ('PCA', PCA(n_components=15)),\n",
       "                ('clf', SVC(C=10, random_state=5))])"
      ]
     },
     "execution_count": 34,
     "metadata": {},
     "output_type": "execute_result"
    }
   ],
   "source": [
    "regGridSearch.best_estimator_"
   ]
  },
  {
   "cell_type": "code",
   "execution_count": 35,
   "metadata": {},
   "outputs": [
    {
     "name": "stdout",
     "output_type": "stream",
     "text": [
      "The average accuracy for all cv folds is: \t\t\t 0.90593\n",
      "The average precision for all cv folds is: \t\t\t 0.90936\n",
      "The average recall for all cv folds is: \t\t\t 0.96492\n",
      "*********************************************************\n",
      "Cross Validation Fold Mean Error Scores\n"
     ]
    },
    {
     "data": {
      "text/html": [
       "<div>\n",
       "<style scoped>\n",
       "    .dataframe tbody tr th:only-of-type {\n",
       "        vertical-align: middle;\n",
       "    }\n",
       "\n",
       "    .dataframe tbody tr th {\n",
       "        vertical-align: top;\n",
       "    }\n",
       "\n",
       "    .dataframe thead th {\n",
       "        text-align: right;\n",
       "    }\n",
       "</style>\n",
       "<table border=\"1\" class=\"dataframe\">\n",
       "  <thead>\n",
       "    <tr style=\"text-align: right;\">\n",
       "      <th></th>\n",
       "      <th>Accuracy</th>\n",
       "      <th>Precision</th>\n",
       "      <th>Recall</th>\n",
       "    </tr>\n",
       "  </thead>\n",
       "  <tbody>\n",
       "    <tr>\n",
       "      <th>0</th>\n",
       "      <td>0.903000</td>\n",
       "      <td>0.905718</td>\n",
       "      <td>0.965116</td>\n",
       "    </tr>\n",
       "    <tr>\n",
       "      <th>1</th>\n",
       "      <td>0.913000</td>\n",
       "      <td>0.910117</td>\n",
       "      <td>0.974884</td>\n",
       "    </tr>\n",
       "    <tr>\n",
       "      <th>2</th>\n",
       "      <td>0.910667</td>\n",
       "      <td>0.911996</td>\n",
       "      <td>0.968837</td>\n",
       "    </tr>\n",
       "    <tr>\n",
       "      <th>3</th>\n",
       "      <td>0.903667</td>\n",
       "      <td>0.903688</td>\n",
       "      <td>0.968837</td>\n",
       "    </tr>\n",
       "    <tr>\n",
       "      <th>4</th>\n",
       "      <td>0.910667</td>\n",
       "      <td>0.915636</td>\n",
       "      <td>0.964186</td>\n",
       "    </tr>\n",
       "    <tr>\n",
       "      <th>5</th>\n",
       "      <td>0.906667</td>\n",
       "      <td>0.911855</td>\n",
       "      <td>0.962773</td>\n",
       "    </tr>\n",
       "    <tr>\n",
       "      <th>6</th>\n",
       "      <td>0.904000</td>\n",
       "      <td>0.915216</td>\n",
       "      <td>0.954397</td>\n",
       "    </tr>\n",
       "    <tr>\n",
       "      <th>7</th>\n",
       "      <td>0.904333</td>\n",
       "      <td>0.910856</td>\n",
       "      <td>0.960447</td>\n",
       "    </tr>\n",
       "    <tr>\n",
       "      <th>8</th>\n",
       "      <td>0.901333</td>\n",
       "      <td>0.904409</td>\n",
       "      <td>0.964169</td>\n",
       "    </tr>\n",
       "    <tr>\n",
       "      <th>9</th>\n",
       "      <td>0.902000</td>\n",
       "      <td>0.904139</td>\n",
       "      <td>0.965565</td>\n",
       "    </tr>\n",
       "  </tbody>\n",
       "</table>\n",
       "</div>"
      ],
      "text/plain": [
       "   Accuracy  Precision    Recall\n",
       "0  0.903000   0.905718  0.965116\n",
       "1  0.913000   0.910117  0.974884\n",
       "2  0.910667   0.911996  0.968837\n",
       "3  0.903667   0.903688  0.968837\n",
       "4  0.910667   0.915636  0.964186\n",
       "5  0.906667   0.911855  0.962773\n",
       "6  0.904000   0.915216  0.954397\n",
       "7  0.904333   0.910856  0.960447\n",
       "8  0.901333   0.904409  0.964169\n",
       "9  0.902000   0.904139  0.965565"
      ]
     },
     "execution_count": 35,
     "metadata": {},
     "output_type": "execute_result"
    }
   ],
   "source": [
    "classifierEst_9 = regGridSearch.best_estimator_\n",
    "\n",
    "EvaluateClassifierEstimator(classifierEst_9, model_clean_x, model_clean_y, cv)"
   ]
  },
  {
   "cell_type": "markdown",
   "metadata": {},
   "source": [
    "##### Decision Tree Model"
   ]
  },
  {
   "cell_type": "code",
   "execution_count": 36,
   "metadata": {},
   "outputs": [
    {
     "name": "stdout",
     "output_type": "stream",
     "text": [
      "Fitting 10 folds for each of 12 candidates, totalling 120 fits\n"
     ]
    },
    {
     "name": "stderr",
     "output_type": "stream",
     "text": [
      "[Parallel(n_jobs=7)]: Using backend LokyBackend with 7 concurrent workers.\n",
      "[Parallel(n_jobs=7)]: Done  36 tasks      | elapsed:   48.4s\n",
      "[Parallel(n_jobs=7)]: Done 120 out of 120 | elapsed:  1.7min finished\n"
     ]
    },
    {
     "data": {
      "text/plain": [
       "GridSearchCV(cv=StratifiedKFold(n_splits=10, random_state=5, shuffle=True),\n",
       "             estimator=Pipeline(steps=[('scale', StandardScaler()),\n",
       "                                       ('PCA', PCA(n_components=15)),\n",
       "                                       ('clf', DecisionTreeClassifier())]),\n",
       "             n_jobs=7,\n",
       "             param_grid={'clf__class_weight': ['balanced', 'none'],\n",
       "                         'clf__criterion': ['gini', 'entropy'],\n",
       "                         'clf__max_depth': [10, 20, 50],\n",
       "                         'clf__random_state': [5]},\n",
       "             scoring='accuracy', verbose=1)"
      ]
     },
     "execution_count": 36,
     "metadata": {},
     "output_type": "execute_result"
    }
   ],
   "source": [
    "\n",
    "regEstimator = DecisionTreeClassifier()\n",
    "\n",
    "pipeline = Pipeline([\n",
    "    ('scale', scl),\n",
    "    ('PCA',PCA(n_components=15, svd_solver='auto')),\n",
    "    ('clf', regEstimator),\n",
    "])\n",
    "\n",
    "parameters = {'clf__criterion': ['gini','entropy']\n",
    "              ,'clf__random_state': [5]\n",
    "              ,'clf__max_depth': [10,20,50]\n",
    "              ,'clf__class_weight':['balanced','none']}\n",
    "\n",
    "regGridSearch = GridSearchCV(pipeline, param_grid=parameters, cv=cv, n_jobs=7, verbose=1, scoring='accuracy')\n",
    "\n",
    "\n",
    "regGridSearch.fit(X_b, y_b)"
   ]
  },
  {
   "cell_type": "code",
   "execution_count": 37,
   "metadata": {},
   "outputs": [
    {
     "data": {
      "text/plain": [
       "Pipeline(steps=[('scale', StandardScaler()), ('PCA', PCA(n_components=15)),\n",
       "                ('clf',\n",
       "                 DecisionTreeClassifier(class_weight='balanced',\n",
       "                                        criterion='entropy', max_depth=50,\n",
       "                                        random_state=5))])"
      ]
     },
     "execution_count": 37,
     "metadata": {},
     "output_type": "execute_result"
    }
   ],
   "source": [
    "regGridSearch.best_estimator_"
   ]
  },
  {
   "cell_type": "code",
   "execution_count": 38,
   "metadata": {},
   "outputs": [
    {
     "name": "stdout",
     "output_type": "stream",
     "text": [
      "The average accuracy for all cv folds is: \t\t\t 0.86847\n",
      "The average precision for all cv folds is: \t\t\t 0.90894\n",
      "The average recall for all cv folds is: \t\t\t 0.90726\n",
      "*********************************************************\n",
      "Cross Validation Fold Mean Error Scores\n"
     ]
    },
    {
     "data": {
      "text/html": [
       "<div>\n",
       "<style scoped>\n",
       "    .dataframe tbody tr th:only-of-type {\n",
       "        vertical-align: middle;\n",
       "    }\n",
       "\n",
       "    .dataframe tbody tr th {\n",
       "        vertical-align: top;\n",
       "    }\n",
       "\n",
       "    .dataframe thead th {\n",
       "        text-align: right;\n",
       "    }\n",
       "</style>\n",
       "<table border=\"1\" class=\"dataframe\">\n",
       "  <thead>\n",
       "    <tr style=\"text-align: right;\">\n",
       "      <th></th>\n",
       "      <th>Accuracy</th>\n",
       "      <th>Precision</th>\n",
       "      <th>Recall</th>\n",
       "    </tr>\n",
       "  </thead>\n",
       "  <tbody>\n",
       "    <tr>\n",
       "      <th>0</th>\n",
       "      <td>0.869874</td>\n",
       "      <td>0.909120</td>\n",
       "      <td>0.909218</td>\n",
       "    </tr>\n",
       "    <tr>\n",
       "      <th>1</th>\n",
       "      <td>0.865009</td>\n",
       "      <td>0.907879</td>\n",
       "      <td>0.903181</td>\n",
       "    </tr>\n",
       "    <tr>\n",
       "      <th>2</th>\n",
       "      <td>0.864005</td>\n",
       "      <td>0.906514</td>\n",
       "      <td>0.903288</td>\n",
       "    </tr>\n",
       "    <tr>\n",
       "      <th>3</th>\n",
       "      <td>0.868484</td>\n",
       "      <td>0.909032</td>\n",
       "      <td>0.907170</td>\n",
       "    </tr>\n",
       "    <tr>\n",
       "      <th>4</th>\n",
       "      <td>0.869256</td>\n",
       "      <td>0.908944</td>\n",
       "      <td>0.908454</td>\n",
       "    </tr>\n",
       "    <tr>\n",
       "      <th>5</th>\n",
       "      <td>0.869951</td>\n",
       "      <td>0.907101</td>\n",
       "      <td>0.911796</td>\n",
       "    </tr>\n",
       "    <tr>\n",
       "      <th>6</th>\n",
       "      <td>0.866553</td>\n",
       "      <td>0.907363</td>\n",
       "      <td>0.906189</td>\n",
       "    </tr>\n",
       "    <tr>\n",
       "      <th>7</th>\n",
       "      <td>0.871100</td>\n",
       "      <td>0.911214</td>\n",
       "      <td>0.908562</td>\n",
       "    </tr>\n",
       "    <tr>\n",
       "      <th>8</th>\n",
       "      <td>0.870559</td>\n",
       "      <td>0.912307</td>\n",
       "      <td>0.906405</td>\n",
       "    </tr>\n",
       "    <tr>\n",
       "      <th>9</th>\n",
       "      <td>0.869941</td>\n",
       "      <td>0.909916</td>\n",
       "      <td>0.908346</td>\n",
       "    </tr>\n",
       "  </tbody>\n",
       "</table>\n",
       "</div>"
      ],
      "text/plain": [
       "   Accuracy  Precision    Recall\n",
       "0  0.869874   0.909120  0.909218\n",
       "1  0.865009   0.907879  0.903181\n",
       "2  0.864005   0.906514  0.903288\n",
       "3  0.868484   0.909032  0.907170\n",
       "4  0.869256   0.908944  0.908454\n",
       "5  0.869951   0.907101  0.911796\n",
       "6  0.866553   0.907363  0.906189\n",
       "7  0.871100   0.911214  0.908562\n",
       "8  0.870559   0.912307  0.906405\n",
       "9  0.869941   0.909916  0.908346"
      ]
     },
     "execution_count": 38,
     "metadata": {},
     "output_type": "execute_result"
    }
   ],
   "source": [
    "classifierEst_10 = regGridSearch.best_estimator_\n",
    "EvaluateClassifierEstimator(classifierEst_10, X_b, y_b, cv)"
   ]
  },
  {
   "cell_type": "markdown",
   "metadata": {},
   "source": [
    "________________________________________"
   ]
  },
  {
   "cell_type": "markdown",
   "metadata": {},
   "source": [
    "## 3. Exceptional Work: Neural Network Classifier\n",
    "\n",
    "In addition to the logistic regression, random forest, support vector machine and decision tree models that were done for flight satisfaction and cleanliness, a neural network classifier was used in an attempt to maximize model accuracy. The model used is from the sklearn.neural_network module. In the code below we will utilize MLPClassifier() the Multi-layer Perceptron classifier.  This model works by optimizing the log-loss function using LBFGS or stochastic gradient descent.  In addition, the model trains iteratively.  MLPClassifier relies on an underlying Neural Network to perform classification tasks. \n",
    "\n",
    "The code below shows the steps to hypertune a neural network MLPClassifier using gridsearchCV, as well as the results of a 10-fold cross validation for accuracy, precision and recall.  The results of the model as well as its comparison against the 4 previous model will be explored in the subsequent sections of the report."
   ]
  },
  {
   "cell_type": "code",
   "execution_count": 39,
   "metadata": {},
   "outputs": [
    {
     "name": "stdout",
     "output_type": "stream",
     "text": [
      "Fitting 10 folds for each of 60 candidates, totalling 600 fits\n"
     ]
    },
    {
     "name": "stderr",
     "output_type": "stream",
     "text": [
      "[Parallel(n_jobs=7)]: Using backend LokyBackend with 7 concurrent workers.\n",
      "[Parallel(n_jobs=7)]: Done  36 tasks      | elapsed:  6.1min\n",
      "[Parallel(n_jobs=7)]: Done 186 tasks      | elapsed: 24.9min\n",
      "[Parallel(n_jobs=7)]: Done 436 tasks      | elapsed: 44.0min\n",
      "[Parallel(n_jobs=7)]: Done 600 out of 600 | elapsed: 51.3min finished\n"
     ]
    },
    {
     "data": {
      "text/plain": [
       "GridSearchCV(cv=StratifiedKFold(n_splits=10, random_state=5, shuffle=True),\n",
       "             estimator=Pipeline(steps=[('scale', StandardScaler()),\n",
       "                                       ('PCA', PCA(n_components=15)),\n",
       "                                       ('clf', MLPClassifier())]),\n",
       "             n_jobs=7,\n",
       "             param_grid={'clf__alpha': [0.01, 1, 10, 100, 1000],\n",
       "                         'clf__learning_rate': ['constant', 'invscaling'],\n",
       "                         'clf__max_iter': [200, 500], 'clf__random_state': [5],\n",
       "                         'clf__solver': ['lbfgs', 'sgd', 'adam']},\n",
       "             scoring='accuracy', verbose=1)"
      ]
     },
     "execution_count": 39,
     "metadata": {},
     "output_type": "execute_result"
    }
   ],
   "source": [
    "# MLPClassifier\n",
    "regEstimator = MLPClassifier()\n",
    "\n",
    "pipeline = Pipeline([\n",
    "    ('scale', scl),\n",
    "    ('PCA',PCA(n_components=15, svd_solver='auto')),\n",
    "    ('clf', regEstimator),\\\n",
    "])\n",
    "\n",
    "parameters = { 'clf__alpha': [0.01, 1, 10, 100, 1000]\n",
    "              ,'clf__random_state': [5]\n",
    "              ,'clf__solver': ['lbfgs','sgd', 'adam']\n",
    "              ,'clf__learning_rate':['constant', 'invscaling']\n",
    "              ,'clf__max_iter':[200,500]\n",
    "             }\n",
    "\n",
    "regGridSearch = GridSearchCV(pipeline, param_grid=parameters, cv=cv, n_jobs=7, verbose=1, scoring='accuracy')\n",
    "\n",
    "#X_scaled_satisfied = scl.transform(model_satisfied_x)\n",
    "regGridSearch.fit(model_satisfied_x, model_satisfied_y)"
   ]
  },
  {
   "cell_type": "code",
   "execution_count": 40,
   "metadata": {},
   "outputs": [
    {
     "data": {
      "text/plain": [
       "Pipeline(steps=[('scale', StandardScaler()), ('PCA', PCA(n_components=15)),\n",
       "                ('clf',\n",
       "                 MLPClassifier(alpha=10, learning_rate='invscaling',\n",
       "                               max_iter=500, random_state=5, solver='lbfgs'))])"
      ]
     },
     "execution_count": 40,
     "metadata": {},
     "output_type": "execute_result"
    }
   ],
   "source": [
    "regGridSearch.best_estimator_"
   ]
  },
  {
   "cell_type": "code",
   "execution_count": 42,
   "metadata": {},
   "outputs": [
    {
     "name": "stdout",
     "output_type": "stream",
     "text": [
      "The average accuracy for all cv folds is: \t\t\t 0.93641\n",
      "The average precision for all cv folds is: \t\t\t 0.93917\n",
      "The average recall for all cv folds is: \t\t\t 0.91278\n",
      "*********************************************************\n",
      "Cross Validation Fold Mean Error Scores\n"
     ]
    },
    {
     "data": {
      "text/html": [
       "<div>\n",
       "<style scoped>\n",
       "    .dataframe tbody tr th:only-of-type {\n",
       "        vertical-align: middle;\n",
       "    }\n",
       "\n",
       "    .dataframe tbody tr th {\n",
       "        vertical-align: top;\n",
       "    }\n",
       "\n",
       "    .dataframe thead th {\n",
       "        text-align: right;\n",
       "    }\n",
       "</style>\n",
       "<table border=\"1\" class=\"dataframe\">\n",
       "  <thead>\n",
       "    <tr style=\"text-align: right;\">\n",
       "      <th></th>\n",
       "      <th>Accuracy</th>\n",
       "      <th>Precision</th>\n",
       "      <th>Recall</th>\n",
       "    </tr>\n",
       "  </thead>\n",
       "  <tbody>\n",
       "    <tr>\n",
       "      <th>0</th>\n",
       "      <td>0.937138</td>\n",
       "      <td>0.943748</td>\n",
       "      <td>0.909527</td>\n",
       "    </tr>\n",
       "    <tr>\n",
       "      <th>1</th>\n",
       "      <td>0.939223</td>\n",
       "      <td>0.940791</td>\n",
       "      <td>0.917881</td>\n",
       "    </tr>\n",
       "    <tr>\n",
       "      <th>2</th>\n",
       "      <td>0.939146</td>\n",
       "      <td>0.940780</td>\n",
       "      <td>0.917704</td>\n",
       "    </tr>\n",
       "    <tr>\n",
       "      <th>3</th>\n",
       "      <td>0.938374</td>\n",
       "      <td>0.939709</td>\n",
       "      <td>0.916993</td>\n",
       "    </tr>\n",
       "    <tr>\n",
       "      <th>4</th>\n",
       "      <td>0.938219</td>\n",
       "      <td>0.944711</td>\n",
       "      <td>0.911127</td>\n",
       "    </tr>\n",
       "    <tr>\n",
       "      <th>5</th>\n",
       "      <td>0.932736</td>\n",
       "      <td>0.935850</td>\n",
       "      <td>0.907411</td>\n",
       "    </tr>\n",
       "    <tr>\n",
       "      <th>6</th>\n",
       "      <td>0.932350</td>\n",
       "      <td>0.936112</td>\n",
       "      <td>0.906167</td>\n",
       "    </tr>\n",
       "    <tr>\n",
       "      <th>7</th>\n",
       "      <td>0.933967</td>\n",
       "      <td>0.937787</td>\n",
       "      <td>0.908283</td>\n",
       "    </tr>\n",
       "    <tr>\n",
       "      <th>8</th>\n",
       "      <td>0.938523</td>\n",
       "      <td>0.937025</td>\n",
       "      <td>0.920370</td>\n",
       "    </tr>\n",
       "    <tr>\n",
       "      <th>9</th>\n",
       "      <td>0.934430</td>\n",
       "      <td>0.935143</td>\n",
       "      <td>0.912371</td>\n",
       "    </tr>\n",
       "  </tbody>\n",
       "</table>\n",
       "</div>"
      ],
      "text/plain": [
       "   Accuracy  Precision    Recall\n",
       "0  0.937138   0.943748  0.909527\n",
       "1  0.939223   0.940791  0.917881\n",
       "2  0.939146   0.940780  0.917704\n",
       "3  0.938374   0.939709  0.916993\n",
       "4  0.938219   0.944711  0.911127\n",
       "5  0.932736   0.935850  0.907411\n",
       "6  0.932350   0.936112  0.906167\n",
       "7  0.933967   0.937787  0.908283\n",
       "8  0.938523   0.937025  0.920370\n",
       "9  0.934430   0.935143  0.912371"
      ]
     },
     "execution_count": 42,
     "metadata": {},
     "output_type": "execute_result"
    }
   ],
   "source": [
    "classifierEst_2 = regGridSearch.best_estimator_\n",
    "\n",
    "EvaluateClassifierEstimator(classifierEst_2, X_a, y_a, cv)"
   ]
  },
  {
   "cell_type": "code",
   "execution_count": 43,
   "metadata": {},
   "outputs": [
    {
     "name": "stdout",
     "output_type": "stream",
     "text": [
      "Fitting 10 folds for each of 60 candidates, totalling 600 fits\n"
     ]
    },
    {
     "name": "stderr",
     "output_type": "stream",
     "text": [
      "[Parallel(n_jobs=7)]: Using backend LokyBackend with 7 concurrent workers.\n",
      "[Parallel(n_jobs=7)]: Done  36 tasks      | elapsed:  6.0min\n",
      "[Parallel(n_jobs=7)]: Done 186 tasks      | elapsed: 23.7min\n",
      "[Parallel(n_jobs=7)]: Done 436 tasks      | elapsed: 42.5min\n",
      "[Parallel(n_jobs=7)]: Done 600 out of 600 | elapsed: 50.1min finished\n"
     ]
    },
    {
     "data": {
      "text/plain": [
       "GridSearchCV(cv=StratifiedKFold(n_splits=10, random_state=5, shuffle=True),\n",
       "             estimator=Pipeline(steps=[('scale', StandardScaler()),\n",
       "                                       ('PCA', PCA(n_components=15)),\n",
       "                                       ('clf', MLPClassifier())]),\n",
       "             n_jobs=7,\n",
       "             param_grid={'clf__alpha': [0.01, 1, 10, 100, 1000],\n",
       "                         'clf__learning_rate': ['constant', 'invscaling'],\n",
       "                         'clf__max_iter': [200, 500], 'clf__random_state': [5],\n",
       "                         'clf__solver': ['lbfgs', 'sgd', 'adam']},\n",
       "             scoring='accuracy', verbose=1)"
      ]
     },
     "execution_count": 43,
     "metadata": {},
     "output_type": "execute_result"
    }
   ],
   "source": [
    "# MLPClassifier\n",
    "regEstimator = MLPClassifier()\n",
    "\n",
    "pipeline = Pipeline([\n",
    "    ('scale', scl),\n",
    "    ('PCA',PCA(n_components=15, svd_solver='auto')),\n",
    "    ('clf', regEstimator),\\\n",
    "])\n",
    "\n",
    "parameters = { 'clf__alpha': [0.01, 1, 10, 100, 1000]\n",
    "              ,'clf__random_state': [5]\n",
    "              ,'clf__solver': ['lbfgs','sgd', 'adam']\n",
    "              ,'clf__learning_rate':['constant', 'invscaling']\n",
    "              ,'clf__max_iter':[200,500]\n",
    "             }\n",
    "\n",
    "regGridSearch = GridSearchCV(pipeline, param_grid=parameters, cv=cv, n_jobs=7, verbose=1, scoring='accuracy')\n",
    "\n",
    "regGridSearch.fit(model_clean_x, model_clean_y)"
   ]
  },
  {
   "cell_type": "code",
   "execution_count": 44,
   "metadata": {},
   "outputs": [
    {
     "data": {
      "text/plain": [
       "Pipeline(steps=[('scale', StandardScaler()), ('PCA', PCA(n_components=15)),\n",
       "                ('clf',\n",
       "                 MLPClassifier(alpha=100, random_state=5, solver='lbfgs'))])"
      ]
     },
     "execution_count": 44,
     "metadata": {},
     "output_type": "execute_result"
    }
   ],
   "source": [
    "regGridSearch.best_estimator_"
   ]
  },
  {
   "cell_type": "code",
   "execution_count": 45,
   "metadata": {},
   "outputs": [
    {
     "name": "stdout",
     "output_type": "stream",
     "text": [
      "The average accuracy for all cv folds is: \t\t\t 0.90404\n",
      "The average precision for all cv folds is: \t\t\t 0.90794\n",
      "The average recall for all cv folds is: \t\t\t 0.96374\n",
      "*********************************************************\n",
      "Cross Validation Fold Mean Error Scores\n"
     ]
    },
    {
     "data": {
      "text/html": [
       "<div>\n",
       "<style scoped>\n",
       "    .dataframe tbody tr th:only-of-type {\n",
       "        vertical-align: middle;\n",
       "    }\n",
       "\n",
       "    .dataframe tbody tr th {\n",
       "        vertical-align: top;\n",
       "    }\n",
       "\n",
       "    .dataframe thead th {\n",
       "        text-align: right;\n",
       "    }\n",
       "</style>\n",
       "<table border=\"1\" class=\"dataframe\">\n",
       "  <thead>\n",
       "    <tr style=\"text-align: right;\">\n",
       "      <th></th>\n",
       "      <th>Accuracy</th>\n",
       "      <th>Precision</th>\n",
       "      <th>Recall</th>\n",
       "    </tr>\n",
       "  </thead>\n",
       "  <tbody>\n",
       "    <tr>\n",
       "      <th>0</th>\n",
       "      <td>0.905630</td>\n",
       "      <td>0.909239</td>\n",
       "      <td>0.964528</td>\n",
       "    </tr>\n",
       "    <tr>\n",
       "      <th>1</th>\n",
       "      <td>0.901846</td>\n",
       "      <td>0.905718</td>\n",
       "      <td>0.963235</td>\n",
       "    </tr>\n",
       "    <tr>\n",
       "      <th>2</th>\n",
       "      <td>0.903622</td>\n",
       "      <td>0.906430</td>\n",
       "      <td>0.965067</td>\n",
       "    </tr>\n",
       "    <tr>\n",
       "      <th>3</th>\n",
       "      <td>0.904935</td>\n",
       "      <td>0.909489</td>\n",
       "      <td>0.963127</td>\n",
       "    </tr>\n",
       "    <tr>\n",
       "      <th>4</th>\n",
       "      <td>0.902850</td>\n",
       "      <td>0.909648</td>\n",
       "      <td>0.959672</td>\n",
       "    </tr>\n",
       "    <tr>\n",
       "      <th>5</th>\n",
       "      <td>0.903931</td>\n",
       "      <td>0.906212</td>\n",
       "      <td>0.965818</td>\n",
       "    </tr>\n",
       "    <tr>\n",
       "      <th>6</th>\n",
       "      <td>0.905321</td>\n",
       "      <td>0.906958</td>\n",
       "      <td>0.967005</td>\n",
       "    </tr>\n",
       "    <tr>\n",
       "      <th>7</th>\n",
       "      <td>0.899753</td>\n",
       "      <td>0.905779</td>\n",
       "      <td>0.959888</td>\n",
       "    </tr>\n",
       "    <tr>\n",
       "      <th>8</th>\n",
       "      <td>0.906935</td>\n",
       "      <td>0.909885</td>\n",
       "      <td>0.965711</td>\n",
       "    </tr>\n",
       "    <tr>\n",
       "      <th>9</th>\n",
       "      <td>0.905545</td>\n",
       "      <td>0.910054</td>\n",
       "      <td>0.963338</td>\n",
       "    </tr>\n",
       "  </tbody>\n",
       "</table>\n",
       "</div>"
      ],
      "text/plain": [
       "   Accuracy  Precision    Recall\n",
       "0  0.905630   0.909239  0.964528\n",
       "1  0.901846   0.905718  0.963235\n",
       "2  0.903622   0.906430  0.965067\n",
       "3  0.904935   0.909489  0.963127\n",
       "4  0.902850   0.909648  0.959672\n",
       "5  0.903931   0.906212  0.965818\n",
       "6  0.905321   0.906958  0.967005\n",
       "7  0.899753   0.905779  0.959888\n",
       "8  0.906935   0.909885  0.965711\n",
       "9  0.905545   0.910054  0.963338"
      ]
     },
     "execution_count": 45,
     "metadata": {},
     "output_type": "execute_result"
    }
   ],
   "source": [
    "classifierEst_7 = regGridSearch.best_estimator_\n",
    "\n",
    "EvaluateClassifierEstimator(classifierEst_7, X_b, y_b, cv)"
   ]
  },
  {
   "cell_type": "markdown",
   "metadata": {},
   "source": [
    "## Modeling and Evaluation 4"
   ]
  },
  {
   "cell_type": "markdown",
   "metadata": {},
   "source": [
    "Below are the ROC curves for all the models considering Satisfaction as the predicted feature. We can observe from the AUC of the ROC that Random Forest classifer and Neural network classifier highest AUC (approx. 0.99). "
   ]
  },
  {
   "cell_type": "code",
   "execution_count": 51,
   "metadata": {},
   "outputs": [],
   "source": [
    "# ROC for all models for satisfaction classification\n",
    "from sklearn.metrics import roc_curve, roc_auc_score\n",
    "from sklearn.model_selection import train_test_split\n",
    "from sklearn import preprocessing\n",
    "\n",
    "\n",
    "classifiers_a = [LogisticRegression(C=1000, class_weight='balanced',\n",
    "                                    random_state=5, solver='liblinear'), \n",
    "               DecisionTreeClassifier(class_weight='balanced',\n",
    "                                        criterion='entropy', max_depth=10,\n",
    "                                        random_state=5),\n",
    "               RandomForestClassifier(class_weight='balanced', max_depth=20,n_jobs=7,\n",
    "                                        n_estimators=200, random_state=5),\n",
    "               SVC(C=1, gamma='auto',degree=3,kernel='rbf',random_state=5,probability=True),\n",
    "               MLPClassifier(alpha=10, max_iter=500, random_state=5,\n",
    "                               solver='lbfgs')]\n",
    "\n",
    "X_train_a, X_test_a, y_train_a, y_test_a = train_test_split(X_a, y_a, random_state=5, test_size=0.2,stratify=y_a)\n",
    "scaler_a = preprocessing.StandardScaler().fit(X_train_a)\n",
    "X_train_scaled_a = scaler_a.transform(X_train_a)\n",
    "X_test_scaled_a = scaler_a.transform(X_test_a)\n",
    "\n",
    "result_table_a = pd.DataFrame(columns=['classifiers','fpr','tpr','auc'])\n",
    "\n",
    "# Train the models and record the results\n",
    "for cls in classifiers_a:\n",
    "    model_a = cls.fit(X_train_scaled_a, y_train_a)\n",
    "    yhat_a = model_a.predict_proba(X_test_scaled_a)[::,1]\n",
    "    \n",
    "    fpr, tpr, _ = roc_curve(y_test_a,  yhat_a)\n",
    "    auc = roc_auc_score(y_test_a, yhat_a)\n",
    "    \n",
    "    result_table_a = result_table_a.append({'classifiers':cls.__class__.__name__,\n",
    "                                        'fpr':fpr, \n",
    "                                        'tpr':tpr, \n",
    "                                        'auc':auc}, ignore_index=True)\n"
   ]
  },
  {
   "cell_type": "code",
   "execution_count": 52,
   "metadata": {},
   "outputs": [],
   "source": [
    "result_table_a.set_index('classifiers', inplace=True)"
   ]
  },
  {
   "cell_type": "code",
   "execution_count": 53,
   "metadata": {
    "scrolled": false
   },
   "outputs": [
    {
     "data": {
      "image/png": "[encoded data removed]",
      "text/plain": [
       "<Figure size 576x432 with 1 Axes>"
      ]
     },
     "metadata": {},
     "output_type": "display_data"
    }
   ],
   "source": [
    "%matplotlib inline\n",
    "import matplotlib.pyplot as plt\n",
    "import seaborn as sns\n",
    "sns.set()\n",
    "\n",
    "fig = plt.figure(figsize=(8,6))\n",
    "\n",
    "for i in result_table_a.index:\n",
    "    plt.plot(result_table_a.loc[i]['fpr'], \n",
    "             result_table_a.loc[i]['tpr'], \n",
    "             label=\"{}, AUC={:.3f}\".format(i, result_table_a.loc[i]['auc']))\n",
    "    \n",
    "plt.plot([0,1], [0,1], color='orange', linestyle='--')\n",
    "\n",
    "plt.xticks(np.arange(0.0, 1.1, step=0.1))\n",
    "plt.xlabel(\"Flase Positive Rate\", fontsize=15)\n",
    "\n",
    "plt.yticks(np.arange(0.0, 1.1, step=0.1))\n",
    "plt.ylabel(\"True Positive Rate\", fontsize=15)\n",
    "\n",
    "plt.title('ROC Curve Analysis for Statisfaction Classification', fontweight='bold', fontsize=15)\n",
    "plt.legend(prop={'size':13}, loc='lower right')\n",
    "\n",
    "plt.show()"
   ]
  },
  {
   "cell_type": "markdown",
   "metadata": {},
   "source": [
    "Below are the ROC curves for all the models considering Cleanliness as predicted feature. We can observe from the AUC of the ROC that Random Forest classifer and Neural network classifier highest AUC (approx. 0.97). "
   ]
  },
  {
   "cell_type": "code",
   "execution_count": 54,
   "metadata": {},
   "outputs": [],
   "source": [
    "# ROC for all models for cleanliness classification\n",
    "\n",
    "classifiers_b = [LogisticRegression(C=10, class_weight='balanced',\n",
    "                                    random_state=5, solver='liblinear'), \n",
    "               DecisionTreeClassifier(class_weight='balanced',\n",
    "                                        criterion='entropy', max_depth=50,\n",
    "                                        random_state=5),\n",
    "               RandomForestClassifier(class_weight='balanced',\n",
    "                                        criterion='entropy', max_depth=50,n_jobs=7,\n",
    "                                        n_estimators=150, random_state=5),\n",
    "               SVC(C=1, gamma='auto',degree=3,kernel='rbf',random_state=5,probability=True),\n",
    "               MLPClassifier(alpha=100, max_iter=500, random_state=5,\n",
    "                               solver='lbfgs')]\n",
    "\n",
    "X_train_b, X_test_b, y_train_b, y_test_b = train_test_split(X_b, y_b, random_state=5, test_size=0.2,stratify=y_b)\n",
    "scaler_b = preprocessing.StandardScaler().fit(X_train_b)\n",
    "X_train_scaled_b = scaler_b.transform(X_train_b)\n",
    "X_test_scaled_b = scaler_b.transform(X_test_b)\n",
    "\n",
    "result_table_b = pd.DataFrame(columns=['classifiers', 'fpr','tpr','auc'])\n",
    "\n",
    "# Train the models and record the results\n",
    "for cls in classifiers_b:\n",
    "    model_b = cls.fit(X_train_scaled_b, y_train_b)\n",
    "    yhat_b = model_b.predict_proba(X_test_scaled_b)[::,1]\n",
    "    \n",
    "    fpr, tpr, _ = roc_curve(y_test_b,  yhat_b)\n",
    "    auc = roc_auc_score(y_test_b, yhat_b)\n",
    "    \n",
    "    result_table_b = result_table_b.append({'classifiers':cls.__class__.__name__,\n",
    "                                        'fpr':fpr, \n",
    "                                        'tpr':tpr, \n",
    "                                        'auc':auc}, ignore_index=True)\n",
    "\n",
    "# Set name of the classifiers as index labels\n",
    "result_table_b.set_index('classifiers', inplace=True)"
   ]
  },
  {
   "cell_type": "code",
   "execution_count": 55,
   "metadata": {
    "scrolled": false
   },
   "outputs": [
    {
     "data": {
      "image/png": "[encoded data removed]",
      "text/plain": [
       "<Figure size 720x576 with 1 Axes>"
      ]
     },
     "metadata": {},
     "output_type": "display_data"
    }
   ],
   "source": [
    "fig = plt.figure(figsize=(10,8))\n",
    "\n",
    "for i in result_table_b.index:\n",
    "    plt.plot(result_table_b.loc[i]['fpr'], \n",
    "             result_table_b.loc[i]['tpr'], \n",
    "             label=\"{}, AUC={:.3f}\".format(i, result_table_b.loc[i]['auc']))\n",
    "    \n",
    "plt.plot([0,1], [0,1], color='orange', linestyle='--')\n",
    "\n",
    "plt.xticks(np.arange(0.0, 1.1, step=0.1))\n",
    "plt.xlabel(\"Flase Positive Rate\", fontsize=15)\n",
    "\n",
    "plt.yticks(np.arange(0.0, 1.1, step=0.1))\n",
    "plt.ylabel(\"True Positive Rate\", fontsize=15)\n",
    "\n",
    "plt.title('ROC Curve Analysis for Cleanliness Classification', fontweight='bold', fontsize=15)\n",
    "plt.legend(prop={'size':13}, loc='lower right')\n",
    "\n",
    "plt.show()"
   ]
  },
  {
   "cell_type": "markdown",
   "metadata": {},
   "source": [
    "## Modeling and Evaluation 5"
   ]
  },
  {
   "cell_type": "code",
   "execution_count": 76,
   "metadata": {},
   "outputs": [
    {
     "name": "stdout",
     "output_type": "stream",
     "text": [
      "Random Forest accuracy: 96.02%\n",
      "Multi-layer Perceptron accuracy: 95.90%\n"
     ]
    }
   ],
   "source": [
    "#Satisfaction classification shows Random Forest and MLP classifers have top two accuracies \n",
    "from mlxtend.evaluate import paired_ttest_5x2cv\n",
    "\n",
    "clf1_a = RandomForestClassifier(class_weight='balanced', max_depth=20,n_jobs=7, n_estimators=200, random_state=5)\n",
    "clf2_a = MLPClassifier(alpha=10, max_iter=500, random_state=5, solver='lbfgs')\n",
    "\n",
    "score1_a = clf1_a.fit(X_train_scaled_a, y_train_a).score(X_test_scaled_a, y_test_a)\n",
    "score2_a = clf2_a.fit(X_train_scaled_a, y_train_a).score(X_test_scaled_a, y_test_a)\n",
    "\n",
    "print('Random Forest accuracy: %.2f%%' % (score1_a*100))\n",
    "print('Multi-layer Perceptron accuracy: %.2f%%' % (score2_a*100))"
   ]
  },
  {
   "cell_type": "code",
   "execution_count": 77,
   "metadata": {},
   "outputs": [
    {
     "name": "stdout",
     "output_type": "stream",
     "text": [
      "t statistic: 2.278\n",
      "p value: 0.072\n"
     ]
    }
   ],
   "source": [
    "t, p = paired_ttest_5x2cv(estimator1=clf1_a, estimator2=clf2_a, X=X_a, y=y_a, random_seed=5)\n",
    "\n",
    "print('t statistic: %.3f' % t)\n",
    "print('p value: %.3f' % p)"
   ]
  },
  {
   "cell_type": "code",
   "execution_count": 78,
   "metadata": {},
   "outputs": [
    {
     "name": "stdout",
     "output_type": "stream",
     "text": [
      "Random Forest accuracy: 91.93%\n",
      "Multi-layer Perceptron accuracy: 91.64%\n"
     ]
    }
   ],
   "source": [
    "#Cleanliness classification shows Random Forest and MLP classifers have top two accuracies\n",
    "clf1_b = RandomForestClassifier(class_weight='balanced', criterion='entropy', max_depth=50,n_jobs=7, n_estimators=150, random_state=5)\n",
    "clf2_b = MLPClassifier(alpha=100, max_iter=500, random_state=5, solver='lbfgs')\n",
    "\n",
    "score1_b = clf1_b.fit(X_train_scaled_b, y_train_b).score(X_test_scaled_b, y_test_b)\n",
    "score2_b = clf2_b.fit(X_train_scaled_b, y_train_b).score(X_test_scaled_b, y_test_b)\n",
    "\n",
    "print('Random Forest accuracy: %.2f%%' % (score1_b*100))\n",
    "print('Multi-layer Perceptron accuracy: %.2f%%' % (score2_b*100))"
   ]
  },
  {
   "cell_type": "code",
   "execution_count": null,
   "metadata": {},
   "outputs": [],
   "source": [
    "t, p = paired_ttest_5x2cv(estimator1=clf1_b, estimator2=clf2_b, X=X_b, y=y_b, random_seed=5)\n",
    "\n",
    "print('t statistic: %.3f' % t)\n",
    "print('p value: %.3f' % p)"
   ]
  },
  {
   "cell_type": "markdown",
   "metadata": {},
   "source": [
    "## Modeling and Evaluation 6\n",
    "\n",
    "#### Satisfaction Classification Important features\n",
    "\n",
    "As random forest model gave the highest accuracy of all the models, the important features and un important features for the satisfaction classification are discussed as below:"
   ]
  },
  {
   "cell_type": "code",
   "execution_count": 62,
   "metadata": {},
   "outputs": [
    {
     "data": {
      "text/plain": [
       "RandomForestClassifier(class_weight='balanced', max_depth=50, n_estimators=200,\n",
       "                       random_state=5)"
      ]
     },
     "execution_count": 62,
     "metadata": {},
     "output_type": "execute_result"
    }
   ],
   "source": [
    "scaler = StandardScaler()\n",
    "scaler.fit(X_a)\n",
    "\n",
    "#Transform training data to z-scores\n",
    "#This makes our model's coefficients take on the same scale for accurate feature importance analisys \n",
    "X_a_Scl = scaler.transform(X_a)\n",
    "\n",
    "regEstimator_a = RandomForestClassifier(class_weight='balanced', max_depth=50, n_estimators=200, random_state=5)\n",
    "regEstimator_a.fit(X_a_Scl, y_a)"
   ]
  },
  {
   "cell_type": "code",
   "execution_count": 67,
   "metadata": {},
   "outputs": [],
   "source": [
    "weights = regEstimator_a.feature_importances_.ravel()\n",
    "feature_names = airline_df_dummy_satisfied.drop('satisfaction', axis=1).copy().columns.values                  \n",
    "linreg_ft_imp_df = pd.DataFrame({'feature_names':feature_names, 'weights':weights, 'absolute_weights': np.abs(weights)})\n",
    "linreg_ft_imp_df.sort_values(by='absolute_weights', inplace=True, ascending=False )"
   ]
  },
  {
   "cell_type": "code",
   "execution_count": 68,
   "metadata": {},
   "outputs": [
    {
     "data": {
      "image/png": "[encoded data removed]",
      "text/plain": [
       "<Figure size 1440x576 with 1 Axes>"
      ]
     },
     "metadata": {},
     "output_type": "display_data"
    }
   ],
   "source": [
    "plt.style.use('ggplot')\n",
    "\n",
    "wt_plt_df = linreg_ft_imp_df.head(75)\n",
    "\n",
    "weights = pd.Series(wt_plt_df['weights'].values,index=wt_plt_df['feature_names'])\n",
    "ax = weights.plot(kind='bar', figsize=(20,8))\n",
    "\n",
    "ax.set_title(\"Top Feature Correlations for Satisfaction Classification\")\n",
    "ax.set_ylabel(\"Coefficient Magnitude\\n(z-score)\")\n",
    "ax.set_xlabel(\"Feature Names\")\n",
    "plt.show()"
   ]
  },
  {
   "cell_type": "markdown",
   "metadata": {},
   "source": [
    "From the above graph: 3 Important features that contribute to satisfaction\n",
    "- infight wifi service\n",
    "- online boarding\n",
    "- customer_class_business\n",
    "\n",
    "The features of lower contribution for satisfaction:\n",
    "- departure/arrival delay range_2 (>90 min)\n",
    "- arrival/arrival delay range_1 (>30-90min)\n",
    "- age range 2 (>65 years)\n",
    "\n",
    "The airliners should mostly concentrate on inflight wifi service and pleasent online boarding as these two are the major contributors for satisfaction.\n",
    "\n",
    "\n",
    "#### Cleanliness Classification Important features"
   ]
  },
  {
   "cell_type": "code",
   "execution_count": 69,
   "metadata": {},
   "outputs": [
    {
     "data": {
      "text/plain": [
       "RandomForestClassifier(class_weight='balanced', criterion='entropy',\n",
       "                       max_depth=50, n_estimators=150, random_state=5)"
      ]
     },
     "execution_count": 69,
     "metadata": {},
     "output_type": "execute_result"
    }
   ],
   "source": [
    "scaler.fit(X_b)\n",
    "\n",
    "X_b_Scl = scaler.transform(X_b)\n",
    "\n",
    "regEstimator_b = RandomForestClassifier(class_weight='balanced',criterion='entropy', max_depth=50, n_estimators=150, random_state=5)\n",
    "regEstimator_b.fit(X_b_Scl, y_b)"
   ]
  },
  {
   "cell_type": "code",
   "execution_count": 70,
   "metadata": {},
   "outputs": [],
   "source": [
    "weights = regEstimator_b.feature_importances_.ravel()\n",
    "feature_names = airline_df_dummy_clean.drop('clean', axis=1).copy().columns.values                                  \n",
    "linreg_ft_imp_df = pd.DataFrame({'feature_names':feature_names, 'weights':weights, 'absolute_weights': np.abs(weights)})\n",
    "linreg_ft_imp_df.sort_values(by='absolute_weights', inplace=True, ascending=False )"
   ]
  },
  {
   "cell_type": "code",
   "execution_count": 71,
   "metadata": {},
   "outputs": [
    {
     "data": {
      "image/png": "[encoded data removed]",
      "text/plain": [
       "<Figure size 1440x576 with 1 Axes>"
      ]
     },
     "metadata": {},
     "output_type": "display_data"
    }
   ],
   "source": [
    "plt.style.use('ggplot')\n",
    "\n",
    "wt_plt_df = linreg_ft_imp_df.head(75)\n",
    "\n",
    "weights = pd.Series(wt_plt_df['weights'].values,index=wt_plt_df['feature_names'])\n",
    "ax = weights.plot(kind='bar', figsize=(20,8))\n",
    "\n",
    "ax.set_title(\"Top Feature Correlations for Cleanliness Classification\")\n",
    "ax.set_ylabel(\"Coefficient Magnitude\\n(z-score)\")\n",
    "ax.set_xlabel(\"Feature Names\")\n",
    "plt.show()"
   ]
  },
  {
   "cell_type": "markdown",
   "metadata": {},
   "source": [
    "From the above graph: 3 Important features that contribute to cleanliness\n",
    "- food and drink\n",
    "- inflight entertainment\n",
    "- wifi_comfort\n",
    "\n",
    "The features of lower contribution for cleanliness:\n",
    "- age_range 0 (<16 years)\n",
    "- customer_class_ECO_Plus\n",
    "- age range 1/2 (16-65 years)\n",
    "\n",
    "It is interesting to note that all the age ranges does not contribute to cleanliness.\n"
   ]
  },
  {
   "cell_type": "markdown",
   "metadata": {},
   "source": [
    "## 4. Deployment"
   ]
  },
  {
   "cell_type": "markdown",
   "metadata": {},
   "source": [
    "The models built have proven to be very accurate for predicting flight satisfaction and cleanliness, 95% and 92% respectively.  \n",
    "Companies that may find this useful would-be airline companies such as United, Southwest, Delta etc.  They could offer surveys to their customers during or after the flight for all the inputs that would not already be in their databases and use these to predict satisfaction or cleanliness.  With the recent events of the pandemic, cleanliness is more important now than ever, while it might be obtuse or in poor taste to ask outright what a customer’s thought on cleanliness of the flight was, using the model based on correlated variables will give the airlines the statistics they need to improve it.\n",
    "\n",
    "In addition, other vendors could find these models useful.  By referencing the variables that have the highest feature correlation to that of flight satisfaction or cleanliness, vendors can use this info to sell to new technology or services airlines and be part of their supply chain, or other companies specializing in travel accessories can market these directly to consumers.\n",
    "\n",
    "\n",
    "To deploy the model there are multiple options that would available to the end customer.  Firstly, the full code and all documentation would be placed on a private GitHub to be given to the client.  This can be used or referenced by their development team, auditors etc. or anyone at the customer who needs access to the raw code and full documentation.  There are multiple choices for how the end code can be used by the customer\n",
    "\n",
    "1. Jupyter notebook: Depending on the python and technical skills of the customers employees, a simple jupyter notebook could be built that would allow the customer to manually upload a CSV or excel file to run predictions on new or existing data.\n",
    "\n",
    "2. Web app deployment:  If the company is less technically savvy then a webapp using Django/Flask framework can be created to make operational use of the models very easy.  Similar as above, there could be a button that allows manual uploading of excel/csv files or from a database to allow the customer to run the model without any python coding.\n",
    "\n",
    "3. Python Executable:  If the customer does not want to pay to host a webapp on the cloud, another option would be to create an executable using pyinstaller.  This would function similar to the webapp but would be run locally on the customers desktop and python skills are not needed to run.\n",
    "\n",
    "\n",
    "While the model is useful and accurate now, there could be external factors such as new technologies, pandemics, competition, etc that could create or change the factors that influence overall flight satisfaction and cleanliness.  When possible data should continuously be collected so the model can be rerun with the latest data for training purposes.  Airline companies can use incentive-based surveys to get all of the ordinal ranking information from their customer base whenever possible.  The original dataset contains ~130K records.  As new datapoints are gathered it is advised to remove the oldest from the dataset and on a quarterly basis rerun the models to be up to date with current trends.\n"
   ]
  },
  {
   "cell_type": "markdown",
   "metadata": {},
   "source": [
    "# MG's\n",
    "\n",
    "## Add Two portions of PCA code to show how many components we need\n",
    "\n",
    "## Add info() and describe() for final data\n",
    "\n",
    "## Why we chose to use accuracy, precision and recall as our data measurement\n",
    "\n",
    "## Answer bottom three questions(ROC Curve, pair t test and attributes weight analysis)\n",
    "\n",
    "\n",
    "# Zach's \n",
    "\n",
    "## Why we chose stratified K fold to split the data\n",
    "\n",
    "## Deployment writeup\n",
    "\n",
    "## Bold the exceptional work we did"
   ]
  }
 ],
 "metadata": {
  "kernelspec": {
   "display_name": "Python 3",
   "language": "python",
   "name": "python3"
  },
  "language_info": {
   "codemirror_mode": {
    "name": "ipython",
    "version": 3
   },
   "file_extension": ".py",
   "mimetype": "text/x-python",
   "name": "python",
   "nbconvert_exporter": "python",
   "pygments_lexer": "ipython3",
   "version": "3.8.5"
  }
 },
 "nbformat": 4,
 "nbformat_minor": 5
}
